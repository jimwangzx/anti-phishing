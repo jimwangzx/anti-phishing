{
 "cells": [
  {
   "cell_type": "markdown",
   "metadata": {
    "pycharm": {
     "is_executing": false,
     "name": "#%% md\n"
    }
   },
   "source": [
    "#!pip install --upgrade coremltools"
   ]
  },
  {
   "cell_type": "code",
   "execution_count": 1,
   "outputs": [
    {
     "name": "stderr",
     "output_type": "stream",
     "text": [
      "WARNING:root:TensorFlow version 2.3.0 detected. Last version known to be fully compatible is 1.14.0 .\n",
      "WARNING:root:Keras version 2.3.1 detected. Last version known to be fully compatible of Keras is 2.2.4 .\n"
     ]
    },
    {
     "data": {
      "text/plain": "23"
     },
     "execution_count": 1,
     "metadata": {},
     "output_type": "execute_result"
    }
   ],
   "source": [
    "import coremltools\n",
    "from coremltools.converters import sklearn\n",
    "\n",
    "dict = {'account':42.11758, 'member':19.31017, 'access':17.05149, 'email':16.6749, 'address':15.3276,\n",
    "             'update':15.3276, 'price':12.55556, 'market':10.23963, 'online':9.770984, 'information':9.474589,\n",
    "             'work':8.331161, 'credit':5.883471, 'response':4.504742, 'offer':3.3573, 'transaction':2.809165,\n",
    "             'agreement':1.863823, 'registration':1.791679, 'person':1.522086, 'system':1.276965,\n",
    "             'process':1.076627, 'service':0.895862, 'request':0.616316, 'message':0.32805}\n",
    "\n",
    "key_words = ['account', 'member', 'access', 'email', 'address',\n",
    "             'update', 'price', 'market', 'online', 'information',\n",
    "             'work', 'credit', 'response', 'offer', 'transaction',\n",
    "             'agreement', 'registration', 'person', 'system',\n",
    "             'process', 'service', 'request', 'message']\n",
    "\n",
    "# key_words = ['account', 'member', 'access', 'email', 'address',\n",
    "#              'update', 'price', 'market', 'online', 'information',\n",
    "#              'work', 'credit', 'response', 'offer', 'transaction',\n",
    "#              'agreement', 'offer', 'registration']\n",
    "\n",
    "len(key_words)"
   ],
   "metadata": {
    "collapsed": false,
    "pycharm": {
     "name": "#%%\n"
    }
   }
  },
  {
   "cell_type": "code",
   "execution_count": 2,
   "metadata": {
    "pycharm": {
     "name": "#%%\n"
    }
   },
   "outputs": [],
   "source": [
    "class MailContentsFeaturize(object):\n",
    "    def __init__(self, content):\n",
    "        self.content = str(content).lower()\n",
    "        \n",
    "    # 提取特征方法\n",
    "    def contain_key(self, key):\n",
    "        if key in self.content:\n",
    "            # return int(1)\n",
    "            return float(dict[key])\n",
    "        else:\n",
    "            return float(0)\n",
    "    \n",
    "    def run(self):\n",
    "        data = {}\n",
    "        for word in key_words :\n",
    "            data[word] = self.contain_key(word)\n",
    "        return data\n",
    "    \n",
    "    def get_train_data(self):\n",
    "        data = []\n",
    "        for word in key_words :\n",
    "            data.append(self.contain_key(word))\n",
    "        return data"
   ]
  },
  {
   "cell_type": "code",
   "execution_count": 3,
   "metadata": {
    "pycharm": {
     "is_executing": false,
     "name": "#%%\n"
    }
   },
   "outputs": [],
   "source": [
    "import re, string\n",
    "\n",
    "def clean_text(text):\n",
    "    text = text.encode('utf-8').decode('utf-8')\n",
    "    while '\\n' in text:\n",
    "        text = text.replace('\\n', ' ')\n",
    "    while '  ' in text:\n",
    "        text = text.replace('  ', ' ')\n",
    "    words = text.split()\n",
    "    regex = re.compile('[%s]' % re.escape(string.punctuation))\n",
    "    stripped = []\n",
    "    for token in words: \n",
    "        new_token = regex.sub(u'', token)\n",
    "        if not new_token == u'':\n",
    "            stripped.append(new_token.lower())\n",
    "    text = ' '.join(stripped)\n",
    "    return text"
   ]
  },
  {
   "cell_type": "code",
   "execution_count": 4,
   "metadata": {
    "pycharm": {
     "is_executing": false,
     "name": "#%%\n"
    }
   },
   "outputs": [],
   "source": [
    "import os\n",
    "\n",
    "def get_data(path):\n",
    "    text_list = list()\n",
    "    files = os.listdir(path)\n",
    "    for text_file in files:\n",
    "        file_path = os.path.join(path, text_file)\n",
    "        read_file = open(file_path,'r+')\n",
    "        read_text = read_file.read()\n",
    "        read_file.close()\n",
    "        cleaned_text = clean_text(read_text)\n",
    "        # append text\n",
    "        # text_list.append(cleaned_text)\n",
    "        \n",
    "        featurized = MailContentsFeaturize(cleaned_text)\n",
    "        # append features\n",
    "        # text_list.append(featurized.run())\n",
    "        text_list.append(featurized.get_train_data())\n",
    "    return text_list, files"
   ]
  },
  {
   "cell_type": "code",
   "execution_count": 5,
   "metadata": {
    "pycharm": {
     "is_executing": false,
     "name": "#%%\n"
    }
   },
   "outputs": [],
   "source": [
    "# 读取数据\n",
    "import pandas as pd\n",
    "train_1_data = pd.read_csv('../output/train_1.csv')\n",
    "train_2_data = pd.read_csv('../output/train_2.csv')\n"
   ]
  },
  {
   "cell_type": "code",
   "execution_count": 6,
   "outputs": [
    {
     "data": {
      "text/plain": "   Unnamed: 0                                                  0  1\n0           0  Looks good to me.  Are we certain that all of ...  0\n1           1  Greg, how big was that last check you told me ...  0\n2           2  <table border=0 width=\"100%\" cellpadding=\"8\"  ...  1\n3           3  Hello everyone:\\n\\nIf you were not able to acc...  0\n4           4  I have a customer in town Thursday night, so w...  0",
      "text/html": "<div>\n<style scoped>\n    .dataframe tbody tr th:only-of-type {\n        vertical-align: middle;\n    }\n\n    .dataframe tbody tr th {\n        vertical-align: top;\n    }\n\n    .dataframe thead th {\n        text-align: right;\n    }\n</style>\n<table border=\"1\" class=\"dataframe\">\n  <thead>\n    <tr style=\"text-align: right;\">\n      <th></th>\n      <th>Unnamed: 0</th>\n      <th>0</th>\n      <th>1</th>\n    </tr>\n  </thead>\n  <tbody>\n    <tr>\n      <th>0</th>\n      <td>0</td>\n      <td>Looks good to me.  Are we certain that all of ...</td>\n      <td>0</td>\n    </tr>\n    <tr>\n      <th>1</th>\n      <td>1</td>\n      <td>Greg, how big was that last check you told me ...</td>\n      <td>0</td>\n    </tr>\n    <tr>\n      <th>2</th>\n      <td>2</td>\n      <td>&lt;table border=0 width=\"100%\" cellpadding=\"8\"  ...</td>\n      <td>1</td>\n    </tr>\n    <tr>\n      <th>3</th>\n      <td>3</td>\n      <td>Hello everyone:\\n\\nIf you were not able to acc...</td>\n      <td>0</td>\n    </tr>\n    <tr>\n      <th>4</th>\n      <td>4</td>\n      <td>I have a customer in town Thursday night, so w...</td>\n      <td>0</td>\n    </tr>\n  </tbody>\n</table>\n</div>"
     },
     "metadata": {},
     "output_type": "execute_result",
     "execution_count": 6
    }
   ],
   "source": [
    "train_1_pd = pd.DataFrame(train_1_data)\n",
    "train_1_pd.head()\n"
   ],
   "metadata": {
    "collapsed": false,
    "pycharm": {
     "name": "#%%\n",
     "is_executing": false
    }
   }
  },
  {
   "cell_type": "code",
   "execution_count": 7,
   "outputs": [
    {
     "data": {
      "text/plain": "Index(['Unnamed: 0', '0', '1'], dtype='object')"
     },
     "metadata": {},
     "output_type": "execute_result",
     "execution_count": 7
    }
   ],
   "source": [
    "train_1_pd.columns\n"
   ],
   "metadata": {
    "collapsed": false,
    "pycharm": {
     "name": "#%%\n",
     "is_executing": false
    }
   }
  },
  {
   "cell_type": "code",
   "execution_count": 8,
   "outputs": [
    {
     "data": {
      "text/plain": "   Unnamed: 0                                                  0  1  account  \\\n0           0  Looks good to me.  Are we certain that all of ...  0      0.0   \n1           1  Greg, how big was that last check you told me ...  0      0.0   \n2           2  <table border=0 width=\"100%\" cellpadding=\"8\"  ...  1      0.0   \n3           3  Hello everyone:\\n\\nIf you were not able to acc...  0      0.0   \n4           4  I have a customer in town Thursday night, so w...  0      0.0   \n\n   member    access    email  address  update     price  ...  offer  \\\n0     0.0   0.00000   0.0000   0.0000     0.0  12.55556  ...    0.0   \n1     0.0   0.00000   0.0000   0.0000     0.0   0.00000  ...    0.0   \n2     0.0   0.00000  16.6749  15.3276     0.0   0.00000  ...    0.0   \n3     0.0  17.05149   0.0000   0.0000     0.0   0.00000  ...    0.0   \n4     0.0   0.00000   0.0000   0.0000     0.0   0.00000  ...    0.0   \n\n   transaction  agreement  registration    person  system  process  service  \\\n0     2.809165        0.0           0.0  0.000000     0.0      0.0      0.0   \n1     0.000000        0.0           0.0  0.000000     0.0      0.0      0.0   \n2     2.809165        0.0           0.0  1.522086     0.0      0.0      0.0   \n3     0.000000        0.0           0.0  0.000000     0.0      0.0      0.0   \n4     0.000000        0.0           0.0  0.000000     0.0      0.0      0.0   \n\n    request  message  \n0  0.000000  0.00000  \n1  0.000000  0.00000  \n2  0.616316  0.00000  \n3  0.616316  0.00000  \n4  0.000000  0.32805  \n\n[5 rows x 26 columns]",
      "text/html": "<div>\n<style scoped>\n    .dataframe tbody tr th:only-of-type {\n        vertical-align: middle;\n    }\n\n    .dataframe tbody tr th {\n        vertical-align: top;\n    }\n\n    .dataframe thead th {\n        text-align: right;\n    }\n</style>\n<table border=\"1\" class=\"dataframe\">\n  <thead>\n    <tr style=\"text-align: right;\">\n      <th></th>\n      <th>Unnamed: 0</th>\n      <th>0</th>\n      <th>1</th>\n      <th>account</th>\n      <th>member</th>\n      <th>access</th>\n      <th>email</th>\n      <th>address</th>\n      <th>update</th>\n      <th>price</th>\n      <th>...</th>\n      <th>offer</th>\n      <th>transaction</th>\n      <th>agreement</th>\n      <th>registration</th>\n      <th>person</th>\n      <th>system</th>\n      <th>process</th>\n      <th>service</th>\n      <th>request</th>\n      <th>message</th>\n    </tr>\n  </thead>\n  <tbody>\n    <tr>\n      <th>0</th>\n      <td>0</td>\n      <td>Looks good to me.  Are we certain that all of ...</td>\n      <td>0</td>\n      <td>0.0</td>\n      <td>0.0</td>\n      <td>0.00000</td>\n      <td>0.0000</td>\n      <td>0.0000</td>\n      <td>0.0</td>\n      <td>12.55556</td>\n      <td>...</td>\n      <td>0.0</td>\n      <td>2.809165</td>\n      <td>0.0</td>\n      <td>0.0</td>\n      <td>0.000000</td>\n      <td>0.0</td>\n      <td>0.0</td>\n      <td>0.0</td>\n      <td>0.000000</td>\n      <td>0.00000</td>\n    </tr>\n    <tr>\n      <th>1</th>\n      <td>1</td>\n      <td>Greg, how big was that last check you told me ...</td>\n      <td>0</td>\n      <td>0.0</td>\n      <td>0.0</td>\n      <td>0.00000</td>\n      <td>0.0000</td>\n      <td>0.0000</td>\n      <td>0.0</td>\n      <td>0.00000</td>\n      <td>...</td>\n      <td>0.0</td>\n      <td>0.000000</td>\n      <td>0.0</td>\n      <td>0.0</td>\n      <td>0.000000</td>\n      <td>0.0</td>\n      <td>0.0</td>\n      <td>0.0</td>\n      <td>0.000000</td>\n      <td>0.00000</td>\n    </tr>\n    <tr>\n      <th>2</th>\n      <td>2</td>\n      <td>&lt;table border=0 width=\"100%\" cellpadding=\"8\"  ...</td>\n      <td>1</td>\n      <td>0.0</td>\n      <td>0.0</td>\n      <td>0.00000</td>\n      <td>16.6749</td>\n      <td>15.3276</td>\n      <td>0.0</td>\n      <td>0.00000</td>\n      <td>...</td>\n      <td>0.0</td>\n      <td>2.809165</td>\n      <td>0.0</td>\n      <td>0.0</td>\n      <td>1.522086</td>\n      <td>0.0</td>\n      <td>0.0</td>\n      <td>0.0</td>\n      <td>0.616316</td>\n      <td>0.00000</td>\n    </tr>\n    <tr>\n      <th>3</th>\n      <td>3</td>\n      <td>Hello everyone:\\n\\nIf you were not able to acc...</td>\n      <td>0</td>\n      <td>0.0</td>\n      <td>0.0</td>\n      <td>17.05149</td>\n      <td>0.0000</td>\n      <td>0.0000</td>\n      <td>0.0</td>\n      <td>0.00000</td>\n      <td>...</td>\n      <td>0.0</td>\n      <td>0.000000</td>\n      <td>0.0</td>\n      <td>0.0</td>\n      <td>0.000000</td>\n      <td>0.0</td>\n      <td>0.0</td>\n      <td>0.0</td>\n      <td>0.616316</td>\n      <td>0.00000</td>\n    </tr>\n    <tr>\n      <th>4</th>\n      <td>4</td>\n      <td>I have a customer in town Thursday night, so w...</td>\n      <td>0</td>\n      <td>0.0</td>\n      <td>0.0</td>\n      <td>0.00000</td>\n      <td>0.0000</td>\n      <td>0.0000</td>\n      <td>0.0</td>\n      <td>0.00000</td>\n      <td>...</td>\n      <td>0.0</td>\n      <td>0.000000</td>\n      <td>0.0</td>\n      <td>0.0</td>\n      <td>0.000000</td>\n      <td>0.0</td>\n      <td>0.0</td>\n      <td>0.0</td>\n      <td>0.000000</td>\n      <td>0.32805</td>\n    </tr>\n  </tbody>\n</table>\n<p>5 rows × 26 columns</p>\n</div>"
     },
     "metadata": {},
     "output_type": "execute_result",
     "execution_count": 8
    }
   ],
   "source": [
    "for word in key_words :\n",
    "    train_1_pd[word] = train_1_pd[\"0\"].apply(lambda i : MailContentsFeaturize(i).contain_key(word))\n",
    "\n",
    "train_1_pd.head()"
   ],
   "metadata": {
    "collapsed": false,
    "pycharm": {
     "name": "#%%\n",
     "is_executing": false
    }
   }
  },
  {
   "cell_type": "code",
   "execution_count": 9,
   "metadata": {
    "pycharm": {
     "is_executing": false,
     "name": "#%%\n"
    }
   },
   "outputs": [],
   "source": [
    "# temp = train_1_pd.drop(\"0\", axis=1)\n",
    "# temp.to_csv('../output/1.csv')"
   ]
  },
  {
   "cell_type": "code",
   "execution_count": 10,
   "outputs": [],
   "source": [
    "import numpy as np\n",
    "# from sklearn.feature_extraction.text import CountVectorizer\n",
    "# tf_vectorizer = CountVectorizer()\n",
    "# X = tf_vectorizer.fit_transform(no_head_train)\n",
    "# print ('#total words', np.matrix.sum(X.todense()))\n",
    "# print ('#unique words',len(set(tf_vectorizer.get_feature_names())))"
   ],
   "metadata": {
    "collapsed": false,
    "pycharm": {
     "name": "#%%\n",
     "is_executing": false
    }
   }
  },
  {
   "cell_type": "code",
   "execution_count": 11,
   "metadata": {
    "pycharm": {
     "is_executing": false,
     "name": "#%%\n"
    }
   },
   "outputs": [],
   "source": [
    "# shuffled_indices = np.random.permutation(len(no_head_labels_train))\n",
    "# train_data = np.array(no_head_train)[shuffled_indices]\n",
    "# train_data = train_data.tolist()\n",
    "# train_label = np.array(no_head_labels_train)[shuffled_indices]\n",
    "# train_label = train_label.tolist()"
   ]
  },
  {
   "cell_type": "code",
   "execution_count": 12,
   "outputs": [
    {
     "data": {
      "text/plain": "   Unnamed: 0                                                  0  1\n0           0  Janet,\\n\\nHere is the model.  I have added uni...  0\n1           1            Maureen,\\n\\nYour presentation:\\n\\nVince  0\n2           2  Kim, please invite the Following Texas Eastern...  0\n3           3  \\n<br>\\n\\n<p dir=\"ltr\" align=\"left\"><b><font c...  1\n4           4  noregrets littlerock2016 alex hoffman democrat...  0",
      "text/html": "<div>\n<style scoped>\n    .dataframe tbody tr th:only-of-type {\n        vertical-align: middle;\n    }\n\n    .dataframe tbody tr th {\n        vertical-align: top;\n    }\n\n    .dataframe thead th {\n        text-align: right;\n    }\n</style>\n<table border=\"1\" class=\"dataframe\">\n  <thead>\n    <tr style=\"text-align: right;\">\n      <th></th>\n      <th>Unnamed: 0</th>\n      <th>0</th>\n      <th>1</th>\n    </tr>\n  </thead>\n  <tbody>\n    <tr>\n      <th>0</th>\n      <td>0</td>\n      <td>Janet,\\n\\nHere is the model.  I have added uni...</td>\n      <td>0</td>\n    </tr>\n    <tr>\n      <th>1</th>\n      <td>1</td>\n      <td>Maureen,\\n\\nYour presentation:\\n\\nVince</td>\n      <td>0</td>\n    </tr>\n    <tr>\n      <th>2</th>\n      <td>2</td>\n      <td>Kim, please invite the Following Texas Eastern...</td>\n      <td>0</td>\n    </tr>\n    <tr>\n      <th>3</th>\n      <td>3</td>\n      <td>\\n&lt;br&gt;\\n\\n&lt;p dir=\"ltr\" align=\"left\"&gt;&lt;b&gt;&lt;font c...</td>\n      <td>1</td>\n    </tr>\n    <tr>\n      <th>4</th>\n      <td>4</td>\n      <td>noregrets littlerock2016 alex hoffman democrat...</td>\n      <td>0</td>\n    </tr>\n  </tbody>\n</table>\n</div>"
     },
     "metadata": {},
     "output_type": "execute_result",
     "execution_count": 12
    }
   ],
   "source": [
    "train_2_pd = pd.DataFrame(train_2_data)\n",
    "train_2_pd.head()"
   ],
   "metadata": {
    "collapsed": false,
    "pycharm": {
     "name": "#%%\n",
     "is_executing": false
    }
   }
  },
  {
   "cell_type": "code",
   "execution_count": 13,
   "outputs": [
    {
     "data": {
      "text/plain": "   Unnamed: 0                                                  0  1   account  \\\n0           0  Janet,\\n\\nHere is the model.  I have added uni...  0   0.00000   \n1           1            Maureen,\\n\\nYour presentation:\\n\\nVince  0   0.00000   \n2           2  Kim, please invite the Following Texas Eastern...  0   0.00000   \n3           3  \\n<br>\\n\\n<p dir=\"ltr\" align=\"left\"><b><font c...  1  42.11758   \n4           4  noregrets littlerock2016 alex hoffman democrat...  0   0.00000   \n\n     member  access  email  address   update  price  ...  offer  transaction  \\\n0   0.00000     0.0    0.0   0.0000   0.0000    0.0  ...    0.0          0.0   \n1   0.00000     0.0    0.0   0.0000   0.0000    0.0  ...    0.0          0.0   \n2   0.00000     0.0    0.0  15.3276   0.0000    0.0  ...    0.0          0.0   \n3  19.31017     0.0    0.0   0.0000  15.3276    0.0  ...    0.0          0.0   \n4   0.00000     0.0    0.0   0.0000   0.0000    0.0  ...    0.0          0.0   \n\n   agreement  registration  person  system  process   service  request  \\\n0        0.0           0.0     0.0     0.0      0.0  0.000000      0.0   \n1        0.0           0.0     0.0     0.0      0.0  0.000000      0.0   \n2        0.0           0.0     0.0     0.0      0.0  0.000000      0.0   \n3        0.0           0.0     0.0     0.0      0.0  0.895862      0.0   \n4        0.0           0.0     0.0     0.0      0.0  0.000000      0.0   \n\n   message  \n0      0.0  \n1      0.0  \n2      0.0  \n3      0.0  \n4      0.0  \n\n[5 rows x 26 columns]",
      "text/html": "<div>\n<style scoped>\n    .dataframe tbody tr th:only-of-type {\n        vertical-align: middle;\n    }\n\n    .dataframe tbody tr th {\n        vertical-align: top;\n    }\n\n    .dataframe thead th {\n        text-align: right;\n    }\n</style>\n<table border=\"1\" class=\"dataframe\">\n  <thead>\n    <tr style=\"text-align: right;\">\n      <th></th>\n      <th>Unnamed: 0</th>\n      <th>0</th>\n      <th>1</th>\n      <th>account</th>\n      <th>member</th>\n      <th>access</th>\n      <th>email</th>\n      <th>address</th>\n      <th>update</th>\n      <th>price</th>\n      <th>...</th>\n      <th>offer</th>\n      <th>transaction</th>\n      <th>agreement</th>\n      <th>registration</th>\n      <th>person</th>\n      <th>system</th>\n      <th>process</th>\n      <th>service</th>\n      <th>request</th>\n      <th>message</th>\n    </tr>\n  </thead>\n  <tbody>\n    <tr>\n      <th>0</th>\n      <td>0</td>\n      <td>Janet,\\n\\nHere is the model.  I have added uni...</td>\n      <td>0</td>\n      <td>0.00000</td>\n      <td>0.00000</td>\n      <td>0.0</td>\n      <td>0.0</td>\n      <td>0.0000</td>\n      <td>0.0000</td>\n      <td>0.0</td>\n      <td>...</td>\n      <td>0.0</td>\n      <td>0.0</td>\n      <td>0.0</td>\n      <td>0.0</td>\n      <td>0.0</td>\n      <td>0.0</td>\n      <td>0.0</td>\n      <td>0.000000</td>\n      <td>0.0</td>\n      <td>0.0</td>\n    </tr>\n    <tr>\n      <th>1</th>\n      <td>1</td>\n      <td>Maureen,\\n\\nYour presentation:\\n\\nVince</td>\n      <td>0</td>\n      <td>0.00000</td>\n      <td>0.00000</td>\n      <td>0.0</td>\n      <td>0.0</td>\n      <td>0.0000</td>\n      <td>0.0000</td>\n      <td>0.0</td>\n      <td>...</td>\n      <td>0.0</td>\n      <td>0.0</td>\n      <td>0.0</td>\n      <td>0.0</td>\n      <td>0.0</td>\n      <td>0.0</td>\n      <td>0.0</td>\n      <td>0.000000</td>\n      <td>0.0</td>\n      <td>0.0</td>\n    </tr>\n    <tr>\n      <th>2</th>\n      <td>2</td>\n      <td>Kim, please invite the Following Texas Eastern...</td>\n      <td>0</td>\n      <td>0.00000</td>\n      <td>0.00000</td>\n      <td>0.0</td>\n      <td>0.0</td>\n      <td>15.3276</td>\n      <td>0.0000</td>\n      <td>0.0</td>\n      <td>...</td>\n      <td>0.0</td>\n      <td>0.0</td>\n      <td>0.0</td>\n      <td>0.0</td>\n      <td>0.0</td>\n      <td>0.0</td>\n      <td>0.0</td>\n      <td>0.000000</td>\n      <td>0.0</td>\n      <td>0.0</td>\n    </tr>\n    <tr>\n      <th>3</th>\n      <td>3</td>\n      <td>\\n&lt;br&gt;\\n\\n&lt;p dir=\"ltr\" align=\"left\"&gt;&lt;b&gt;&lt;font c...</td>\n      <td>1</td>\n      <td>42.11758</td>\n      <td>19.31017</td>\n      <td>0.0</td>\n      <td>0.0</td>\n      <td>0.0000</td>\n      <td>15.3276</td>\n      <td>0.0</td>\n      <td>...</td>\n      <td>0.0</td>\n      <td>0.0</td>\n      <td>0.0</td>\n      <td>0.0</td>\n      <td>0.0</td>\n      <td>0.0</td>\n      <td>0.0</td>\n      <td>0.895862</td>\n      <td>0.0</td>\n      <td>0.0</td>\n    </tr>\n    <tr>\n      <th>4</th>\n      <td>4</td>\n      <td>noregrets littlerock2016 alex hoffman democrat...</td>\n      <td>0</td>\n      <td>0.00000</td>\n      <td>0.00000</td>\n      <td>0.0</td>\n      <td>0.0</td>\n      <td>0.0000</td>\n      <td>0.0000</td>\n      <td>0.0</td>\n      <td>...</td>\n      <td>0.0</td>\n      <td>0.0</td>\n      <td>0.0</td>\n      <td>0.0</td>\n      <td>0.0</td>\n      <td>0.0</td>\n      <td>0.0</td>\n      <td>0.000000</td>\n      <td>0.0</td>\n      <td>0.0</td>\n    </tr>\n  </tbody>\n</table>\n<p>5 rows × 26 columns</p>\n</div>"
     },
     "metadata": {},
     "output_type": "execute_result",
     "execution_count": 13
    }
   ],
   "source": [
    "for word in key_words :\n",
    "    train_2_pd[word] = train_2_pd[\"0\"].apply(lambda i : MailContentsFeaturize(i).contain_key(word))\n",
    "\n",
    "train_2_pd.head()\n"
   ],
   "metadata": {
    "collapsed": false,
    "pycharm": {
     "name": "#%%\n",
     "is_executing": false
    }
   }
  },
  {
   "cell_type": "code",
   "execution_count": 14,
   "outputs": [],
   "source": [
    "train_ = train_1_pd[key_words]\n",
    "label_ = train_1_pd[\"1\"]\n",
    "    # .apply(lambda i : int(i))\n",
    "\n",
    "test_ = train_2_pd[key_words]\n",
    "label_t = train_2_pd[\"1\"]\n",
    "    # .apply(lambda i : int(i))"
   ],
   "metadata": {
    "collapsed": false,
    "pycharm": {
     "name": "#%%\n",
     "is_executing": false
    }
   }
  },
  {
   "cell_type": "code",
   "execution_count": 15,
   "outputs": [
    {
     "data": {
      "text/plain": "0    0\n1    0\n2    0\n3    1\n4    0\nName: 1, dtype: int64"
     },
     "metadata": {},
     "output_type": "execute_result",
     "execution_count": 15
    }
   ],
   "source": [
    "# train_.head()\n",
    "# label_.head()\n",
    "# test_.head()\n",
    "# label_t.head()\n",
    "# train_.dtypes[\"account\"]\n",
    "# label_t.dtypes[\"1\"]\n",
    "label_t.head()"
   ],
   "metadata": {
    "collapsed": false,
    "pycharm": {
     "name": "#%%\n",
     "is_executing": false
    }
   }
  },
  {
   "cell_type": "code",
   "execution_count": 16,
   "metadata": {
    "pycharm": {
     "is_executing": false,
     "name": "#%%\n"
    }
   },
   "outputs": [],
   "source": [
    "import matplotlib.pyplot as plt\n",
    "%matplotlib inline\n",
    "import seaborn as sns\n"
   ]
  },
  {
   "cell_type": "code",
   "execution_count": 17,
   "metadata": {
    "pycharm": {
     "is_executing": false,
     "name": "#%%\n"
    }
   },
   "outputs": [],
   "source": [
    "from sklearn.ensemble import RandomForestClassifier\n",
    "from sklearn.model_selection import train_test_split\n",
    "\n",
    "from sklearn.metrics import confusion_matrix,classification_report,accuracy_score\n",
    "\n",
    "from sklearn.tree import DecisionTreeClassifier\n",
    "\n",
    "from sklearn.linear_model import LogisticRegression\n"
   ]
  },
  {
   "cell_type": "code",
   "execution_count": 18,
   "metadata": {
    "pycharm": {
     "is_executing": false,
     "name": "#%%\n"
    }
   },
   "outputs": [
    {
     "data": {
      "text/plain": "0.9029022335161161"
     },
     "metadata": {},
     "output_type": "execute_result",
     "execution_count": 18
    }
   ],
   "source": [
    "#Decision Tree\n",
    "dt_model = DecisionTreeClassifier()\n",
    "dt_model.fit(train_, label_)\n",
    "\n",
    "coreml_model = sklearn.convert(dt_model, key_words, 'output')\n",
    "coreml_model.save('coreml_dt.mlmodel')\n",
    "\n",
    "dt_predictions = dt_model.predict(test_)\n",
    "accuracy_score(label_t, dt_predictions)"
   ]
  },
  {
   "cell_type": "code",
   "execution_count": 19,
   "metadata": {
    "pycharm": {
     "is_executing": false,
     "name": "#%%\n"
    }
   },
   "outputs": [
    {
     "name": "stdout",
     "text": [
      "0\n"
     ],
     "output_type": "stream"
    },
    {
     "data": {
      "text/plain": "{'output': 0, 'classProbability': {0: 1.0, 1: 0.0}}"
     },
     "metadata": {},
     "output_type": "execute_result",
     "execution_count": 19
    }
   ],
   "source": [
    "model = coremltools.models.MLModel('coreml_dt.mlmodel')\n",
    "# model.predict({'input': temp_test_data})\n",
    "pred_out_put = model.predict({'account':42.11758, 'member':19.31017, 'access':17.05149, 'email':16.6749, 'address':15.3276,\n",
    "             'update':15.3276, 'price':12.55556, 'market':10.23963, 'online':9.770984, 'information':9.474589,\n",
    "             'work':8.331161, 'credit':5.883471, 'response':4.504742, 'offer':3.3573, 'transaction':2.809165,\n",
    "             'agreement':1.863823, 'registration':1.791679, 'person':1.522086, 'system':1.276965,\n",
    "             'process':1.076627, 'service':0.895862, 'request':0.616316, 'message':0.32805})\n",
    "print(pred_out_put[\"output\"])\n",
    "pred_out_put\n",
    "# accuracy_score(temp_test_labels,dt_predictions)\n"
   ]
  },
  {
   "cell_type": "code",
   "execution_count": 20,
   "outputs": [
    {
     "name": "stdout",
     "text": [
      "[[10113   446]\n",
      " [ 1006  3389]]\n",
      "              precision    recall  f1-score   support\n",
      "\n",
      "           0       0.91      0.96      0.93     10559\n",
      "           1       0.88      0.77      0.82      4395\n",
      "\n",
      "    accuracy                           0.90     14954\n",
      "   macro avg       0.90      0.86      0.88     14954\n",
      "weighted avg       0.90      0.90      0.90     14954\n",
      "\n"
     ],
     "output_type": "stream"
    }
   ],
   "source": [
    "print(confusion_matrix(label_t, dt_predictions))\n",
    "print(classification_report(label_t, dt_predictions))\n"
   ],
   "metadata": {
    "collapsed": false,
    "pycharm": {
     "name": "#%%\n",
     "is_executing": false
    }
   }
  },
  {
   "cell_type": "code",
   "execution_count": 21,
   "metadata": {
    "pycharm": {
     "is_executing": false,
     "name": "#%%\n"
    }
   },
   "outputs": [
    {
     "data": {
      "text/plain": "0.9103918683964157"
     },
     "metadata": {},
     "output_type": "execute_result",
     "execution_count": 21
    }
   ],
   "source": [
    "\n",
    "#Random Forest\n",
    "rfc = RandomForestClassifier()\n",
    "rfc.fit(train_, label_)\n",
    "\n",
    "coreml_model_rf = sklearn.convert(rfc, key_words, 'output')\n",
    "coreml_model_rf.save('coreml_rf.mlmodel')\n",
    "\n",
    "dt_predictions = rfc.predict(test_)\n",
    "accuracy_score(label_t, dt_predictions)"
   ]
  },
  {
   "cell_type": "code",
   "execution_count": 22,
   "metadata": {
    "pycharm": {
     "is_executing": false,
     "name": "#%%\n"
    }
   },
   "outputs": [
    {
     "name": "stdout",
     "text": [
      "0\n"
     ],
     "output_type": "stream"
    },
    {
     "data": {
      "text/plain": "{'output': 0, 'classProbability': {0: 1.0, 1: 0.0}}"
     },
     "metadata": {},
     "output_type": "execute_result",
     "execution_count": 22
    }
   ],
   "source": [
    "model = coremltools.models.MLModel('coreml_rf.mlmodel')\n",
    "# model.predict({'input': temp_test_data})\n",
    "pred_out_put = model.predict({'account':42.11758, 'member':19.31017, 'access':17.05149, 'email':16.6749, 'address':15.3276,\n",
    "             'update':15.3276, 'price':12.55556, 'market':10.23963, 'online':9.770984, 'information':9.474589,\n",
    "             'work':8.331161, 'credit':5.883471, 'response':4.504742, 'offer':3.3573, 'transaction':2.809165,\n",
    "             'agreement':1.863823, 'registration':1.791679, 'person':1.522086, 'system':1.276965,\n",
    "             'process':1.076627, 'service':0.895862, 'request':0.616316, 'message':0.32805})\n",
    "print(pred_out_put[\"output\"])\n",
    "pred_out_put\n",
    "# accuracy_score(temp_test_labels,dt_predictions)"
   ]
  },
  {
   "cell_type": "code",
   "execution_count": 23,
   "outputs": [
    {
     "name": "stdout",
     "text": [
      "Random Forest\n",
      "[[10171   388]\n",
      " [  952  3443]]\n",
      "              precision    recall  f1-score   support\n",
      "\n",
      "           0       0.91      0.96      0.94     10559\n",
      "           1       0.90      0.78      0.84      4395\n",
      "\n",
      "    accuracy                           0.91     14954\n",
      "   macro avg       0.91      0.87      0.89     14954\n",
      "weighted avg       0.91      0.91      0.91     14954\n",
      "\n"
     ],
     "output_type": "stream"
    }
   ],
   "source": [
    "print(\"Random Forest\")\n",
    "print(confusion_matrix(label_t, dt_predictions))\n",
    "print(classification_report(label_t, dt_predictions))"
   ],
   "metadata": {
    "collapsed": false,
    "pycharm": {
     "name": "#%%\n",
     "is_executing": false
    }
   }
  },
  {
   "cell_type": "code",
   "execution_count": 24,
   "metadata": {
    "pycharm": {
     "is_executing": false,
     "name": "#%%\n"
    }
   },
   "outputs": [
    {
     "name": "stderr",
     "text": [
      "/Users/lidayuan/opt/anaconda3/envs/py37/lib/python3.7/site-packages/sklearn/linear_model/_logistic.py:940: ConvergenceWarning: lbfgs failed to converge (status=1):\n",
      "STOP: TOTAL NO. of ITERATIONS REACHED LIMIT.\n",
      "\n",
      "Increase the number of iterations (max_iter) or scale the data as shown in:\n",
      "    https://scikit-learn.org/stable/modules/preprocessing.html\n",
      "Please also refer to the documentation for alternative solver options:\n",
      "    https://scikit-learn.org/stable/modules/linear_model.html#logistic-regression\n",
      "  extra_warning_msg=_LOGISTIC_SOLVER_CONVERGENCE_MSG)\n"
     ],
     "output_type": "stream"
    },
    {
     "data": {
      "text/plain": "0.8620436003744817"
     },
     "metadata": {},
     "output_type": "execute_result",
     "execution_count": 24
    }
   ],
   "source": [
    "#Logistic Regression\n",
    "log_model = LogisticRegression()\n",
    "log_model.fit(train_, label_)\n",
    "\n",
    "log_predictions = log_model.predict(test_)\n",
    "accuracy_score(label_t, log_predictions)"
   ]
  },
  {
   "cell_type": "code",
   "execution_count": 25,
   "metadata": {
    "pycharm": {
     "is_executing": false,
     "name": "#%%\n"
    }
   },
   "outputs": [
    {
     "name": "stdout",
     "text": [
      "Logistic Regression\n",
      "[[9935  624]\n",
      " [1439 2956]]\n",
      "              precision    recall  f1-score   support\n",
      "\n",
      "           0       0.87      0.94      0.91     10559\n",
      "           1       0.83      0.67      0.74      4395\n",
      "\n",
      "    accuracy                           0.86     14954\n",
      "   macro avg       0.85      0.81      0.82     14954\n",
      "weighted avg       0.86      0.86      0.86     14954\n",
      "\n"
     ],
     "output_type": "stream"
    }
   ],
   "source": [
    "print(\"Logistic Regression\")\n",
    "\n",
    "print(confusion_matrix(label_t, log_predictions))\n",
    "\n",
    "print(classification_report(label_t, log_predictions))\n"
   ]
  },
  {
   "cell_type": "code",
   "execution_count": 26,
   "outputs": [
    {
     "data": {
      "text/plain": "0.8706031830948241"
     },
     "metadata": {},
     "output_type": "execute_result",
     "execution_count": 26
    }
   ],
   "source": [
    "from sklearn import tree\n",
    "\n",
    "###create decision tree classifier object\n",
    "DT = tree.DecisionTreeClassifier(criterion=\"gini\", max_depth=4)\n",
    "##fit decision tree model with training data\n",
    "DT.fit(train_, label_)\n",
    "##test data prediction\n",
    "DT_expost_preds = DT.predict(test_)\n",
    "accuracy_score(label_t, DT_expost_preds)\n",
    "\n"
   ],
   "metadata": {
    "collapsed": false,
    "pycharm": {
     "name": "#%%\n",
     "is_executing": false
    }
   }
  },
  {
   "cell_type": "code",
   "execution_count": 27,
   "outputs": [
    {
     "name": "stdout",
     "text": [
      "gini decision tree classifier \n",
      "[[9747  812]\n",
      " [1123 3272]]\n",
      "              precision    recall  f1-score   support\n",
      "\n",
      "           0       0.90      0.92      0.91     10559\n",
      "           1       0.80      0.74      0.77      4395\n",
      "\n",
      "    accuracy                           0.87     14954\n",
      "   macro avg       0.85      0.83      0.84     14954\n",
      "weighted avg       0.87      0.87      0.87     14954\n",
      "\n"
     ],
     "output_type": "stream"
    }
   ],
   "source": [
    "\n",
    "print(\"gini decision tree classifier \")\n",
    "\n",
    "print(confusion_matrix(label_t, DT_expost_preds))\n",
    "print(classification_report(label_t, DT_expost_preds))"
   ],
   "metadata": {
    "collapsed": false,
    "pycharm": {
     "name": "#%%\n",
     "is_executing": false
    }
   }
  },
  {
   "cell_type": "code",
   "execution_count": 28,
   "outputs": [
    {
     "data": {
      "text/plain": "0.8706031830948241"
     },
     "metadata": {},
     "output_type": "execute_result",
     "execution_count": 28
    }
   ],
   "source": [
    "dtree = tree.DecisionTreeClassifier(criterion='entropy', max_depth=4)\n",
    "dtree.fit(train_, label_)\n",
    "\n",
    "coreml_model = sklearn.convert(dtree, key_words, 'output')\n",
    "coreml_model.save('coreml_dtree.mlmodel')\n",
    "\n",
    "pred = dtree.predict(test_)\n",
    "accuracy_score(label_t, pred)\n"
   ],
   "metadata": {
    "collapsed": false,
    "pycharm": {
     "name": "#%%\n",
     "is_executing": false
    }
   }
  },
  {
   "cell_type": "code",
   "execution_count": 29,
   "outputs": [
    {
     "name": "stdout",
     "text": [
      "0\n"
     ],
     "output_type": "stream"
    },
    {
     "data": {
      "text/plain": "{'output': 0,\n 'classProbability': {0: 0.9951219512195122, 1: 0.004878048780487805}}"
     },
     "metadata": {},
     "output_type": "execute_result",
     "execution_count": 29
    }
   ],
   "source": [
    "model = coremltools.models.MLModel('coreml_dtree.mlmodel')\n",
    "# model.predict({'input': temp_test_data})\n",
    "pred_out_put = model.predict({'account':42.11758, 'member':19.31017, 'access':17.05149, 'email':16.6749, 'address':15.3276,\n",
    "             'update':15.3276, 'price':12.55556, 'market':10.23963, 'online':9.770984, 'information':9.474589,\n",
    "             'work':8.331161, 'credit':5.883471, 'response':4.504742, 'offer':3.3573, 'transaction':2.809165,\n",
    "             'agreement':1.863823, 'registration':1.791679, 'person':1.522086, 'system':1.276965,\n",
    "             'process':1.076627, 'service':0.895862, 'request':0.616316, 'message':0.32805})\n",
    "print(pred_out_put[\"output\"])\n",
    "pred_out_put\n",
    "# accuracy_score(temp_test_labels,dt_predictions)"
   ],
   "metadata": {
    "collapsed": false,
    "pycharm": {
     "name": "#%%\n",
     "is_executing": false
    }
   }
  },
  {
   "cell_type": "code",
   "execution_count": 30,
   "outputs": [
    {
     "name": "stdout",
     "text": [
      "entropy decision tree classifier \n",
      "[[9747  812]\n",
      " [1123 3272]]\n",
      "              precision    recall  f1-score   support\n",
      "\n",
      "           0       0.90      0.92      0.91     10559\n",
      "           1       0.80      0.74      0.77      4395\n",
      "\n",
      "    accuracy                           0.87     14954\n",
      "   macro avg       0.85      0.83      0.84     14954\n",
      "weighted avg       0.87      0.87      0.87     14954\n",
      "\n"
     ],
     "output_type": "stream"
    }
   ],
   "source": [
    "print(\"entropy decision tree classifier \")\n",
    "\n",
    "print(confusion_matrix(label_t, pred))\n",
    "print(classification_report(label_t, pred))"
   ],
   "metadata": {
    "collapsed": false,
    "pycharm": {
     "name": "#%%\n",
     "is_executing": false
    }
   }
  },
  {
   "cell_type": "code",
   "execution_count": 31,
   "outputs": [
    {
     "name": "stderr",
     "text": [
      "/Users/lidayuan/opt/anaconda3/envs/py37/lib/python3.7/site-packages/sklearn/svm/_base.py:947: ConvergenceWarning: Liblinear failed to converge, increase the number of iterations.\n",
      "  \"the number of iterations.\", ConvergenceWarning)\n"
     ],
     "output_type": "stream"
    },
    {
     "data": {
      "text/plain": "0.8555570415942223"
     },
     "metadata": {},
     "output_type": "execute_result",
     "execution_count": 31
    }
   ],
   "source": [
    "# from sklearn.svm import SVC\n",
    "# only linearSVC can be converted \n",
    "from sklearn.svm import LinearSVC as SVC\n",
    "# svc=SVC(kernel='sigmoid')\n",
    "svc=SVC()\n",
    "inputs = np.asarray(train_, dtype=float)\n",
    "outputs = np.asarray(label_, dtype=int)\n",
    "model_5=svc.fit(inputs, outputs)\n",
    "\n",
    "coreml_model = sklearn.convert(model_5, key_words, 'output')\n",
    "coreml_model.save('coreml_svm.mlmodel')\n",
    "\n",
    "pred = model_5.predict(test_)\n",
    "accuracy_score(label_t,pred)\n"
   ],
   "metadata": {
    "collapsed": false,
    "pycharm": {
     "name": "#%%\n",
     "is_executing": false
    }
   }
  },
  {
   "cell_type": "code",
   "execution_count": 32,
   "outputs": [
    {
     "name": "stdout",
     "text": [
      "1\n"
     ],
     "output_type": "stream"
    },
    {
     "data": {
      "text/plain": "{'output': 1,\n 'classProbability': {0: 0.45708471741666756, 1: 0.5429152825833324}}"
     },
     "metadata": {},
     "output_type": "execute_result",
     "execution_count": 32
    }
   ],
   "source": [
    "model = coremltools.models.MLModel('coreml_svm.mlmodel')\n",
    "# model.predict({'input': temp_test_data})\n",
    "pred_out_put = model.predict({'account':42.11758, 'member':19.31017, 'access':17.05149, 'email':16.6749, 'address':15.3276,\n",
    "             'update':15.3276, 'price':12.55556, 'market':10.23963, 'online':9.770984, 'information':9.474589,\n",
    "             'work':8.331161, 'credit':5.883471, 'response':4.504742, 'offer':3.3573, 'transaction':2.809165,\n",
    "             'agreement':1.863823, 'registration':1.791679, 'person':1.522086, 'system':1.276965,\n",
    "             'process':1.076627, 'service':0.895862, 'request':0.616316, 'message':0.32805})\n",
    "print(pred_out_put[\"output\"])\n",
    "pred_out_put"
   ],
   "metadata": {
    "collapsed": false,
    "pycharm": {
     "name": "#%%\n",
     "is_executing": false
    }
   }
  },
  {
   "cell_type": "code",
   "execution_count": 33,
   "outputs": [
    {
     "name": "stdout",
     "text": [
      "svm \n",
      "[[10120   439]\n",
      " [ 1721  2674]]\n",
      "              precision    recall  f1-score   support\n",
      "\n",
      "           0       0.85      0.96      0.90     10559\n",
      "           1       0.86      0.61      0.71      4395\n",
      "\n",
      "    accuracy                           0.86     14954\n",
      "   macro avg       0.86      0.78      0.81     14954\n",
      "weighted avg       0.86      0.86      0.85     14954\n",
      "\n"
     ],
     "output_type": "stream"
    }
   ],
   "source": [
    "print(\"svm \")\n",
    "\n",
    "print(confusion_matrix(label_t,pred))\n",
    "print(classification_report(label_t,pred))\n"
   ],
   "metadata": {
    "collapsed": false,
    "pycharm": {
     "name": "#%%\n",
     "is_executing": false
    }
   }
  },
  {
   "cell_type": "code",
   "execution_count": 34,
   "outputs": [
    {
     "data": {
      "text/plain": "0.8599037046943961"
     },
     "metadata": {},
     "output_type": "execute_result",
     "execution_count": 34
    }
   ],
   "source": [
    "from sklearn.ensemble import AdaBoostClassifier\n",
    "adc=AdaBoostClassifier(n_estimators=5,learning_rate=1)\n",
    "model_6=adc.fit(train_, label_)\n",
    "\n",
    "pred = model_6.predict(test_)\n",
    "accuracy_score(label_t,pred)\n"
   ],
   "metadata": {
    "collapsed": false,
    "pycharm": {
     "name": "#%%\n",
     "is_executing": false
    }
   }
  },
  {
   "cell_type": "code",
   "execution_count": 35,
   "outputs": [
    {
     "name": "stdout",
     "text": [
      "AdaBoostClassifier \n",
      "[[10066   493]\n",
      " [ 1602  2793]]\n",
      "              precision    recall  f1-score   support\n",
      "\n",
      "           0       0.86      0.95      0.91     10559\n",
      "           1       0.85      0.64      0.73      4395\n",
      "\n",
      "    accuracy                           0.86     14954\n",
      "   macro avg       0.86      0.79      0.82     14954\n",
      "weighted avg       0.86      0.86      0.85     14954\n",
      "\n"
     ],
     "output_type": "stream"
    }
   ],
   "source": [
    "print(\"AdaBoostClassifier \")\n",
    "\n",
    "print(confusion_matrix(label_t,pred))\n",
    "print(classification_report(label_t,pred))"
   ],
   "metadata": {
    "collapsed": false,
    "pycharm": {
     "name": "#%%\n",
     "is_executing": false
    }
   }
  },
  {
   "cell_type": "code",
   "execution_count": 36,
   "outputs": [
    {
     "data": {
      "text/plain": "0.8896616289955864"
     },
     "metadata": {},
     "output_type": "execute_result",
     "execution_count": 36
    }
   ],
   "source": [
    "import numpy as np\n",
    "from xgboost import XGBClassifier\n",
    "\n",
    "xgb=XGBClassifier()\n",
    "# model_7=xgb.fit(temp_train_data, temp_train_label)\n",
    "# pred = model_7.predict(temp_test_data)\n",
    "model_7=xgb.fit(np.asarray(train_, dtype=float), np.asarray(label_, dtype=int))\n",
    "pred = model_7.predict(np.asarray(test_))\n",
    "\n",
    "\n",
    "accuracy_score(label_t,pred)\n"
   ],
   "metadata": {
    "collapsed": false,
    "pycharm": {
     "name": "#%%\n",
     "is_executing": false
    }
   }
  },
  {
   "cell_type": "code",
   "execution_count": 37,
   "outputs": [
    {
     "name": "stdout",
     "text": [
      "xgboost \n",
      "[[10017   542]\n",
      " [ 1108  3287]]\n",
      "              precision    recall  f1-score   support\n",
      "\n",
      "           0       0.90      0.95      0.92     10559\n",
      "           1       0.86      0.75      0.80      4395\n",
      "\n",
      "    accuracy                           0.89     14954\n",
      "   macro avg       0.88      0.85      0.86     14954\n",
      "weighted avg       0.89      0.89      0.89     14954\n",
      "\n"
     ],
     "output_type": "stream"
    }
   ],
   "source": [
    "print(\"xgboost \")\n",
    "\n",
    "print(confusion_matrix(label_t, pred))\n",
    "print(classification_report(label_t, pred))"
   ],
   "metadata": {
    "collapsed": false,
    "pycharm": {
     "name": "#%%\n",
     "is_executing": false
    }
   }
  },
  {
   "cell_type": "code",
   "execution_count": 38,
   "outputs": [
    {
     "data": {
      "text/plain": "0.891199679015648"
     },
     "metadata": {},
     "output_type": "execute_result",
     "execution_count": 38
    }
   ],
   "source": [
    "from sklearn.ensemble import GradientBoostingClassifier\n",
    "gb=GradientBoostingClassifier()\n",
    "model_gb=gb.fit(train_, label_)\n",
    "\n",
    "# coreml_model = sklearn.convert(model_gb, key_words, 'output')\n",
    "# coreml_model.save('coreml_gb.mlmodel')\n",
    "\n",
    "pred = model_gb.predict(test_)\n",
    "accuracy_score(label_t, pred)\n"
   ],
   "metadata": {
    "collapsed": false,
    "pycharm": {
     "name": "#%%\n",
     "is_executing": false
    }
   }
  },
  {
   "cell_type": "code",
   "execution_count": 39,
   "outputs": [
    {
     "name": "stdout",
     "text": [
      "AdaBoostClassifier \n",
      "[[10028   531]\n",
      " [ 1096  3299]]\n",
      "              precision    recall  f1-score   support\n",
      "\n",
      "           0       0.90      0.95      0.92     10559\n",
      "           1       0.86      0.75      0.80      4395\n",
      "\n",
      "    accuracy                           0.89     14954\n",
      "   macro avg       0.88      0.85      0.86     14954\n",
      "weighted avg       0.89      0.89      0.89     14954\n",
      "\n"
     ],
     "output_type": "stream"
    }
   ],
   "source": [
    "print(\"AdaBoostClassifier \")\n",
    "\n",
    "print(confusion_matrix(label_t,pred))\n",
    "print(classification_report(label_t, pred))\n"
   ],
   "metadata": {
    "collapsed": false,
    "pycharm": {
     "name": "#%%\n",
     "is_executing": false
    }
   }
  },
  {
   "cell_type": "code",
   "execution_count": 1,
   "outputs": [
    {
     "data": {
      "text/plain": "\"../test_data/from_weicheng/normal_txt/from your dvr's snap jpg.txt\""
     },
     "metadata": {},
     "output_type": "execute_result",
     "execution_count": 1
    }
   ],
   "source": [],
   "metadata": {
    "collapsed": false,
    "pycharm": {
     "name": "#%%\n",
     "is_executing": false
    }
   }
  },
  {
   "cell_type": "code",
   "execution_count": 3,
   "outputs": [
    {
     "data": {
      "text/plain": "\"../test_data/from_weicheng/normal_txt/from your dvr's snap jpg.txt\""
     },
     "execution_count": 3,
     "metadata": {},
     "output_type": "execute_result"
    }
   ],
   "source": [
    "#test method for normal\n",
    "\n",
    "import os\n",
    "files = []\n",
    "\n",
    "for dirname, _, filenames in os.walk('../test_data/from_weicheng/normal_txt'):\n",
    "    for filename in filenames:\n",
    "        files.append(os.path.join(dirname, filename))\n",
    "files[0]"
   ],
   "metadata": {
    "collapsed": false,
    "pycharm": {
     "name": "#%%\n"
    }
   }
  },
  {
   "cell_type": "code",
   "execution_count": 4,
   "outputs": [
    {
     "data": {
      "text/plain": "20"
     },
     "execution_count": 4,
     "metadata": {},
     "output_type": "execute_result"
    }
   ],
   "source": [
    "def get_data_content(files):\n",
    "    data = []\n",
    "    for file in files:\n",
    "        with open(file, 'r') as f:\n",
    "            data.append(f.read())\n",
    "    return data\n",
    "\n",
    "file_contents = get_data_content(files)\n",
    "len(file_contents)"
   ],
   "metadata": {
    "collapsed": false,
    "pycharm": {
     "name": "#%%\n"
    }
   }
  },
  {
   "cell_type": "code",
   "execution_count": 5,
   "outputs": [
    {
     "name": "stdout",
     "output_type": "stream",
     "text": [
      "0\n",
      "0\n",
      "../test_data/from_weicheng/normal_txt/[Legal Notice] Data Processing and Security Terms update to address the invalidation of EU-US Privacy Shield.txt\n",
      "1\n",
      "0\n",
      "../test_data/from_weicheng/normal_txt/zendesk.txt\n",
      "1\n",
      "0\n",
      "0\n",
      "0\n",
      "../test_data/from_weicheng/normal_txt/Invitation_ Ask an Expert_ Oceans @ Wed May 6, 2020 11am - 11_30am (PDT) (zhangshuhao@gmail.com).txt\n",
      "1\n",
      "0\n",
      "../test_data/from_weicheng/normal_txt/Security alert for your linked Google Account.txt\n",
      "1\n",
      "../test_data/from_weicheng/normal_txt/3.txt\n",
      "1\n",
      "0\n",
      "0\n",
      "../test_data/from_weicheng/normal_txt/Security alert.txt\n",
      "1\n",
      "../test_data/from_weicheng/normal_txt/calendar-google.txt\n",
      "1\n",
      "../test_data/from_weicheng/normal_txt/security-alert.txt\n",
      "1\n",
      "0\n",
      "0\n",
      "../test_data/from_weicheng/normal_txt/[k7pa.com] Email configuration settings for “edisontesting@k7pa.com”.txt\n",
      "1\n"
     ]
    }
   ],
   "source": [
    "import coremltools\n",
    "from coremltools.converters import sklearn\n",
    "\n",
    "num = 0\n",
    "for i in file_contents:\n",
    "    feature_data = MailContentsFeaturize(i).run()\n",
    "    model = coremltools.models.MLModel('coreml_dt.mlmodel')\n",
    "# model.predict({'input': temp_test_data})\n",
    "    pred_out_put = model.predict(feature_data)\n",
    "    if str(pred_out_put[\"output\"]) != '0':\n",
    "        # print(i)\n",
    "        print(files[num])\n",
    "    print(pred_out_put[\"output\"])\n",
    "    num = num + 1\n"
   ],
   "metadata": {
    "collapsed": false,
    "pycharm": {
     "name": "#%%\n"
    }
   }
  },
  {
   "cell_type": "code",
   "execution_count": 7,
   "outputs": [
    {
     "data": {
      "text/plain": "'../test_data/from_weicheng/phishing_txt/Edison Mail in the of the Best Email Apps for Android.txt'"
     },
     "execution_count": 7,
     "metadata": {},
     "output_type": "execute_result"
    }
   ],
   "source": [
    "#test method for phishing\n",
    "\n",
    "import os\n",
    "files = []\n",
    "\n",
    "for dirname, _, filenames in os.walk('../test_data/from_weicheng/phishing_txt'):\n",
    "    for filename in filenames:\n",
    "        files.append(os.path.join(dirname, filename))\n",
    "files[0]"
   ],
   "metadata": {
    "collapsed": false,
    "pycharm": {
     "name": "#%%\n"
    }
   }
  },
  {
   "cell_type": "code",
   "execution_count": 8,
   "outputs": [
    {
     "data": {
      "text/plain": "16"
     },
     "execution_count": 8,
     "metadata": {},
     "output_type": "execute_result"
    }
   ],
   "source": [
    "def get_data_content(files):\n",
    "    data = []\n",
    "    for file in files:\n",
    "        with open(file, 'r') as f:\n",
    "            data.append(f.read())\n",
    "    return data\n",
    "\n",
    "file_contents = get_data_content(files)\n",
    "len(file_contents)"
   ],
   "metadata": {
    "collapsed": false,
    "pycharm": {
     "name": "#%%\n"
    }
   }
  },
  {
   "cell_type": "code",
   "execution_count": 9,
   "outputs": [
    {
     "name": "stdout",
     "output_type": "stream",
     "text": [
      "1\n",
      "0\n",
      "../test_data/from_weicheng/phishing_txt/CSAC Alarm for 2019-10-01 20_00_00 at Home.txt\n",
      "1\n",
      "0\n",
      "../test_data/from_weicheng/phishing_txt/neteasy.txt\n",
      "1\n",
      "0\n",
      "../test_data/from_weicheng/phishing_txt/E-Ticket Confirmation-BRUEFC 08DEC.txt\n",
      "1\n",
      "0\n",
      "../test_data/from_weicheng/phishing_txt/hotmail.txt\n",
      "0\n",
      "../test_data/from_weicheng/phishing_txt/4.txt\n",
      "0\n",
      "../test_data/from_weicheng/phishing_txt/[Email-macOS] Feedback from brian.walker@walkercriminallawyers.com.au.txt\n",
      "0\n",
      "../test_data/from_weicheng/phishing_txt/I will forward the video to your relatives, friends, and co workers.txt\n",
      "0\n",
      "../test_data/from_weicheng/phishing_txt/Earn a $150  cash rewards bonus when you spend $500  on purchases in the first 3 months.txt\n",
      "0\n",
      "../test_data/from_weicheng/phishing_txt/File _Copy  of July Bonus 30JULY2020.xls_  has been shared with you..txt\n",
      "1\n",
      "0\n",
      "../test_data/from_weicheng/phishing_txt/ticket-180841.txt\n",
      "0\n",
      "../test_data/from_weicheng/phishing_txt/ComputerBase Downloads_ Nvidia PhysX System Software 9.19.0218 (Deutsch).txt\n"
     ]
    }
   ],
   "source": [
    "num = 0\n",
    "for i in file_contents:\n",
    "    feature_data = MailContentsFeaturize(i).run()\n",
    "    model = coremltools.models.MLModel('coreml_dt.mlmodel')\n",
    "# model.predict({'input': temp_test_data})\n",
    "    pred_out_put = model.predict(feature_data)\n",
    "    print(pred_out_put[\"output\"])\n",
    "    if str(pred_out_put[\"output\"]) != '1':\n",
    "        # print(i)\n",
    "        print(files[num])\n",
    "    num = num + 1\n"
   ],
   "metadata": {
    "collapsed": false,
    "pycharm": {
     "name": "#%%\n"
    }
   }
  }
 ],
 "metadata": {
  "kernelspec": {
   "display_name": "Python 3",
   "language": "python",
   "name": "python3"
  },
  "language_info": {
   "codemirror_mode": {
    "name": "ipython",
    "version": 3
   },
   "file_extension": ".py",
   "mimetype": "text/x-python",
   "name": "python",
   "nbconvert_exporter": "python",
   "pygments_lexer": "ipython3",
   "version": "3.7.6"
  }
 },
 "nbformat": 4,
 "nbformat_minor": 1
}