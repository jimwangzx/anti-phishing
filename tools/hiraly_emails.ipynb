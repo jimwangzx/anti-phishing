{
 "cells": [
  {
   "cell_type": "code",
   "execution_count": 2,
   "metadata": {
    "collapsed": true,
    "pycharm": {
     "is_executing": false
    }
   },
   "outputs": [],
   "source": [
    "import pandas as pd"
   ]
  },
  {
   "cell_type": "code",
   "execution_count": 3,
   "outputs": [],
   "source": [
    "train_data = pd.read_csv('../data/hilary_emails/Emails.csv')\n",
    "\n"
   ],
   "metadata": {
    "collapsed": false,
    "pycharm": {
     "name": "#%%\n",
     "is_executing": false
    }
   }
  },
  {
   "cell_type": "code",
   "execution_count": 4,
   "outputs": [
    {
     "data": {
      "text/plain": "   Id  DocNumber                                    MetadataSubject  \\\n0   1  C05739545                                                WOW   \n1   2  C05739546  H: LATEST: HOW SYRIA IS AIDING QADDAFI AND MOR...   \n2   3  C05739547                                      CHRIS STEVENS   \n3   4  C05739550                         CAIRO CONDEMNATION - FINAL   \n4   5  C05739554  H: LATEST: HOW SYRIA IS AIDING QADDAFI AND MOR...   \n\n     MetadataTo       MetadataFrom  SenderPersonId           MetadataDateSent  \\\n0             H  Sullivan, Jacob J            87.0  2012-09-12T04:00:00+00:00   \n1             H                NaN             NaN  2011-03-03T05:00:00+00:00   \n2            ;H    Mills, Cheryl D            32.0  2012-09-12T04:00:00+00:00   \n3             H    Mills, Cheryl D            32.0  2012-09-12T04:00:00+00:00   \n4  Abedin, Huma                  H            80.0  2011-03-11T05:00:00+00:00   \n\n        MetadataDateReleased  \\\n0  2015-05-22T04:00:00+00:00   \n1  2015-05-22T04:00:00+00:00   \n2  2015-05-22T04:00:00+00:00   \n3  2015-05-22T04:00:00+00:00   \n4  2015-05-22T04:00:00+00:00   \n\n                                     MetadataPdfLink MetadataCaseNumber  ...  \\\n0  DOCUMENTS/HRC_Email_1_296/HRCH2/DOC_0C05739545...       F-2015-04841  ...   \n1  DOCUMENTS/HRC_Email_1_296/HRCH1/DOC_0C05739546...       F-2015-04841  ...   \n2  DOCUMENTS/HRC_Email_1_296/HRCH2/DOC_0C05739547...       F-2015-04841  ...   \n3  DOCUMENTS/HRC_Email_1_296/HRCH2/DOC_0C05739550...       F-2015-04841  ...   \n4  DOCUMENTS/HRC_Email_1_296/HRCH1/DOC_0C05739554...       F-2015-04841  ...   \n\n  ExtractedTo                             ExtractedFrom         ExtractedCc  \\\n0         NaN  Sullivan, Jacob J <Sullivan11@state.gov>                 NaN   \n1         NaN                                       NaN                 NaN   \n2          B6       Mills, Cheryl D <MillsCD@state.gov>        Abedin, Huma   \n3         NaN       Mills, Cheryl D <MillsCD@state.gov>  Mitchell, Andrew B   \n4         NaN                                       NaN                 NaN   \n\n                        ExtractedDateSent ExtractedCaseNumber  \\\n0  Wednesday, September 12, 2012 10:16 AM        F-2015-04841   \n1                                     NaN        F-2015-04841   \n2  Wednesday, September 12, 2012 11:52 AM        F-2015-04841   \n3   Wednesday, September 12,2012 12:44 PM        F-2015-04841   \n4                                     NaN        F-2015-04841   \n\n  ExtractedDocNumber ExtractedDateReleased ExtractedReleaseInPartOrFull  \\\n0          C05739545            05/13/2015              RELEASE IN FULL   \n1          C05739546            05/13/2015              RELEASE IN PART   \n2          C05739547            05/14/2015              RELEASE IN PART   \n3          C05739550            05/13/2015              RELEASE IN PART   \n4          C05739554            05/13/2015              RELEASE IN PART   \n\n                                   ExtractedBodyText  \\\n0                                                NaN   \n1  B6\\nThursday, March 3, 2011 9:45 PM\\nH: Latest...   \n2                                                Thx   \n3                                                NaN   \n4  H <hrod17@clintonemail.com>\\nFriday, March 11,...   \n\n                                             RawText  \n0  UNCLASSIFIED\\nU.S. Department of State\\nCase N...  \n1  UNCLASSIFIED\\nU.S. Department of State\\nCase N...  \n2  UNCLASSIFIED\\nU.S. Department of State\\nCase N...  \n3  UNCLASSIFIED\\nU.S. Department of State\\nCase N...  \n4  B6\\nUNCLASSIFIED\\nU.S. Department of State\\nCa...  \n\n[5 rows x 22 columns]",
      "text/html": "<div>\n<style scoped>\n    .dataframe tbody tr th:only-of-type {\n        vertical-align: middle;\n    }\n\n    .dataframe tbody tr th {\n        vertical-align: top;\n    }\n\n    .dataframe thead th {\n        text-align: right;\n    }\n</style>\n<table border=\"1\" class=\"dataframe\">\n  <thead>\n    <tr style=\"text-align: right;\">\n      <th></th>\n      <th>Id</th>\n      <th>DocNumber</th>\n      <th>MetadataSubject</th>\n      <th>MetadataTo</th>\n      <th>MetadataFrom</th>\n      <th>SenderPersonId</th>\n      <th>MetadataDateSent</th>\n      <th>MetadataDateReleased</th>\n      <th>MetadataPdfLink</th>\n      <th>MetadataCaseNumber</th>\n      <th>...</th>\n      <th>ExtractedTo</th>\n      <th>ExtractedFrom</th>\n      <th>ExtractedCc</th>\n      <th>ExtractedDateSent</th>\n      <th>ExtractedCaseNumber</th>\n      <th>ExtractedDocNumber</th>\n      <th>ExtractedDateReleased</th>\n      <th>ExtractedReleaseInPartOrFull</th>\n      <th>ExtractedBodyText</th>\n      <th>RawText</th>\n    </tr>\n  </thead>\n  <tbody>\n    <tr>\n      <th>0</th>\n      <td>1</td>\n      <td>C05739545</td>\n      <td>WOW</td>\n      <td>H</td>\n      <td>Sullivan, Jacob J</td>\n      <td>87.0</td>\n      <td>2012-09-12T04:00:00+00:00</td>\n      <td>2015-05-22T04:00:00+00:00</td>\n      <td>DOCUMENTS/HRC_Email_1_296/HRCH2/DOC_0C05739545...</td>\n      <td>F-2015-04841</td>\n      <td>...</td>\n      <td>NaN</td>\n      <td>Sullivan, Jacob J &lt;Sullivan11@state.gov&gt;</td>\n      <td>NaN</td>\n      <td>Wednesday, September 12, 2012 10:16 AM</td>\n      <td>F-2015-04841</td>\n      <td>C05739545</td>\n      <td>05/13/2015</td>\n      <td>RELEASE IN FULL</td>\n      <td>NaN</td>\n      <td>UNCLASSIFIED\\nU.S. Department of State\\nCase N...</td>\n    </tr>\n    <tr>\n      <th>1</th>\n      <td>2</td>\n      <td>C05739546</td>\n      <td>H: LATEST: HOW SYRIA IS AIDING QADDAFI AND MOR...</td>\n      <td>H</td>\n      <td>NaN</td>\n      <td>NaN</td>\n      <td>2011-03-03T05:00:00+00:00</td>\n      <td>2015-05-22T04:00:00+00:00</td>\n      <td>DOCUMENTS/HRC_Email_1_296/HRCH1/DOC_0C05739546...</td>\n      <td>F-2015-04841</td>\n      <td>...</td>\n      <td>NaN</td>\n      <td>NaN</td>\n      <td>NaN</td>\n      <td>NaN</td>\n      <td>F-2015-04841</td>\n      <td>C05739546</td>\n      <td>05/13/2015</td>\n      <td>RELEASE IN PART</td>\n      <td>B6\\nThursday, March 3, 2011 9:45 PM\\nH: Latest...</td>\n      <td>UNCLASSIFIED\\nU.S. Department of State\\nCase N...</td>\n    </tr>\n    <tr>\n      <th>2</th>\n      <td>3</td>\n      <td>C05739547</td>\n      <td>CHRIS STEVENS</td>\n      <td>;H</td>\n      <td>Mills, Cheryl D</td>\n      <td>32.0</td>\n      <td>2012-09-12T04:00:00+00:00</td>\n      <td>2015-05-22T04:00:00+00:00</td>\n      <td>DOCUMENTS/HRC_Email_1_296/HRCH2/DOC_0C05739547...</td>\n      <td>F-2015-04841</td>\n      <td>...</td>\n      <td>B6</td>\n      <td>Mills, Cheryl D &lt;MillsCD@state.gov&gt;</td>\n      <td>Abedin, Huma</td>\n      <td>Wednesday, September 12, 2012 11:52 AM</td>\n      <td>F-2015-04841</td>\n      <td>C05739547</td>\n      <td>05/14/2015</td>\n      <td>RELEASE IN PART</td>\n      <td>Thx</td>\n      <td>UNCLASSIFIED\\nU.S. Department of State\\nCase N...</td>\n    </tr>\n    <tr>\n      <th>3</th>\n      <td>4</td>\n      <td>C05739550</td>\n      <td>CAIRO CONDEMNATION - FINAL</td>\n      <td>H</td>\n      <td>Mills, Cheryl D</td>\n      <td>32.0</td>\n      <td>2012-09-12T04:00:00+00:00</td>\n      <td>2015-05-22T04:00:00+00:00</td>\n      <td>DOCUMENTS/HRC_Email_1_296/HRCH2/DOC_0C05739550...</td>\n      <td>F-2015-04841</td>\n      <td>...</td>\n      <td>NaN</td>\n      <td>Mills, Cheryl D &lt;MillsCD@state.gov&gt;</td>\n      <td>Mitchell, Andrew B</td>\n      <td>Wednesday, September 12,2012 12:44 PM</td>\n      <td>F-2015-04841</td>\n      <td>C05739550</td>\n      <td>05/13/2015</td>\n      <td>RELEASE IN PART</td>\n      <td>NaN</td>\n      <td>UNCLASSIFIED\\nU.S. Department of State\\nCase N...</td>\n    </tr>\n    <tr>\n      <th>4</th>\n      <td>5</td>\n      <td>C05739554</td>\n      <td>H: LATEST: HOW SYRIA IS AIDING QADDAFI AND MOR...</td>\n      <td>Abedin, Huma</td>\n      <td>H</td>\n      <td>80.0</td>\n      <td>2011-03-11T05:00:00+00:00</td>\n      <td>2015-05-22T04:00:00+00:00</td>\n      <td>DOCUMENTS/HRC_Email_1_296/HRCH1/DOC_0C05739554...</td>\n      <td>F-2015-04841</td>\n      <td>...</td>\n      <td>NaN</td>\n      <td>NaN</td>\n      <td>NaN</td>\n      <td>NaN</td>\n      <td>F-2015-04841</td>\n      <td>C05739554</td>\n      <td>05/13/2015</td>\n      <td>RELEASE IN PART</td>\n      <td>H &lt;hrod17@clintonemail.com&gt;\\nFriday, March 11,...</td>\n      <td>B6\\nUNCLASSIFIED\\nU.S. Department of State\\nCa...</td>\n    </tr>\n  </tbody>\n</table>\n<p>5 rows × 22 columns</p>\n</div>"
     },
     "metadata": {},
     "output_type": "execute_result",
     "execution_count": 4
    }
   ],
   "source": [
    "train_pd = pd.DataFrame(train_data)\n",
    "train_pd.head()"
   ],
   "metadata": {
    "collapsed": false,
    "pycharm": {
     "name": "#%%\n",
     "is_executing": false
    }
   }
  },
  {
   "cell_type": "code",
   "execution_count": 6,
   "outputs": [
    {
     "data": {
      "text/plain": "0                                                  NaN\n1    B6\\nThursday, March 3, 2011 9:45 PM\\nH: Latest...\n2                                                  Thx\n3                                                  NaN\n4    H <hrod17@clintonemail.com>\\nFriday, March 11,...\nName: ExtractedBodyText, dtype: object"
     },
     "metadata": {},
     "output_type": "execute_result",
     "execution_count": 6
    }
   ],
   "source": [
    "train_pd['ExtractedBodyText'].head()\n",
    "\n"
   ],
   "metadata": {
    "collapsed": false,
    "pycharm": {
     "name": "#%%\n",
     "is_executing": false
    }
   }
  },
  {
   "cell_type": "code",
   "execution_count": 13,
   "outputs": [
    {
     "data": {
      "text/plain": "'B6\\nWednesday, September 12, 2012 6:16 PM\\nFwd: more on libya\\nLibya 37 sept 12 12.docx\\nSending direct. Just in.\\nSent from my Verizon Wireless 4G LTE DRUID'"
     },
     "metadata": {},
     "output_type": "execute_result",
     "execution_count": 13
    }
   ],
   "source": [
    "train_pd['ExtractedBodyText'][11]\n"
   ],
   "metadata": {
    "collapsed": false,
    "pycharm": {
     "name": "#%%\n",
     "is_executing": false
    }
   }
  }
 ],
 "metadata": {
  "kernelspec": {
   "display_name": "Python 3",
   "language": "python",
   "name": "python3"
  },
  "language_info": {
   "codemirror_mode": {
    "name": "ipython",
    "version": 2
   },
   "file_extension": ".py",
   "mimetype": "text/x-python",
   "name": "python",
   "nbconvert_exporter": "python",
   "pygments_lexer": "ipython2",
   "version": "2.7.6"
  },
  "pycharm": {
   "stem_cell": {
    "cell_type": "raw",
    "source": [],
    "metadata": {
     "collapsed": false
    }
   }
  }
 },
 "nbformat": 4,
 "nbformat_minor": 0
}