{
 "cells": [
  {
   "cell_type": "code",
   "execution_count": 44,
   "metadata": {
    "pycharm": {
     "is_executing": false,
     "name": "#%%\n"
    }
   },
   "outputs": [],
   "source": [
    "import nltk\n",
    "\n",
    "import ssl\n",
    "\n",
    "try:\n",
    "    _create_unverified_https_context = ssl._create_unverified_context\n",
    "except AttributeError:\n",
    "    pass\n",
    "else:\n",
    "    ssl._create_default_https_context = _create_unverified_https_context\n",
    " \n",
    "# dl = nltk.downloader.Downloader('http://nltk.org/nltk_data/index.xml')\n",
    "# # nltk.download('stopwords')\n",
    "# dl.download('stopwords')\n",
    "\n",
    "from nltk.corpus import stopwords\n",
    "stopwords = stopwords.words('english')    \n",
    "#print(stopwords) # see default stopwords\n",
    "\n",
    "def stop_word_removal(row):\n",
    "    token = [token for token in row if token not in stopwords]\n",
    "    token = filter(None, token)\n",
    "    return token"
   ]
  },
  {
   "cell_type": "code",
   "execution_count": 45,
   "metadata": {
    "pycharm": {
     "is_executing": false,
     "name": "#%%\n"
    }
   },
   "outputs": [],
   "source": [
    "# Params for bert model and tokenization\n",
    "Nsamp = 200 # number of samples to generate in each class - 'spam', 'not spam'\n",
    "maxtokens = 200 # the maximum number of tokens per document\n",
    "maxtokenlen = 100 # the maximum length of each token\n",
    "Enron_Samp = 1000 "
   ]
  },
  {
   "cell_type": "code",
   "execution_count": 46,
   "metadata": {
    "pycharm": {
     "is_executing": false,
     "name": "#%%\n"
    }
   },
   "outputs": [],
   "source": [
    "def reg_expressions(row):\n",
    "    tokens = []\n",
    "    try:\n",
    "        for token in row:\n",
    "            token = token.lower()\n",
    "            token = re.sub(r'[\\W\\d]', \"\", token)\n",
    "            token = token[:maxtokenlen] # truncate token\n",
    "            tokens.append(token)\n",
    "    except:\n",
    "        token = \"\"\n",
    "        tokens.append(token)\n",
    "    return tokens"
   ]
  },
  {
   "cell_type": "code",
   "execution_count": 47,
   "metadata": {
    "pycharm": {
     "is_executing": false,
     "name": "#%%\n"
    }
   },
   "outputs": [],
   "source": [
    "def tokenize(row):\n",
    "    if row is None or row is '':\n",
    "        tokens = \"\"\n",
    "    else:\n",
    "        try:\n",
    "            tokens = row.split(\" \")[:maxtokens]\n",
    "        except:\n",
    "            tokens=\"\"\n",
    "    return tokens"
   ]
  },
  {
   "cell_type": "code",
   "execution_count": 48,
   "metadata": {
    "pycharm": {
     "is_executing": false,
     "name": "#%%\n"
    }
   },
   "outputs": [],
   "source": [
    "import re, string\n",
    "\n",
    "def clean_text(text):\n",
    "    text = text.encode('utf-8').decode('utf-8')\n",
    "    while '\\n' in text:\n",
    "        text = text.replace('\\n', ' ')\n",
    "    while '  ' in text:\n",
    "        text = text.replace('  ', ' ')\n",
    "    words = text.split()\n",
    "    regex = re.compile('[%s]' % re.escape(string.punctuation))\n",
    "    stripped = []\n",
    "    for token in words: \n",
    "        new_token = regex.sub(u'', token)\n",
    "        if not new_token == u'':\n",
    "            stripped.append(new_token.lower())\n",
    "    text = ' '.join(stripped)\n",
    "    return text"
   ]
  },
  {
   "cell_type": "markdown",
   "metadata": {},
   "source": [
    "#jose data"
   ]
  },
  {
   "cell_type": "code",
   "execution_count": 49,
   "metadata": {
    "pycharm": {
     "is_executing": false,
     "name": "#%%\n"
    }
   },
   "outputs": [
    {
     "data": {
      "text/plain": "'../data/jose_phishing_html/phishing5.mbox-1805.eml.html'"
     },
     "metadata": {},
     "output_type": "execute_result",
     "execution_count": 49
    }
   ],
   "source": [
    "import os\n",
    "jose_phishing_files = []\n",
    "\n",
    "for dirname, _, filenames in os.walk('../data/jose_phishing_html'):\n",
    "    for filename in filenames:\n",
    "        if filename.startswith('phishing'):\n",
    "            jose_phishing_files.append(os.path.join(dirname, filename))\n",
    "jose_phishing_files[0]    "
   ]
  },
  {
   "cell_type": "code",
   "execution_count": 50,
   "metadata": {
    "pycharm": {
     "is_executing": false,
     "name": "#%%\n"
    }
   },
   "outputs": [
    {
     "data": {
      "text/plain": "10147"
     },
     "metadata": {},
     "output_type": "execute_result",
     "execution_count": 50
    }
   ],
   "source": [
    "def get_data_content(files):\n",
    "    data = []\n",
    "    for file in files:\n",
    "        with open(file, 'r') as f:\n",
    "            data.append(f.read())\n",
    "    return data\n",
    "    \n",
    "jose_file_contents = get_data_content(jose_phishing_files)\n",
    "len(jose_file_contents)"
   ]
  },
  {
   "cell_type": "code",
   "execution_count": 51,
   "metadata": {
    "pycharm": {
     "is_executing": false,
     "name": "#%%\n"
    }
   },
   "outputs": [
    {
     "data": {
      "text/plain": "                                                                                                                                                                                                                                                                                                       message\n0  <!DOCTYPE HTML PUBLIC \"-//W3C//DTD HTML 4.0 Transitional//EN\">\\n<HTML><HEAD>\\n<META http-equiv=Content-Type content=\"text/html; charset=windows-1250\">\\n<STYLE></STYLE>\\n</HEAD>\\n<BODY>\\n<font color=\"white\">More fool you </font><font color=\"white\">More honoured in the breach than in the observanc...\n1  <html dir=\"ltr\">\\n<head>\\n<meta http-equiv=\"Content-Type\" content=\"text/html; charset=iso-8859-1\">\\n<style id=\"owaParaStyle\">P {\\n\\tMARGIN-BOTTOM: 0px; MARGIN-TOP: 0px\\n}\\nP {\\n\\tMARGIN-BOTTOM: 0px; MARGIN-TOP: 0px\\n}\\n</style>\\n</head>\\n<body fPStyle=\"1\" ocsi=\"0\">\\n<div style=\"direction: ltr;fo...\n2  <TABLE cellSpacing=0 cellPadding=0 width=\"100%\" border=0>\\n<TBODY>\\n<TR>\\n<TD>\\n<TABLE cellSpacing=0 cellPadding=0 width=\"100%\" border=0>\\n<TBODY>\\n<TR>\\n<TD>\\n<TABLE cellSpacing=0 cellPadding=2 width=\"100%\" border=0>\\n<TBODY>\\n<TR>\\n<TD><FONT face=\"Verdana, sans-serif\" color=#666666 size=1><B>e...\n3  Your mailbox quota has been exceeded the storage limit which is 20GB as set\\n\\n\\n\\nby your administrator, You are currently running on 20.9GB.\\n\\n\\n\\nYou may not be able to send or receive new mails until you re-validate your\\n\\nmailbox.\\n\\n\\n\\nTo re-activate your account please click the link b...\n4  <style type=\"text/css\">\\n.n {\\n\\tcolor: #FF0000;\\n}\\n</style>\\n<tbody id=\"yiv9779011297yui_3_16_0_1_1441348365671_2185\"><tr id=\"yiv9779011297yui_3_16_0_1_144134865671_2338\"><td id=\"yiv9779011297yui_3_16_0_1_1441348365671_2337\"> </td></tr><tr id=\"yiv9779011297yui_3_16_0_1_1441348365671_2220\"><td ...",
      "text/html": "<div>\n<style scoped>\n    .dataframe tbody tr th:only-of-type {\n        vertical-align: middle;\n    }\n\n    .dataframe tbody tr th {\n        vertical-align: top;\n    }\n\n    .dataframe thead th {\n        text-align: right;\n    }\n</style>\n<table border=\"1\" class=\"dataframe\">\n  <thead>\n    <tr style=\"text-align: right;\">\n      <th></th>\n      <th>message</th>\n    </tr>\n  </thead>\n  <tbody>\n    <tr>\n      <th>0</th>\n      <td>&lt;!DOCTYPE HTML PUBLIC \"-//W3C//DTD HTML 4.0 Transitional//EN\"&gt;\\n&lt;HTML&gt;&lt;HEAD&gt;\\n&lt;META http-equiv=Content-Type content=\"text/html; charset=windows-1250\"&gt;\\n&lt;STYLE&gt;&lt;/STYLE&gt;\\n&lt;/HEAD&gt;\\n&lt;BODY&gt;\\n&lt;font color=\"white\"&gt;More fool you &lt;/font&gt;&lt;font color=\"white\"&gt;More honoured in the breach than in the observanc...</td>\n    </tr>\n    <tr>\n      <th>1</th>\n      <td>&lt;html dir=\"ltr\"&gt;\\n&lt;head&gt;\\n&lt;meta http-equiv=\"Content-Type\" content=\"text/html; charset=iso-8859-1\"&gt;\\n&lt;style id=\"owaParaStyle\"&gt;P {\\n\\tMARGIN-BOTTOM: 0px; MARGIN-TOP: 0px\\n}\\nP {\\n\\tMARGIN-BOTTOM: 0px; MARGIN-TOP: 0px\\n}\\n&lt;/style&gt;\\n&lt;/head&gt;\\n&lt;body fPStyle=\"1\" ocsi=\"0\"&gt;\\n&lt;div style=\"direction: ltr;fo...</td>\n    </tr>\n    <tr>\n      <th>2</th>\n      <td>&lt;TABLE cellSpacing=0 cellPadding=0 width=\"100%\" border=0&gt;\\n&lt;TBODY&gt;\\n&lt;TR&gt;\\n&lt;TD&gt;\\n&lt;TABLE cellSpacing=0 cellPadding=0 width=\"100%\" border=0&gt;\\n&lt;TBODY&gt;\\n&lt;TR&gt;\\n&lt;TD&gt;\\n&lt;TABLE cellSpacing=0 cellPadding=2 width=\"100%\" border=0&gt;\\n&lt;TBODY&gt;\\n&lt;TR&gt;\\n&lt;TD&gt;&lt;FONT face=\"Verdana, sans-serif\" color=#666666 size=1&gt;&lt;B&gt;e...</td>\n    </tr>\n    <tr>\n      <th>3</th>\n      <td>Your mailbox quota has been exceeded the storage limit which is 20GB as set\\n\\n\\n\\nby your administrator, You are currently running on 20.9GB.\\n\\n\\n\\nYou may not be able to send or receive new mails until you re-validate your\\n\\nmailbox.\\n\\n\\n\\nTo re-activate your account please click the link b...</td>\n    </tr>\n    <tr>\n      <th>4</th>\n      <td>&lt;style type=\"text/css\"&gt;\\n.n {\\n\\tcolor: #FF0000;\\n}\\n&lt;/style&gt;\\n&lt;tbody id=\"yiv9779011297yui_3_16_0_1_1441348365671_2185\"&gt;&lt;tr id=\"yiv9779011297yui_3_16_0_1_144134865671_2338\"&gt;&lt;td id=\"yiv9779011297yui_3_16_0_1_1441348365671_2337\"&gt; &lt;/td&gt;&lt;/tr&gt;&lt;tr id=\"yiv9779011297yui_3_16_0_1_1441348365671_2220\"&gt;&lt;td ...</td>\n    </tr>\n  </tbody>\n</table>\n</div>"
     },
     "metadata": {},
     "output_type": "execute_result",
     "execution_count": 51
    }
   ],
   "source": [
    "import pandas as pd\n",
    "jose_bodies_df = pd.DataFrame(jose_file_contents[:Nsamp],columns=[\"message\"],dtype=str)\n",
    "# jose_bodies_df = pd.DataFrame(jose_bodies_df[1:])\n",
    "\n",
    "jose_bodies_df.head() # yo"
   ]
  },
  {
   "cell_type": "code",
   "execution_count": 52,
   "metadata": {
    "pycharm": {
     "is_executing": false
    }
   },
   "outputs": [
    {
     "data": {
      "text/plain": "200"
     },
     "metadata": {},
     "output_type": "execute_result",
     "execution_count": 52
    }
   ],
   "source": [
    "len(jose_bodies_df)"
   ]
  },
  {
   "cell_type": "markdown",
   "metadata": {},
   "source": [
    "#Enron email data."
   ]
  },
  {
   "cell_type": "code",
   "execution_count": 53,
   "metadata": {
    "pycharm": {
     "is_executing": false,
     "name": "#%%\n"
    }
   },
   "outputs": [
    {
     "name": "stdout",
     "text": [
      "Successfully loaded 517401 rows and 2 columns!\n"
     ],
     "output_type": "stream"
    },
    {
     "data": {
      "text/plain": "                       file  \\\n0     allen-p/_sent_mail/1.   \n1    allen-p/_sent_mail/10.   \n2   allen-p/_sent_mail/100.   \n3  allen-p/_sent_mail/1000.   \n4  allen-p/_sent_mail/1001.   \n\n                                                                                                                                                                                                                                                                                                       message  \n0  Message-ID: <18782981.1075855378110.JavaMail.evans@thyme>\\nDate: Mon, 14 May 2001 16:39:00 -0700 (PDT)\\nFrom: phillip.allen@enron.com\\nTo: tim.belden@enron.com\\nSubject: \\nMime-Version: 1.0\\nContent-Type: text/plain; charset=us-ascii\\nContent-Transfer-Encoding: 7bit\\nX-From: Phillip K Allen\\nX-T...  \n1  Message-ID: <15464986.1075855378456.JavaMail.evans@thyme>\\nDate: Fri, 4 May 2001 13:51:00 -0700 (PDT)\\nFrom: phillip.allen@enron.com\\nTo: john.lavorato@enron.com\\nSubject: Re:\\nMime-Version: 1.0\\nContent-Type: text/plain; charset=us-ascii\\nContent-Transfer-Encoding: 7bit\\nX-From: Phillip K Allen...  \n2  Message-ID: <24216240.1075855687451.JavaMail.evans@thyme>\\nDate: Wed, 18 Oct 2000 03:00:00 -0700 (PDT)\\nFrom: phillip.allen@enron.com\\nTo: leah.arsdall@enron.com\\nSubject: Re: test\\nMime-Version: 1.0\\nContent-Type: text/plain; charset=us-ascii\\nContent-Transfer-Encoding: 7bit\\nX-From: Phillip K ...  \n3  Message-ID: <13505866.1075863688222.JavaMail.evans@thyme>\\nDate: Mon, 23 Oct 2000 06:13:00 -0700 (PDT)\\nFrom: phillip.allen@enron.com\\nTo: randall.gay@enron.com\\nSubject: \\nMime-Version: 1.0\\nContent-Type: text/plain; charset=us-ascii\\nContent-Transfer-Encoding: 7bit\\nX-From: Phillip K Allen\\nX-...  \n4  Message-ID: <30922949.1075863688243.JavaMail.evans@thyme>\\nDate: Thu, 31 Aug 2000 05:07:00 -0700 (PDT)\\nFrom: phillip.allen@enron.com\\nTo: greg.piper@enron.com\\nSubject: Re: Hello\\nMime-Version: 1.0\\nContent-Type: text/plain; charset=us-ascii\\nContent-Transfer-Encoding: 7bit\\nX-From: Phillip K A...  ",
      "text/html": "<div>\n<style scoped>\n    .dataframe tbody tr th:only-of-type {\n        vertical-align: middle;\n    }\n\n    .dataframe tbody tr th {\n        vertical-align: top;\n    }\n\n    .dataframe thead th {\n        text-align: right;\n    }\n</style>\n<table border=\"1\" class=\"dataframe\">\n  <thead>\n    <tr style=\"text-align: right;\">\n      <th></th>\n      <th>file</th>\n      <th>message</th>\n    </tr>\n  </thead>\n  <tbody>\n    <tr>\n      <th>0</th>\n      <td>allen-p/_sent_mail/1.</td>\n      <td>Message-ID: &lt;18782981.1075855378110.JavaMail.evans@thyme&gt;\\nDate: Mon, 14 May 2001 16:39:00 -0700 (PDT)\\nFrom: phillip.allen@enron.com\\nTo: tim.belden@enron.com\\nSubject: \\nMime-Version: 1.0\\nContent-Type: text/plain; charset=us-ascii\\nContent-Transfer-Encoding: 7bit\\nX-From: Phillip K Allen\\nX-T...</td>\n    </tr>\n    <tr>\n      <th>1</th>\n      <td>allen-p/_sent_mail/10.</td>\n      <td>Message-ID: &lt;15464986.1075855378456.JavaMail.evans@thyme&gt;\\nDate: Fri, 4 May 2001 13:51:00 -0700 (PDT)\\nFrom: phillip.allen@enron.com\\nTo: john.lavorato@enron.com\\nSubject: Re:\\nMime-Version: 1.0\\nContent-Type: text/plain; charset=us-ascii\\nContent-Transfer-Encoding: 7bit\\nX-From: Phillip K Allen...</td>\n    </tr>\n    <tr>\n      <th>2</th>\n      <td>allen-p/_sent_mail/100.</td>\n      <td>Message-ID: &lt;24216240.1075855687451.JavaMail.evans@thyme&gt;\\nDate: Wed, 18 Oct 2000 03:00:00 -0700 (PDT)\\nFrom: phillip.allen@enron.com\\nTo: leah.arsdall@enron.com\\nSubject: Re: test\\nMime-Version: 1.0\\nContent-Type: text/plain; charset=us-ascii\\nContent-Transfer-Encoding: 7bit\\nX-From: Phillip K ...</td>\n    </tr>\n    <tr>\n      <th>3</th>\n      <td>allen-p/_sent_mail/1000.</td>\n      <td>Message-ID: &lt;13505866.1075863688222.JavaMail.evans@thyme&gt;\\nDate: Mon, 23 Oct 2000 06:13:00 -0700 (PDT)\\nFrom: phillip.allen@enron.com\\nTo: randall.gay@enron.com\\nSubject: \\nMime-Version: 1.0\\nContent-Type: text/plain; charset=us-ascii\\nContent-Transfer-Encoding: 7bit\\nX-From: Phillip K Allen\\nX-...</td>\n    </tr>\n    <tr>\n      <th>4</th>\n      <td>allen-p/_sent_mail/1001.</td>\n      <td>Message-ID: &lt;30922949.1075863688243.JavaMail.evans@thyme&gt;\\nDate: Thu, 31 Aug 2000 05:07:00 -0700 (PDT)\\nFrom: phillip.allen@enron.com\\nTo: greg.piper@enron.com\\nSubject: Re: Hello\\nMime-Version: 1.0\\nContent-Type: text/plain; charset=us-ascii\\nContent-Transfer-Encoding: 7bit\\nX-From: Phillip K A...</td>\n    </tr>\n  </tbody>\n</table>\n</div>"
     },
     "metadata": {},
     "output_type": "execute_result",
     "execution_count": 53
    }
   ],
   "source": [
    "import numpy as np # linear algebra\n",
    "import pandas as pd # data processing, CSV file I/O (e.g. pd.read_csv)\n",
    "\n",
    "# Input data files are available in the \"../input/\" directory.\n",
    "filepath = \"../data/enron/emails.csv\"\n",
    "\n",
    "# Read the enron data into a pandas.DataFrame called emails\n",
    "emails = pd.read_csv(filepath)\n",
    "\n",
    "print(\"Successfully loaded {} rows and {} columns!\".format(emails.shape[0], emails.shape[1]))\n",
    "emails.head()"
   ]
  },
  {
   "cell_type": "code",
   "execution_count": 54,
   "metadata": {
    "pycharm": {
     "is_executing": false,
     "name": "#%%\n"
    }
   },
   "outputs": [],
   "source": [
    "#emails.loc[100][\"message\"]\n"
   ]
  },
  {
   "cell_type": "code",
   "execution_count": 55,
   "metadata": {
    "pycharm": {
     "is_executing": false,
     "name": "#%%\n"
    }
   },
   "outputs": [
    {
     "name": "stdout",
     "text": [
      "Successfully retrieved message body from e-mails!\n"
     ],
     "output_type": "stream"
    }
   ],
   "source": [
    "import email\n",
    "\n",
    "def extract_messages(df):\n",
    "    messages = []\n",
    "    for item in df[\"message\"]:\n",
    "        # Return a message object structure from a string\n",
    "        e = email.message_from_string(item)    \n",
    "        # get message body  \n",
    "        message_body = e.get_payload()\n",
    "        messages.append(message_body)\n",
    "    print(\"Successfully retrieved message body from e-mails!\")\n",
    "    return messages\n",
    "\n",
    "bodies = extract_messages(emails)"
   ]
  },
  {
   "cell_type": "code",
   "execution_count": 56,
   "metadata": {
    "pycharm": {
     "is_executing": false,
     "name": "#%%\n"
    }
   },
   "outputs": [
    {
     "data": {
      "text/plain": "517401"
     },
     "metadata": {},
     "output_type": "execute_result",
     "execution_count": 56
    }
   ],
   "source": [
    "len(bodies)"
   ]
  },
  {
   "cell_type": "code",
   "execution_count": 57,
   "metadata": {
    "pycharm": {
     "is_executing": false,
     "name": "#%%\n"
    }
   },
   "outputs": [
    {
     "data": {
      "text/plain": "                                                                                                                                                                                                                                                                                                             0\n0  No, you can keep the diskettes.  I thought we amended the Cap. Alloc. in\\nregards to some bank work we did; however, it might've been the Gas Gathering\\nAgrmt.  Will check my files and let you know what I find later today.\\n---------- Original Text ----------\\n\\nFrom: \"Gerald Nemec\" <Gerald.Neme...\n1  Adrian has incorporated my edits, so I send it to you for any FINAL changes \\nyou recommend.  Please contact Adrian directly--I am leaving town and he is \\nanxious to complete this and put it in the public domain.\\n\\nI'd look carefully at the last 2 1/2 pages on alternatives to price \\ncaps--sta...\n2  ---------------------- Forwarded by Eric Bass/HOU/ECT on 03/30/2000 01:38 PM \\n---------------------------\\n   \\n\\tEnron North America Corp.\\n\\t\\n\\tFrom:  Timothy Blanchard @ EES                           03/28/2000 01:28 PM\\n\\t\\n\\nTo: val.generes@ac.com, Matthew Lenhart/HOU/ECT@ECT, Eric Bass/H...\n3  otherwise known as CA Development I and CA Development II\\n---------------------- Forwarded by Kay Mann/Corp/Enron on 12/21/2000 12:13 \\nPM ---------------------------\\n\\n\\n\"George Kutzschbach\" <gkutzschbach@fulbright.com> on 12/21/2000 12:00:13 PM\\nTo: Kay.Mann@enron.com\\ncc: DPedigo@INTERGEN.c...\n4  FYI.\\n \\nThanks,\\n \\n\\nBert Stipelcovich\\n\\nManager, Information Systems\\n\\nBridgeline Holdings, L.P.\\n\\n832.851.2880 Office     713.516.2230 Cell \\n\\n \\n\\n-----Original Message-----\\nFrom: ICE User Administration [mailto:ICE-Administration@intcx.com]\\nSent: Monday, April 22, 2002 11:11 AM\\nTo: ...",
      "text/html": "<div>\n<style scoped>\n    .dataframe tbody tr th:only-of-type {\n        vertical-align: middle;\n    }\n\n    .dataframe tbody tr th {\n        vertical-align: top;\n    }\n\n    .dataframe thead th {\n        text-align: right;\n    }\n</style>\n<table border=\"1\" class=\"dataframe\">\n  <thead>\n    <tr style=\"text-align: right;\">\n      <th></th>\n      <th>0</th>\n    </tr>\n  </thead>\n  <tbody>\n    <tr>\n      <th>0</th>\n      <td>No, you can keep the diskettes.  I thought we amended the Cap. Alloc. in\\nregards to some bank work we did; however, it might've been the Gas Gathering\\nAgrmt.  Will check my files and let you know what I find later today.\\n---------- Original Text ----------\\n\\nFrom: \"Gerald Nemec\" &lt;Gerald.Neme...</td>\n    </tr>\n    <tr>\n      <th>1</th>\n      <td>Adrian has incorporated my edits, so I send it to you for any FINAL changes \\nyou recommend.  Please contact Adrian directly--I am leaving town and he is \\nanxious to complete this and put it in the public domain.\\n\\nI'd look carefully at the last 2 1/2 pages on alternatives to price \\ncaps--sta...</td>\n    </tr>\n    <tr>\n      <th>2</th>\n      <td>---------------------- Forwarded by Eric Bass/HOU/ECT on 03/30/2000 01:38 PM \\n---------------------------\\n   \\n\\tEnron North America Corp.\\n\\t\\n\\tFrom:  Timothy Blanchard @ EES                           03/28/2000 01:28 PM\\n\\t\\n\\nTo: val.generes@ac.com, Matthew Lenhart/HOU/ECT@ECT, Eric Bass/H...</td>\n    </tr>\n    <tr>\n      <th>3</th>\n      <td>otherwise known as CA Development I and CA Development II\\n---------------------- Forwarded by Kay Mann/Corp/Enron on 12/21/2000 12:13 \\nPM ---------------------------\\n\\n\\n\"George Kutzschbach\" &lt;gkutzschbach@fulbright.com&gt; on 12/21/2000 12:00:13 PM\\nTo: Kay.Mann@enron.com\\ncc: DPedigo@INTERGEN.c...</td>\n    </tr>\n    <tr>\n      <th>4</th>\n      <td>FYI.\\n \\nThanks,\\n \\n\\nBert Stipelcovich\\n\\nManager, Information Systems\\n\\nBridgeline Holdings, L.P.\\n\\n832.851.2880 Office     713.516.2230 Cell \\n\\n \\n\\n-----Original Message-----\\nFrom: ICE User Administration [mailto:ICE-Administration@intcx.com]\\nSent: Monday, April 22, 2002 11:11 AM\\nTo: ...</td>\n    </tr>\n  </tbody>\n</table>\n</div>"
     },
     "metadata": {},
     "output_type": "execute_result",
     "execution_count": 57
    }
   ],
   "source": [
    "import random\n",
    "bodies_df = pd.DataFrame(random.sample(bodies, Enron_Samp))\n",
    "\n",
    "# expand default pandas display options to make emails more clearly visible when printed\n",
    "pd.set_option('display.max_colwidth', 300)\n",
    "\n",
    "bodies_df.head() # "
   ]
  },
  {
   "cell_type": "markdown",
   "metadata": {},
   "source": [
    "#fraudulent corpus"
   ]
  },
  {
   "cell_type": "code",
   "execution_count": 58,
   "metadata": {
    "pycharm": {
     "is_executing": false,
     "name": "#%%\n"
    }
   },
   "outputs": [
    {
     "data": {
      "text/plain": "3978"
     },
     "metadata": {},
     "output_type": "execute_result",
     "execution_count": 58
    }
   ],
   "source": [
    "filepath = \"../data/fradulent_emails.txt\"\n",
    "with open(filepath, 'r',encoding=\"latin1\") as file:\n",
    "    data = file.read()\n",
    "    \n",
    "# split on a code word appearing close to the beginning of each email\n",
    "fraud_emails = data.split(\"From r\")\n",
    "len(fraud_emails)"
   ]
  },
  {
   "cell_type": "code",
   "execution_count": 59,
   "metadata": {
    "pycharm": {
     "is_executing": false,
     "name": "#%%\n"
    }
   },
   "outputs": [],
   "source": [
    "#fraud_emails[1]\n"
   ]
  },
  {
   "cell_type": "code",
   "execution_count": 60,
   "metadata": {
    "pycharm": {
     "is_executing": false,
     "name": "#%%\n"
    }
   },
   "outputs": [
    {
     "name": "stdout",
     "text": [
      "Successfully retrieved message body from e-mails!\n"
     ],
     "output_type": "stream"
    },
    {
     "data": {
      "text/plain": "                                                                                                                                                                                                                                                                                                             0\n0  FROM:MR. JAMES NGOLA.\\nCONFIDENTIAL TEL: 233-27-587908.\\nE-MAIL: (james_ngola2002@maktoob.com).\\n\\nURGENT BUSINESS ASSISTANCE AND PARTNERSHIP.\\n\\n\\nDEAR FRIEND,\\n\\nI AM ( DR.) JAMES NGOLA, THE PERSONAL ASSISTANCE TO THE LATE CONGOLESE (PRESIDENT LAURENT KABILA) WHO WAS ASSASSINATED BY HIS BODY G...\n1  Dear Friend,\\n\\nI am Mr. Ben Suleman a custom officer and work as Assistant controller of the Customs and Excise department Of the Federal Ministry of Internal Affairs stationed at the Murtala Mohammed International Airport, Ikeja, Lagos-Nigeria.\\n\\nAfter the sudden death of the former Head of s...\n2  FROM HIS ROYAL MAJESTY (HRM) CROWN RULER OF ELEME KINGDOM \\nCHIEF DANIEL ELEME, PHD, EZE 1 OF ELEME.E-MAIL \\nADDRESS:obong_715@epatra.com  \\n\\nATTENTION:PRESIDENT,CEO Sir/ Madam. \\n\\nThis letter might surprise you because we have met\\nneither in person nor by correspondence. But I believe\\nit is...\n3  FROM HIS ROYAL MAJESTY (HRM) CROWN RULER OF ELEME KINGDOM \\nCHIEF DANIEL ELEME, PHD, EZE 1 OF ELEME.E-MAIL \\nADDRESS:obong_715@epatra.com  \\n\\nATTENTION:PRESIDENT,CEO Sir/ Madam. \\n\\nThis letter might surprise you because we have met\\nneither in person nor by correspondence. But I believe\\nit is...\n4  Dear sir, \\n \\nIt is with a heart full of hope that I write to seek your help in respect of the context below. I am Mrs. Maryam Abacha the former first lady of the former Military Head of State of Nigeria General Sani Abacha whose sudden death occurred on 8th of June 1998 as a result of cardiac ...",
      "text/html": "<div>\n<style scoped>\n    .dataframe tbody tr th:only-of-type {\n        vertical-align: middle;\n    }\n\n    .dataframe tbody tr th {\n        vertical-align: top;\n    }\n\n    .dataframe thead th {\n        text-align: right;\n    }\n</style>\n<table border=\"1\" class=\"dataframe\">\n  <thead>\n    <tr style=\"text-align: right;\">\n      <th></th>\n      <th>0</th>\n    </tr>\n  </thead>\n  <tbody>\n    <tr>\n      <th>0</th>\n      <td>FROM:MR. JAMES NGOLA.\\nCONFIDENTIAL TEL: 233-27-587908.\\nE-MAIL: (james_ngola2002@maktoob.com).\\n\\nURGENT BUSINESS ASSISTANCE AND PARTNERSHIP.\\n\\n\\nDEAR FRIEND,\\n\\nI AM ( DR.) JAMES NGOLA, THE PERSONAL ASSISTANCE TO THE LATE CONGOLESE (PRESIDENT LAURENT KABILA) WHO WAS ASSASSINATED BY HIS BODY G...</td>\n    </tr>\n    <tr>\n      <th>1</th>\n      <td>Dear Friend,\\n\\nI am Mr. Ben Suleman a custom officer and work as Assistant controller of the Customs and Excise department Of the Federal Ministry of Internal Affairs stationed at the Murtala Mohammed International Airport, Ikeja, Lagos-Nigeria.\\n\\nAfter the sudden death of the former Head of s...</td>\n    </tr>\n    <tr>\n      <th>2</th>\n      <td>FROM HIS ROYAL MAJESTY (HRM) CROWN RULER OF ELEME KINGDOM \\nCHIEF DANIEL ELEME, PHD, EZE 1 OF ELEME.E-MAIL \\nADDRESS:obong_715@epatra.com  \\n\\nATTENTION:PRESIDENT,CEO Sir/ Madam. \\n\\nThis letter might surprise you because we have met\\nneither in person nor by correspondence. But I believe\\nit is...</td>\n    </tr>\n    <tr>\n      <th>3</th>\n      <td>FROM HIS ROYAL MAJESTY (HRM) CROWN RULER OF ELEME KINGDOM \\nCHIEF DANIEL ELEME, PHD, EZE 1 OF ELEME.E-MAIL \\nADDRESS:obong_715@epatra.com  \\n\\nATTENTION:PRESIDENT,CEO Sir/ Madam. \\n\\nThis letter might surprise you because we have met\\nneither in person nor by correspondence. But I believe\\nit is...</td>\n    </tr>\n    <tr>\n      <th>4</th>\n      <td>Dear sir, \\n \\nIt is with a heart full of hope that I write to seek your help in respect of the context below. I am Mrs. Maryam Abacha the former first lady of the former Military Head of State of Nigeria General Sani Abacha whose sudden death occurred on 8th of June 1998 as a result of cardiac ...</td>\n    </tr>\n  </tbody>\n</table>\n</div>"
     },
     "metadata": {},
     "output_type": "execute_result",
     "execution_count": 60
    }
   ],
   "source": [
    "fraud_bodies = extract_messages(pd.DataFrame(fraud_emails[:Nsamp + 1],columns=[\"message\"],dtype=str))\n",
    "fraud_bodies_df = pd.DataFrame(fraud_bodies[1:])\n",
    "\n",
    "fraud_bodies_df.head() # yo"
   ]
  },
  {
   "cell_type": "markdown",
   "metadata": {},
   "source": [
    "#IWSPA\n"
   ]
  },
  {
   "cell_type": "code",
   "execution_count": 61,
   "metadata": {
    "pycharm": {
     "is_executing": false,
     "name": "#%%\n"
    }
   },
   "outputs": [],
   "source": [
    "# paths of the input files\n",
    "no_head_train_path_0 = '../data/phishing/IWSPA-AP-traindata/phish/'\n",
    "no_head_train_path_1 = '../data/phishing/IWSPA-AP-traindata/legit/'\n",
    "head_train_path_0 = '../data/phishing/Dataset_Full_Header_Training/Dataset_Submit_Phish/'\n",
    "head_train_path_1 = '../data/phishing/Dataset_Full_Header_Training/Dataset_Submit_Legit/'\n",
    "no_head_test_path = '../data/phishing/IWSPA-APTestData/testdata_noheaders/'\n",
    "head_test_path = '../data/phishing/IWSPA-APTestData/testdata_fullheaders/'"
   ]
  },
  {
   "cell_type": "code",
   "execution_count": 62,
   "metadata": {
    "pycharm": {
     "is_executing": false,
     "name": "#%%\n"
    }
   },
   "outputs": [],
   "source": [
    "import os, re, string\n",
    "import numpy as np"
   ]
  },
  {
   "cell_type": "code",
   "execution_count": 63,
   "metadata": {
    "pycharm": {
     "is_executing": false,
     "name": "#%%\n"
    }
   },
   "outputs": [],
   "source": [
    "def clean_text(text):\n",
    "    text = text.encode('utf-8').decode('utf-8')\n",
    "    while '\\n' in text:\n",
    "        text = text.replace('\\n', ' ')\n",
    "    while '  ' in text:\n",
    "        text = text.replace('  ', ' ')\n",
    "    words = text.split()\n",
    "    regex = re.compile('[%s]' % re.escape(string.punctuation))\n",
    "    stripped = []\n",
    "    for token in words: \n",
    "        new_token = regex.sub(u'', token)\n",
    "        if not new_token == u'':\n",
    "            stripped.append(new_token.lower())\n",
    "    text = ' '.join(stripped)\n",
    "    return text"
   ]
  },
  {
   "cell_type": "code",
   "execution_count": 64,
   "metadata": {
    "pycharm": {
     "is_executing": false,
     "name": "#%%\n"
    }
   },
   "outputs": [],
   "source": [
    "\n",
    "def get_data(path):\n",
    "    text_list = list()\n",
    "    files = os.listdir(path)\n",
    "    for text_file in files:\n",
    "        file_path = os.path.join(path, text_file)\n",
    "        read_file = open(file_path,'r+')\n",
    "        read_text = read_file.read()\n",
    "        read_file.close()\n",
    "        cleaned_text = clean_text(read_text)\n",
    "        text_list.append(cleaned_text)\n",
    "    return text_list, files"
   ]
  },
  {
   "cell_type": "code",
   "execution_count": 65,
   "metadata": {
    "pycharm": {
     "is_executing": false,
     "name": "#%%\n"
    }
   },
   "outputs": [],
   "source": [
    "no_head_train_phish, temp = get_data(no_head_train_path_0)\n",
    "no_head_train_legit, temp = get_data(no_head_train_path_1)\n",
    "#head_train_0, temp = get_data(head_train_path_0)\n",
    "#head_train_1, temp = get_data(head_train_path_1)\n",
    "no_head_test, no_head_files = get_data(no_head_test_path)\n",
    "#head_test, head_files = get_data(head_test_path)"
   ]
  },
  {
   "cell_type": "code",
   "execution_count": 66,
   "metadata": {
    "pycharm": {
     "is_executing": false,
     "name": "#%%\n"
    }
   },
   "outputs": [],
   "source": [
    "# no_head_train = no_head_train_phish + no_head_train_legit\n",
    "# no_head_labels_train = ([0] * len(no_head_train_phish)) + ([1] * len(no_head_train_legit))\n",
    "\n",
    "#head_train = head_train_0 + head_train_1\n",
    "#head_labels_train = ([0] * len(head_train_0)) + ([1] * len(head_train_1))"
   ]
  },
  {
   "cell_type": "code",
   "execution_count": 67,
   "metadata": {
    "pycharm": {
     "is_executing": false,
     "name": "#%%\n"
    }
   },
   "outputs": [
    {
     "data": {
      "text/plain": "                                                                                                                                                                                                                                                                                                       message\n0                                                                                                                                                                                                                                  hello everyone just wanted to see if we can reach a decision here thank you\n1  gareth it seems to me from reading your email that you do not realize that this is precisely what magiccscengen already does ie it uses the scaling method that ben santer and i invented in the late 1980s to get time dependent patterns of future climate change i am attaching a description of the ...\n2                                       daniele milan updated a event in the tentative activity calendar jun 09 2014 until jun 13 2014 knb advanced trainingyou are receiving this notification because you are watching the following tentative activity sent by atlassian confluence 544 the enterprise wiki\n3                                                                                                                                                                                 thank you 20 jordan kaplan national finance director democratic national committee 202 4885002 o 312 3390224 c userdomaincom\n4                                                                                                                                                                                                                                                         does stuart make many mistakes sammi fuck i hate her",
      "text/html": "<div>\n<style scoped>\n    .dataframe tbody tr th:only-of-type {\n        vertical-align: middle;\n    }\n\n    .dataframe tbody tr th {\n        vertical-align: top;\n    }\n\n    .dataframe thead th {\n        text-align: right;\n    }\n</style>\n<table border=\"1\" class=\"dataframe\">\n  <thead>\n    <tr style=\"text-align: right;\">\n      <th></th>\n      <th>message</th>\n    </tr>\n  </thead>\n  <tbody>\n    <tr>\n      <th>0</th>\n      <td>hello everyone just wanted to see if we can reach a decision here thank you</td>\n    </tr>\n    <tr>\n      <th>1</th>\n      <td>gareth it seems to me from reading your email that you do not realize that this is precisely what magiccscengen already does ie it uses the scaling method that ben santer and i invented in the late 1980s to get time dependent patterns of future climate change i am attaching a description of the ...</td>\n    </tr>\n    <tr>\n      <th>2</th>\n      <td>daniele milan updated a event in the tentative activity calendar jun 09 2014 until jun 13 2014 knb advanced trainingyou are receiving this notification because you are watching the following tentative activity sent by atlassian confluence 544 the enterprise wiki</td>\n    </tr>\n    <tr>\n      <th>3</th>\n      <td>thank you 20 jordan kaplan national finance director democratic national committee 202 4885002 o 312 3390224 c userdomaincom</td>\n    </tr>\n    <tr>\n      <th>4</th>\n      <td>does stuart make many mistakes sammi fuck i hate her</td>\n    </tr>\n  </tbody>\n</table>\n</div>"
     },
     "metadata": {},
     "output_type": "execute_result",
     "execution_count": 67
    }
   ],
   "source": [
    "import pandas as pd\n",
    "aw_legit_df = pd.DataFrame(no_head_train_legit[:Nsamp],columns=[\"message\"],dtype=str)\n",
    "aw_phish_df = pd.DataFrame(no_head_train_phish[:Nsamp],columns=[\"message\"],dtype=str)\n",
    "# jose_bodies_df = pd.DataFrame(jose_bodies_df[1:])\n",
    "\n",
    "aw_legit_df.head() "
   ]
  },
  {
   "cell_type": "code",
   "execution_count": 68,
   "metadata": {
    "pycharm": {
     "is_executing": false,
     "name": "#%%\n"
    }
   },
   "outputs": [
    {
     "data": {
      "text/plain": "                                                                                                                                                                                                                                                                                                       message\n0                                                                                                                                                                                                                                  hello everyone just wanted to see if we can reach a decision here thank you\n1  gareth it seems to me from reading your email that you do not realize that this is precisely what magiccscengen already does ie it uses the scaling method that ben santer and i invented in the late 1980s to get time dependent patterns of future climate change i am attaching a description of the ...\n2                                       daniele milan updated a event in the tentative activity calendar jun 09 2014 until jun 13 2014 knb advanced trainingyou are receiving this notification because you are watching the following tentative activity sent by atlassian confluence 544 the enterprise wiki\n3                                                                                                                                                                                 thank you 20 jordan kaplan national finance director democratic national committee 202 4885002 o 312 3390224 c userdomaincom\n4                                                                                                                                                                                                                                                         does stuart make many mistakes sammi fuck i hate her",
      "text/html": "<div>\n<style scoped>\n    .dataframe tbody tr th:only-of-type {\n        vertical-align: middle;\n    }\n\n    .dataframe tbody tr th {\n        vertical-align: top;\n    }\n\n    .dataframe thead th {\n        text-align: right;\n    }\n</style>\n<table border=\"1\" class=\"dataframe\">\n  <thead>\n    <tr style=\"text-align: right;\">\n      <th></th>\n      <th>message</th>\n    </tr>\n  </thead>\n  <tbody>\n    <tr>\n      <th>0</th>\n      <td>hello everyone just wanted to see if we can reach a decision here thank you</td>\n    </tr>\n    <tr>\n      <th>1</th>\n      <td>gareth it seems to me from reading your email that you do not realize that this is precisely what magiccscengen already does ie it uses the scaling method that ben santer and i invented in the late 1980s to get time dependent patterns of future climate change i am attaching a description of the ...</td>\n    </tr>\n    <tr>\n      <th>2</th>\n      <td>daniele milan updated a event in the tentative activity calendar jun 09 2014 until jun 13 2014 knb advanced trainingyou are receiving this notification because you are watching the following tentative activity sent by atlassian confluence 544 the enterprise wiki</td>\n    </tr>\n    <tr>\n      <th>3</th>\n      <td>thank you 20 jordan kaplan national finance director democratic national committee 202 4885002 o 312 3390224 c userdomaincom</td>\n    </tr>\n    <tr>\n      <th>4</th>\n      <td>does stuart make many mistakes sammi fuck i hate her</td>\n    </tr>\n  </tbody>\n</table>\n</div>"
     },
     "metadata": {},
     "output_type": "execute_result",
     "execution_count": 68
    }
   ],
   "source": [
    "aw_legit_df.head() "
   ]
  },
  {
   "cell_type": "code",
   "execution_count": 69,
   "metadata": {
    "pycharm": {
     "is_executing": false,
     "name": "#%%\n"
    }
   },
   "outputs": [],
   "source": [
    "# legit\n",
    "EnronEmails = bodies_df.iloc[:,0]#.apply(tokenize)\n",
    "# EnronEmails = bodies_df.iloc[:,0].apply(tokenize)\n",
    "# EnronEmails = EnronEmails.apply(stop_word_removal)\n",
    "# EnronEmails = EnronEmails.apply(reg_expressions)\n",
    "# EnronEmails = EnronEmails.sample(len(EnronEmails))"
   ]
  },
  {
   "cell_type": "code",
   "execution_count": 70,
   "metadata": {
    "pycharm": {
     "is_executing": false,
     "name": "#%%\n"
    }
   },
   "outputs": [],
   "source": [
    "# iwspa\n",
    "IwspaEmails_legit =  aw_legit_df.iloc[:, 0]#.apply(tokenize)\n",
    "# IwspaEmails_legit = IwspaEmails_legit.sample(len(IwspaEmails_legit))"
   ]
  },
  {
   "cell_type": "code",
   "execution_count": 71,
   "metadata": {
    "pycharm": {
     "is_executing": false,
     "name": "#%%\n"
    }
   },
   "outputs": [],
   "source": [
    "# phishing\n",
    "fraudEmails = fraud_bodies_df.iloc[:,0]#.apply(tokenize)\n",
    "# fraudEmails = fraud_bodies_df.iloc[:,0].apply(tokenize)\n",
    "# fraudEmails = fraudEmails.apply(stop_word_removal)\n",
    "# fraudEmails = fraudEmails.apply(reg_expressions)\n",
    "# fraudEmails = fraudEmails.sample(len(fraudEmails))"
   ]
  },
  {
   "cell_type": "code",
   "execution_count": 72,
   "metadata": {
    "pycharm": {
     "is_executing": false,
     "name": "#%%\n"
    }
   },
   "outputs": [],
   "source": [
    "# iwspa\n",
    "IwspaEmails_phish =  aw_phish_df.iloc[:, 0]#.apply(tokenize)\n",
    "# IwspaEmails_phish = IwspaEmails_phish.sample(len(IwspaEmails_phish))"
   ]
  },
  {
   "cell_type": "code",
   "execution_count": 73,
   "metadata": {
    "pycharm": {
     "is_executing": false,
     "name": "#%%\n"
    }
   },
   "outputs": [],
   "source": [
    "# jose\n",
    "JoseEmails = jose_bodies_df.iloc[:, 0]#.apply(tokenize)\n",
    "# JoseEmails = JoseEmails.sample(len(JoseEmails))\n",
    "\n",
    "\n",
    "raw_data = pd.concat([fraudEmails, IwspaEmails_phish, JoseEmails, EnronEmails, IwspaEmails_legit], axis=0).values\n"
   ]
  },
  {
   "cell_type": "code",
   "execution_count": 74,
   "metadata": {
    "pycharm": {
     "is_executing": false
    }
   },
   "outputs": [
    {
     "data": {
      "text/plain": "1800"
     },
     "metadata": {},
     "output_type": "execute_result",
     "execution_count": 74
    }
   ],
   "source": [
    "len(raw_data)"
   ]
  },
  {
   "cell_type": "code",
   "execution_count": 75,
   "metadata": {
    "pycharm": {
     "is_executing": false,
     "name": "#%%\n"
    }
   },
   "outputs": [
    {
     "name": "stdout",
     "text": [
      "Shape of combined data represented as numpy array is:\n",
      "(1800,)\n"
     ],
     "output_type": "stream"
    }
   ],
   "source": [
    "# 1:spam 0:not spam\n",
    "print(\"Shape of combined data represented as numpy array is:\")\n",
    "print(raw_data.shape)\n",
    "#print(\"Data represented as numpy array is:\")\n",
    "#print(raw_data)\n",
    "\n",
    "# corresponding labels\n",
    "Categories = ['spam','notspam']\n",
    "#header = ([1]*Nsamp)\n",
    "#header.extend(([0]*Nsamp))\n",
    "header = ([1]*(len(fraudEmails) + len(IwspaEmails_phish) + len(JoseEmails)))\n",
    "header.extend(([0]*(len(EnronEmails) + len(IwspaEmails_legit))))"
   ]
  },
  {
   "cell_type": "code",
   "execution_count": 76,
   "metadata": {
    "pycharm": {
     "is_executing": false
    }
   },
   "outputs": [
    {
     "data": {
      "text/plain": "str"
     },
     "metadata": {},
     "output_type": "execute_result",
     "execution_count": 76
    }
   ],
   "source": [
    "type(raw_data[10])"
   ]
  },
  {
   "cell_type": "code",
   "execution_count": 77,
   "metadata": {
    "pycharm": {
     "is_executing": false,
     "name": "#%%\n"
    }
   },
   "outputs": [
    {
     "name": "stdout",
     "text": [
      "train_x/train_y list details, to make sure it is of the right form:\n",
      "1260\n",
      "(1260,)\n"
     ],
     "output_type": "stream"
    }
   ],
   "source": [
    "# function for shuffling data in unison with labels/header\n",
    "def unison_shuffle(a, b):\n",
    "    p = np.random.permutation(len(b))\n",
    "    data = a[p]\n",
    "    header = np.asarray(b)[p]\n",
    "    return data, header\n",
    "\n",
    "# function for converting data into the right format, due to the difference in required format from sklearn models\n",
    "# we expect a single string per email here, versus a list of tokens for the sklearn models previously explored\n",
    "def convert_data(raw_data,header):\n",
    "    converted_data, labels = [], []\n",
    "    for i in range(raw_data.shape[0]):\n",
    "        # out = ' '.join(str(raw_data[i]))\n",
    "        out = str(raw_data[i])\n",
    "        converted_data.append(out)\n",
    "        labels.append(header[i])\n",
    "        #print(i)\n",
    "    converted_data = np.array(converted_data, dtype=object)[:, np.newaxis]\n",
    "    \n",
    "    return converted_data, np.array(labels)\n",
    "\n",
    "raw_data, header = unison_shuffle(raw_data, header)\n",
    "\n",
    "# split into independent 70% training and 30% testing sets\n",
    "idx = int(0.7*raw_data.shape[0])\n",
    "# 70% of data for training\n",
    "train_x, train_y = convert_data(raw_data[:idx],header[:idx])\n",
    "# remaining 30% for testing\n",
    "test_x, test_y = convert_data(raw_data[idx:],header[idx:])\n",
    "\n",
    "print(\"train_x/train_y list details, to make sure it is of the right form:\")\n",
    "print(len(train_x))\n",
    "# print(train_x)\n",
    "# print(train_y[:5])\n",
    "print(train_y.shape)\n"
   ]
  },
  {
   "cell_type": "code",
   "execution_count": 78,
   "metadata": {
    "pycharm": {
     "is_executing": false,
     "name": "#%%\n"
    }
   },
   "outputs": [],
   "source": [
    "np.save('../output/train_x.npy', train_x)\n",
    "np.save('../output/train_y.npy', train_y)\n",
    "np.save('../output/test_x.npy', test_x)\n",
    "np.save('../output/test_y.npy', test_y)"
   ]
  },
  {
   "cell_type": "code",
   "execution_count": 79,
   "metadata": {
    "pycharm": {
     "is_executing": false,
     "name": "#%%\n"
    }
   },
   "outputs": [],
   "source": [
    "store = pd.concat([pd.DataFrame(train_x), pd.DataFrame(train_y)], axis=1).values\n",
    "store1 = pd.concat([pd.DataFrame(test_x), pd.DataFrame(test_y)], axis=1).values"
   ]
  },
  {
   "cell_type": "code",
   "execution_count": 80,
   "metadata": {
    "pycharm": {
     "is_executing": false,
     "name": "#%% \n"
    }
   },
   "outputs": [
    {
     "data": {
      "text/plain": "array([\"Tracy,\\n\\nPlease add Blake Walker and Keith Marlow to your distribution of future correspondence regarding the plan presentation.  Also, while I'm on maternity leave, Blake will be the EEOS contact.\\n\\nThanks,\\n\\nErin\\n\\n -----Original Message-----\\nFrom: \\tGeaccone, Tracy  \\nSent:\\tThursday, October 18, 2001 11:07 AM\\nTo:\\tMcCarty, Danny; Cordes, Bill; Stanley, Brian; FOWLER, PEGGY; Garrison, John L; Hughes, James A.; Umanoff, Adam\\nCc:\\tAnderson, Michael; Sommers, Jeffrey E.; Peters, Jerry; Copeland, Erin; Dodson, Keith; Piro, Jim; Lindholm, Tod A.; Armstrong, Julie; Stark, Cindy; Hayslett, Rod; Stark, Cindy\\nSubject:\\t2002 Plan Lay Presentation Run Through \\n\\nStan would like to have a run through of the presentation for the Lay reviews on November 1.  Please see the agenda attached below for your respective group's time.  We will be meeting in EB 49C2.  If you need to call in, the number is below.\\nIf you can not attend, please send a representative.  \\n\\n\\n \\nCALL IN:\\nPARTICIPANT CODE:  277217\\n  *  Toll Free Dial In Number:  (800)403-2002\\n\\nIf you are calling in, please send your presentation to me ahead of time so I can make copies.   \\n\\nPlease feel free to invite anyone else you want to attend.  If you have any questions, I can be reached at 713-853-7372.\\n\\nThanks\\n\\nTracy          \\n\\n\\n\\n\",\n       0], dtype=object)"
     },
     "metadata": {},
     "output_type": "execute_result",
     "execution_count": 80
    }
   ],
   "source": [
    "store[0]\n"
   ]
  },
  {
   "cell_type": "code",
   "execution_count": 81,
   "metadata": {
    "pycharm": {
     "is_executing": false,
     "name": "#%% \n"
    }
   },
   "outputs": [],
   "source": [
    "csv = pd.DataFrame(store)\n",
    "csv.to_csv('../output/train_1.csv')"
   ]
  },
  {
   "cell_type": "code",
   "execution_count": 82,
   "metadata": {
    "pycharm": {
     "is_executing": false,
     "name": "#%% \n"
    }
   },
   "outputs": [],
   "source": [
    "csv = pd.DataFrame(store1)\n",
    "csv.to_csv('../output/train_2.csv')"
   ]
  },
  {
   "cell_type": "code",
   "execution_count": 83,
   "metadata": {
    "pycharm": {
     "is_executing": false,
     "name": "#%% \n"
    }
   },
   "outputs": [
    {
     "data": {
      "text/plain": "   Unnamed: 0  \\\n0           0   \n1           1   \n2           2   \n3           3   \n4           4   \n\n                                                                                                                                                                                                                                                                                                             0  \\\n0  Tracy,\\n\\nPlease add Blake Walker and Keith Marlow to your distribution of future correspondence regarding the plan presentation.  Also, while I'm on maternity leave, Blake will be the EEOS contact.\\n\\nThanks,\\n\\nErin\\n\\n -----Original Message-----\\nFrom: \\tGeaccone, Tracy  \\nSent:\\tThursday, Oc...   \n1                                                                                                                                                                  Guz, what's new?\\n\\n_____________________________________________\\nSign up for your gosfgiants.com e-mail today!\\nhttp://www.gosfgiants.com   \n2  ---------------------- Forwarded by Eric Bass/HOU/ECT on 03/30/2000 01:38 PM \\n---------------------------\\n   \\n\\tEnron North America Corp.\\n\\t\\n\\tFrom:  Timothy Blanchard @ EES                           03/28/2000 01:28 PM\\n\\t\\n\\nTo: val.generes@ac.com, Matthew Lenhart/HOU/ECT@ECT, Eric Bass/H...   \n3                                                                                                  fyi amy k dacey chief executive officer democratic national committee 430 s capitol street se washington dc 20003 2025287492 c 2023142263 o userdomaincommailtouserdomaincom cidimage001png01cf74df0abf9350   \n4  DAYO NAPS\\n234 80 372 20807\\n\\nDear Sir,\\n\\nI am Mr. Dayo Naps, an official with one of the APEX banks in Nigeria.My colleagues and I have an urgent and very confidential \\nbusiness proposal for you. On the 6th of June 1998 an American miner, Mr. Travis Myers ran an account with us and\\nhis pres...   \n\n   1  \n0  0  \n1  0  \n2  0  \n3  0  \n4  1  ",
      "text/html": "<div>\n<style scoped>\n    .dataframe tbody tr th:only-of-type {\n        vertical-align: middle;\n    }\n\n    .dataframe tbody tr th {\n        vertical-align: top;\n    }\n\n    .dataframe thead th {\n        text-align: right;\n    }\n</style>\n<table border=\"1\" class=\"dataframe\">\n  <thead>\n    <tr style=\"text-align: right;\">\n      <th></th>\n      <th>Unnamed: 0</th>\n      <th>0</th>\n      <th>1</th>\n    </tr>\n  </thead>\n  <tbody>\n    <tr>\n      <th>0</th>\n      <td>0</td>\n      <td>Tracy,\\n\\nPlease add Blake Walker and Keith Marlow to your distribution of future correspondence regarding the plan presentation.  Also, while I'm on maternity leave, Blake will be the EEOS contact.\\n\\nThanks,\\n\\nErin\\n\\n -----Original Message-----\\nFrom: \\tGeaccone, Tracy  \\nSent:\\tThursday, Oc...</td>\n      <td>0</td>\n    </tr>\n    <tr>\n      <th>1</th>\n      <td>1</td>\n      <td>Guz, what's new?\\n\\n_____________________________________________\\nSign up for your gosfgiants.com e-mail today!\\nhttp://www.gosfgiants.com</td>\n      <td>0</td>\n    </tr>\n    <tr>\n      <th>2</th>\n      <td>2</td>\n      <td>---------------------- Forwarded by Eric Bass/HOU/ECT on 03/30/2000 01:38 PM \\n---------------------------\\n   \\n\\tEnron North America Corp.\\n\\t\\n\\tFrom:  Timothy Blanchard @ EES                           03/28/2000 01:28 PM\\n\\t\\n\\nTo: val.generes@ac.com, Matthew Lenhart/HOU/ECT@ECT, Eric Bass/H...</td>\n      <td>0</td>\n    </tr>\n    <tr>\n      <th>3</th>\n      <td>3</td>\n      <td>fyi amy k dacey chief executive officer democratic national committee 430 s capitol street se washington dc 20003 2025287492 c 2023142263 o userdomaincommailtouserdomaincom cidimage001png01cf74df0abf9350</td>\n      <td>0</td>\n    </tr>\n    <tr>\n      <th>4</th>\n      <td>4</td>\n      <td>DAYO NAPS\\n234 80 372 20807\\n\\nDear Sir,\\n\\nI am Mr. Dayo Naps, an official with one of the APEX banks in Nigeria.My colleagues and I have an urgent and very confidential \\nbusiness proposal for you. On the 6th of June 1998 an American miner, Mr. Travis Myers ran an account with us and\\nhis pres...</td>\n      <td>1</td>\n    </tr>\n  </tbody>\n</table>\n</div>"
     },
     "metadata": {},
     "output_type": "execute_result",
     "execution_count": 83
    }
   ],
   "source": [
    "train_1 = pd.read_csv('../output/train_1.csv')\n",
    "train_1.head()"
   ]
  },
  {
   "cell_type": "code",
   "execution_count": 84,
   "metadata": {
    "pycharm": {
     "is_executing": false,
     "name": "#%% \n"
    }
   },
   "outputs": [
    {
     "data": {
      "text/plain": "   Unnamed: 0  \\\n0           0   \n1           1   \n2           2   \n3           3   \n4           4   \n\n                                                                                                                                                                                                                                                                                                             0  \\\n0  Global No. 96034155 has been changed to 01/01/2000.\\n\\nSylvia\\n---------------------- Forwarded by Sylvia A Campos/HOU/ECT on 03/06/2000 \\n10:16 AM ---------------------------\\n\\n\\nSylvia A Campos\\n03/03/2000 08:58 AM\\nTo: Dan Junek/HOU/ECT@ECT, Chris Germany/HOU/ECT@ECT\\ncc: Cathy Sprowls/HOU/E...   \n1  << > You have just received the \"Aggie Virus\"\\n  >\\n  > As we don't have any programming experience, this virus works on the\\n  > honor system.  Please delete all the files from your hard drive and\\n  > manually forward this virus to everyone on your mailing list.\\n  >\\n  > Thanks for your coope...   \n2  ArdorNY.com-Manhattan's Best Value Apartment Rentals.\\n=+=+=+=+=+=+=+=+=+=+=+=+=+=+=+=+=+=+=+=+=+=+=+=+=+=+=+=+=+=+=\\nWEEKLY UPDATE OF OUR LATEST & NOTEWORTHY APARTMENTS.\\nAs selected by our apartment rental specialists on 05/16/2001\\n=+=+=+=+=+=+=+=+=+=+=+=+=+=+=+=+=+=+=+=+=+=+=+=+=+=+=+=+=+=+=...   \n3  <!DOCTYPE HTML PUBLIC \"-//W3C//DTD HTML 4.01 Transitional//EN\"\\n\"http://www.w3.org/TR/html4/loose.dtd\">\\n<html>\\n<head>\\n<title>Untitled Document</title>\\n<meta http-equiv=\"Content-Type\" content=\"text/html; charset=iso-8859-1\">\\n</head>\\n\\n<body>\\n<p>&nbsp;</p>\\n<p>Dear <strong>PayPal Inc. user,...   \n4  solo chuks\\n16 Kingsway Road \\nIkoyi,Lagos.\\n \\nDear sir,\\n\\nGreetings to you and yourfamily. I will need your assistance in investing in \\nyour country. Real Estate and importation into my country. But due to my \\nposition as a civil servant I will need someone to assist me with this as my \\njo...   \n\n   1  \n0  0  \n1  0  \n2  0  \n3  1  \n4  1  ",
      "text/html": "<div>\n<style scoped>\n    .dataframe tbody tr th:only-of-type {\n        vertical-align: middle;\n    }\n\n    .dataframe tbody tr th {\n        vertical-align: top;\n    }\n\n    .dataframe thead th {\n        text-align: right;\n    }\n</style>\n<table border=\"1\" class=\"dataframe\">\n  <thead>\n    <tr style=\"text-align: right;\">\n      <th></th>\n      <th>Unnamed: 0</th>\n      <th>0</th>\n      <th>1</th>\n    </tr>\n  </thead>\n  <tbody>\n    <tr>\n      <th>0</th>\n      <td>0</td>\n      <td>Global No. 96034155 has been changed to 01/01/2000.\\n\\nSylvia\\n---------------------- Forwarded by Sylvia A Campos/HOU/ECT on 03/06/2000 \\n10:16 AM ---------------------------\\n\\n\\nSylvia A Campos\\n03/03/2000 08:58 AM\\nTo: Dan Junek/HOU/ECT@ECT, Chris Germany/HOU/ECT@ECT\\ncc: Cathy Sprowls/HOU/E...</td>\n      <td>0</td>\n    </tr>\n    <tr>\n      <th>1</th>\n      <td>1</td>\n      <td>&lt;&lt; &gt; You have just received the \"Aggie Virus\"\\n  &gt;\\n  &gt; As we don't have any programming experience, this virus works on the\\n  &gt; honor system.  Please delete all the files from your hard drive and\\n  &gt; manually forward this virus to everyone on your mailing list.\\n  &gt;\\n  &gt; Thanks for your coope...</td>\n      <td>0</td>\n    </tr>\n    <tr>\n      <th>2</th>\n      <td>2</td>\n      <td>ArdorNY.com-Manhattan's Best Value Apartment Rentals.\\n=+=+=+=+=+=+=+=+=+=+=+=+=+=+=+=+=+=+=+=+=+=+=+=+=+=+=+=+=+=+=\\nWEEKLY UPDATE OF OUR LATEST &amp; NOTEWORTHY APARTMENTS.\\nAs selected by our apartment rental specialists on 05/16/2001\\n=+=+=+=+=+=+=+=+=+=+=+=+=+=+=+=+=+=+=+=+=+=+=+=+=+=+=+=+=+=+=...</td>\n      <td>0</td>\n    </tr>\n    <tr>\n      <th>3</th>\n      <td>3</td>\n      <td>&lt;!DOCTYPE HTML PUBLIC \"-//W3C//DTD HTML 4.01 Transitional//EN\"\\n\"http://www.w3.org/TR/html4/loose.dtd\"&gt;\\n&lt;html&gt;\\n&lt;head&gt;\\n&lt;title&gt;Untitled Document&lt;/title&gt;\\n&lt;meta http-equiv=\"Content-Type\" content=\"text/html; charset=iso-8859-1\"&gt;\\n&lt;/head&gt;\\n\\n&lt;body&gt;\\n&lt;p&gt;&amp;nbsp;&lt;/p&gt;\\n&lt;p&gt;Dear &lt;strong&gt;PayPal Inc. user,...</td>\n      <td>1</td>\n    </tr>\n    <tr>\n      <th>4</th>\n      <td>4</td>\n      <td>solo chuks\\n16 Kingsway Road \\nIkoyi,Lagos.\\n \\nDear sir,\\n\\nGreetings to you and yourfamily. I will need your assistance in investing in \\nyour country. Real Estate and importation into my country. But due to my \\nposition as a civil servant I will need someone to assist me with this as my \\njo...</td>\n      <td>1</td>\n    </tr>\n  </tbody>\n</table>\n</div>"
     },
     "metadata": {},
     "output_type": "execute_result",
     "execution_count": 84
    }
   ],
   "source": [
    "train_2 = pd.read_csv('../output/train_2.csv')\n",
    "train_2.head()"
   ]
  },
  {
   "cell_type": "markdown",
   "metadata": {},
   "source": [
    "#enron html data"
   ]
  },
  {
   "cell_type": "code",
   "execution_count": 85,
   "metadata": {
    "pycharm": {
     "is_executing": false,
     "name": "#%%\n"
    }
   },
   "outputs": [],
   "source": [
    "# def extract_html_messages(df):\n",
    "#     messages = []\n",
    "#     for item in df[\"message\"]:\n",
    "#         # Return a message object structure from a string\n",
    "#         e = email.message_from_string(item)\n",
    "#         # get message body\n",
    "#         message_body = e.get_payload()\n",
    "#         if '<html>' in message_body:\n",
    "#             messages.append(message_body)\n",
    "#         # if BeautifulSoup(message_body, \"html.parser\").find():\n",
    "#         #     messages.append(message_body)\n",
    "#     print(\"Successfully retrieved message body from e-mails!\")\n",
    "#     print(len(messages))\n",
    "#     return messages\n",
    "# enron_html_bodies = extract_html_messages(emails)"
   ]
  },
  {
   "cell_type": "code",
   "execution_count": 86,
   "metadata": {
    "pycharm": {
     "is_executing": false,
     "name": "#%%\n"
    }
   },
   "outputs": [],
   "source": [
    "# enron_html_bodies[0]\n"
   ]
  },
  {
   "cell_type": "markdown",
   "metadata": {},
   "source": [
    "#positive: legit\n",
    "#enron text:50W html:874\n",
    "#iwspa text:5091 html:9\n",
    "\n",
    "#negative: phishing\n",
    "#fraudulent text:3978 html:147\n",
    "#iwspa text:628 html:15\n",
    "#jose text:10147 html:10147\n",
    "\n"
   ]
  },
  {
   "cell_type": "markdown",
   "metadata": {},
   "source": [
    "#dataset:\n",
    "#fradulent all \n",
    "#jose all html\n",
    "#iwspa all no header\n",
    "#enron 2W text + all html"
   ]
  },
  {
   "cell_type": "code",
   "execution_count": 86,
   "metadata": {
    "pycharm": {
     "is_executing": false,
     "name": "#%%\n"
    }
   },
   "outputs": [],
   "source": []
  }
 ],
 "metadata": {
  "kernelspec": {
   "display_name": "Python 3",
   "language": "python",
   "name": "python3"
  },
  "language_info": {
   "codemirror_mode": {
    "name": "ipython",
    "version": 3
   },
   "file_extension": ".py",
   "mimetype": "text/x-python",
   "name": "python",
   "nbconvert_exporter": "python",
   "pygments_lexer": "ipython3",
   "version": "3.7.6"
  },
  "pycharm": {
   "stem_cell": {
    "cell_type": "raw",
    "source": [],
    "metadata": {
     "collapsed": false
    }
   }
  }
 },
 "nbformat": 4,
 "nbformat_minor": 1
}