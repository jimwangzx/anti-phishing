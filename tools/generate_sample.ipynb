{
 "cells": [
  {
   "cell_type": "code",
   "execution_count": 1,
   "metadata": {
    "pycharm": {
     "is_executing": false,
     "name": "#%%\n"
    }
   },
   "outputs": [],
   "source": [
    "import nltk\n",
    "\n",
    "import ssl\n",
    "\n",
    "try:\n",
    "    _create_unverified_https_context = ssl._create_unverified_context\n",
    "except AttributeError:\n",
    "    pass\n",
    "else:\n",
    "    ssl._create_default_https_context = _create_unverified_https_context\n",
    " \n",
    "# dl = nltk.downloader.Downloader('http://nltk.org/nltk_data/index.xml')\n",
    "# # nltk.download('stopwords')\n",
    "# dl.download('stopwords')\n",
    "\n",
    "from nltk.corpus import stopwords\n",
    "stopwords = stopwords.words('english')    \n",
    "#print(stopwords) # see default stopwords\n",
    "\n",
    "def stop_word_removal(row):\n",
    "    token = [token for token in row if token not in stopwords]\n",
    "    token = filter(None, token)\n",
    "    return token"
   ]
  },
  {
   "cell_type": "code",
   "execution_count": 2,
   "metadata": {
    "pycharm": {
     "is_executing": false,
     "name": "#%%\n"
    }
   },
   "outputs": [],
   "source": [
    "# Params for bert model and tokenization\n",
    "Nsamp = 200 # number of samples to generate in each class - 'spam', 'not spam'\n",
    "maxtokens = 200 # the maximum number of tokens per document\n",
    "maxtokenlen = 100 # the maximum length of each token\n",
    "Enron_Samp = 1000"
   ]
  },
  {
   "cell_type": "code",
   "execution_count": 3,
   "metadata": {
    "pycharm": {
     "is_executing": false,
     "name": "#%%\n"
    }
   },
   "outputs": [],
   "source": [
    "def reg_expressions(row):\n",
    "    tokens = []\n",
    "    try:\n",
    "        for token in row:\n",
    "            token = token.lower()\n",
    "            token = re.sub(r'[\\W\\d]', \"\", token)\n",
    "            token = token[:maxtokenlen] # truncate token\n",
    "            tokens.append(token)\n",
    "    except:\n",
    "        token = \"\"\n",
    "        tokens.append(token)\n",
    "    return tokens"
   ]
  },
  {
   "cell_type": "code",
   "execution_count": 4,
   "metadata": {
    "pycharm": {
     "is_executing": false,
     "name": "#%%\n"
    }
   },
   "outputs": [],
   "source": [
    "def tokenize(row):\n",
    "    if row is None or row is '':\n",
    "        tokens = \"\"\n",
    "    else:\n",
    "        try:\n",
    "            tokens = row.split(\" \")[:maxtokens]\n",
    "        except:\n",
    "            tokens=\"\"\n",
    "    return tokens"
   ]
  },
  {
   "cell_type": "code",
   "execution_count": 5,
   "metadata": {
    "pycharm": {
     "is_executing": false,
     "name": "#%%\n"
    }
   },
   "outputs": [],
   "source": [
    "import re, string\n",
    "\n",
    "def clean_text(text):\n",
    "    text = text.encode('utf-8').decode('utf-8')\n",
    "    while '\\n' in text:\n",
    "        text = text.replace('\\n', ' ')\n",
    "    while '  ' in text:\n",
    "        text = text.replace('  ', ' ')\n",
    "    words = text.split()\n",
    "    regex = re.compile('[%s]' % re.escape(string.punctuation))\n",
    "    stripped = []\n",
    "    for token in words: \n",
    "        new_token = regex.sub(u'', token)\n",
    "        if not new_token == u'':\n",
    "            stripped.append(new_token.lower())\n",
    "    text = ' '.join(stripped)\n",
    "    return text"
   ]
  },
  {
   "cell_type": "markdown",
   "metadata": {},
   "source": [
    "#jose data"
   ]
  },
  {
   "cell_type": "code",
   "execution_count": 6,
   "metadata": {
    "pycharm": {
     "is_executing": false,
     "name": "#%%\n"
    }
   },
   "outputs": [
    {
     "data": {
      "text/plain": "'../data/jose_phishing_html/phishing5.mbox-1805.eml.html'"
     },
     "metadata": {},
     "output_type": "execute_result",
     "execution_count": 6
    }
   ],
   "source": [
    "import os\n",
    "jose_phishing_files = []\n",
    "\n",
    "for dirname, _, filenames in os.walk('../data/jose_phishing_html'):\n",
    "    for filename in filenames:\n",
    "        if filename.startswith('phishing'):\n",
    "            jose_phishing_files.append(os.path.join(dirname, filename))\n",
    "jose_phishing_files[0]    "
   ]
  },
  {
   "cell_type": "code",
   "execution_count": 7,
   "metadata": {
    "pycharm": {
     "is_executing": false,
     "name": "#%%\n"
    }
   },
   "outputs": [
    {
     "data": {
      "text/plain": "10147"
     },
     "metadata": {},
     "output_type": "execute_result",
     "execution_count": 7
    }
   ],
   "source": [
    "def get_data_content(files):\n",
    "    data = []\n",
    "    for file in files:\n",
    "        with open(file, 'r') as f:\n",
    "            data.append(f.read())\n",
    "    return data\n",
    "    \n",
    "jose_file_contents = get_data_content(jose_phishing_files)\n",
    "len(jose_file_contents)"
   ]
  },
  {
   "cell_type": "code",
   "execution_count": 8,
   "metadata": {
    "pycharm": {
     "is_executing": false,
     "name": "#%%\n"
    }
   },
   "outputs": [
    {
     "data": {
      "text/plain": "                                             message\n0  <!DOCTYPE HTML PUBLIC \"-//W3C//DTD HTML 4.0 Tr...\n1  <html dir=\"ltr\">\\n<head>\\n<meta http-equiv=\"Co...\n2  <TABLE cellSpacing=0 cellPadding=0 width=\"100%...\n3  Your mailbox quota has been exceeded the stora...\n4  <style type=\"text/css\">\\n.n {\\n\\tcolor: #FF000...",
      "text/html": "<div>\n<style scoped>\n    .dataframe tbody tr th:only-of-type {\n        vertical-align: middle;\n    }\n\n    .dataframe tbody tr th {\n        vertical-align: top;\n    }\n\n    .dataframe thead th {\n        text-align: right;\n    }\n</style>\n<table border=\"1\" class=\"dataframe\">\n  <thead>\n    <tr style=\"text-align: right;\">\n      <th></th>\n      <th>message</th>\n    </tr>\n  </thead>\n  <tbody>\n    <tr>\n      <th>0</th>\n      <td>&lt;!DOCTYPE HTML PUBLIC \"-//W3C//DTD HTML 4.0 Tr...</td>\n    </tr>\n    <tr>\n      <th>1</th>\n      <td>&lt;html dir=\"ltr\"&gt;\\n&lt;head&gt;\\n&lt;meta http-equiv=\"Co...</td>\n    </tr>\n    <tr>\n      <th>2</th>\n      <td>&lt;TABLE cellSpacing=0 cellPadding=0 width=\"100%...</td>\n    </tr>\n    <tr>\n      <th>3</th>\n      <td>Your mailbox quota has been exceeded the stora...</td>\n    </tr>\n    <tr>\n      <th>4</th>\n      <td>&lt;style type=\"text/css\"&gt;\\n.n {\\n\\tcolor: #FF000...</td>\n    </tr>\n  </tbody>\n</table>\n</div>"
     },
     "metadata": {},
     "output_type": "execute_result",
     "execution_count": 8
    }
   ],
   "source": [
    "import pandas as pd\n",
    "jose_bodies_df = pd.DataFrame(jose_file_contents[:Nsamp],columns=[\"message\"],dtype=str)\n",
    "# jose_bodies_df = pd.DataFrame(jose_bodies_df[1:])\n",
    "\n",
    "jose_bodies_df.head() # yo"
   ]
  },
  {
   "cell_type": "code",
   "execution_count": 9,
   "metadata": {
    "pycharm": {
     "is_executing": false
    }
   },
   "outputs": [
    {
     "data": {
      "text/plain": "200"
     },
     "metadata": {},
     "output_type": "execute_result",
     "execution_count": 9
    }
   ],
   "source": [
    "len(jose_bodies_df)"
   ]
  },
  {
   "cell_type": "markdown",
   "metadata": {},
   "source": [
    "#Enron email data."
   ]
  },
  {
   "cell_type": "code",
   "execution_count": 10,
   "metadata": {
    "pycharm": {
     "is_executing": false,
     "name": "#%%\n"
    }
   },
   "outputs": [
    {
     "name": "stdout",
     "text": [
      "Successfully loaded 517401 rows and 2 columns!\n"
     ],
     "output_type": "stream"
    },
    {
     "data": {
      "text/plain": "                       file                                            message\n0     allen-p/_sent_mail/1.  Message-ID: <18782981.1075855378110.JavaMail.e...\n1    allen-p/_sent_mail/10.  Message-ID: <15464986.1075855378456.JavaMail.e...\n2   allen-p/_sent_mail/100.  Message-ID: <24216240.1075855687451.JavaMail.e...\n3  allen-p/_sent_mail/1000.  Message-ID: <13505866.1075863688222.JavaMail.e...\n4  allen-p/_sent_mail/1001.  Message-ID: <30922949.1075863688243.JavaMail.e...",
      "text/html": "<div>\n<style scoped>\n    .dataframe tbody tr th:only-of-type {\n        vertical-align: middle;\n    }\n\n    .dataframe tbody tr th {\n        vertical-align: top;\n    }\n\n    .dataframe thead th {\n        text-align: right;\n    }\n</style>\n<table border=\"1\" class=\"dataframe\">\n  <thead>\n    <tr style=\"text-align: right;\">\n      <th></th>\n      <th>file</th>\n      <th>message</th>\n    </tr>\n  </thead>\n  <tbody>\n    <tr>\n      <th>0</th>\n      <td>allen-p/_sent_mail/1.</td>\n      <td>Message-ID: &lt;18782981.1075855378110.JavaMail.e...</td>\n    </tr>\n    <tr>\n      <th>1</th>\n      <td>allen-p/_sent_mail/10.</td>\n      <td>Message-ID: &lt;15464986.1075855378456.JavaMail.e...</td>\n    </tr>\n    <tr>\n      <th>2</th>\n      <td>allen-p/_sent_mail/100.</td>\n      <td>Message-ID: &lt;24216240.1075855687451.JavaMail.e...</td>\n    </tr>\n    <tr>\n      <th>3</th>\n      <td>allen-p/_sent_mail/1000.</td>\n      <td>Message-ID: &lt;13505866.1075863688222.JavaMail.e...</td>\n    </tr>\n    <tr>\n      <th>4</th>\n      <td>allen-p/_sent_mail/1001.</td>\n      <td>Message-ID: &lt;30922949.1075863688243.JavaMail.e...</td>\n    </tr>\n  </tbody>\n</table>\n</div>"
     },
     "metadata": {},
     "output_type": "execute_result",
     "execution_count": 10
    }
   ],
   "source": [
    "import numpy as np # linear algebra\n",
    "import pandas as pd # data processing, CSV file I/O (e.g. pd.read_csv)\n",
    "\n",
    "# Input data files are available in the \"../input/\" directory.\n",
    "filepath = \"../data/enron/emails.csv\"\n",
    "\n",
    "# Read the enron data into a pandas.DataFrame called emails\n",
    "emails = pd.read_csv(filepath)\n",
    "\n",
    "print(\"Successfully loaded {} rows and {} columns!\".format(emails.shape[0], emails.shape[1]))\n",
    "emails.head()"
   ]
  },
  {
   "cell_type": "code",
   "execution_count": 11,
   "metadata": {
    "pycharm": {
     "is_executing": false,
     "name": "#%%\n"
    }
   },
   "outputs": [],
   "source": [
    "#emails.loc[100][\"message\"]\n"
   ]
  },
  {
   "cell_type": "code",
   "execution_count": 12,
   "metadata": {
    "pycharm": {
     "is_executing": false,
     "name": "#%%\n"
    }
   },
   "outputs": [
    {
     "name": "stdout",
     "text": [
      "Successfully retrieved message body from e-mails!\n"
     ],
     "output_type": "stream"
    }
   ],
   "source": [
    "import email\n",
    "\n",
    "def extract_messages(df):\n",
    "    messages = []\n",
    "    for item in df[\"message\"]:\n",
    "        # Return a message object structure from a string\n",
    "        e = email.message_from_string(item)    \n",
    "        # get message body  \n",
    "        message_body = e.get_payload()\n",
    "        messages.append(message_body)\n",
    "    print(\"Successfully retrieved message body from e-mails!\")\n",
    "    return messages\n",
    "\n",
    "bodies = extract_messages(emails)"
   ]
  },
  {
   "cell_type": "code",
   "execution_count": 13,
   "metadata": {
    "pycharm": {
     "is_executing": false,
     "name": "#%%\n"
    }
   },
   "outputs": [
    {
     "data": {
      "text/plain": "517401"
     },
     "metadata": {},
     "output_type": "execute_result",
     "execution_count": 13
    }
   ],
   "source": [
    "len(bodies)"
   ]
  },
  {
   "cell_type": "code",
   "execution_count": 14,
   "metadata": {
    "pycharm": {
     "is_executing": false,
     "name": "#%%\n"
    }
   },
   "outputs": [
    {
     "data": {
      "text/plain": "                                                                                                                                                                                                                                                                                                             0\n0  Judi,\\n\\nDid you receive a quote for Williams yet? When I spoke with Terri she said that $5000 USD was a pretty good estimate for my move.\\n\\nChris\\n\\n -----Original Message-----\\nFrom: \\t\"Judi During\" <JDuring@royallepage2.com>@ENRON [mailto:IMCEANOTES-+22Judi+20During+22+20+3CJDuring+40royalle...\n1  Thanks.\\n\\n -----Original Message-----\\nFrom: \\tVos, Theresa  \\nSent:\\tWednesday, June 13, 2001 1:46 PM\\nTo:\\tPresto, Kevin M.; Zisman, Stuart\\nCc:\\tWhite, Stacey; Vinson, Donald Wayne; Pierce, Jody; Schield, Elaine\\nSubject:\\tRE: New Albany\\n\\nElaine Schield, ENA Accounting, agrees that since 8...\n2  Yes, she'snot familiar with the music, but said she would listen to the music \\nand see what she thought, but I have put in a call to my other friend, but I \\nknow she would do it if her schedule was open, but she does is \\nprofessionally, and I know there would be a charge,  I should hear somet...\n3                                                                                                                                                                     Just in case I forget to mention it, I need to move our SF visit to Friday \\nam, due to travel plans.  Is this still ok with you?\\n\\nKay\n4  Please, remove me from the list.\\n\\n\\n\\n\\n\\n\\n\\nspawn@aclnet.cz on 12/09/2000 06:31:36 AM\\nPlease respond to adamsd34@hongkong.com\\nTo: <joe454@hongkong.com>\\ncc:  \\nSubject: Are you looking for a \"better way\" to make money? 5400\\n\\n\\n\\n\\n\\n\\nDo You Have The Yen To Be a A Millionaire?\\n\\n100% re...",
      "text/html": "<div>\n<style scoped>\n    .dataframe tbody tr th:only-of-type {\n        vertical-align: middle;\n    }\n\n    .dataframe tbody tr th {\n        vertical-align: top;\n    }\n\n    .dataframe thead th {\n        text-align: right;\n    }\n</style>\n<table border=\"1\" class=\"dataframe\">\n  <thead>\n    <tr style=\"text-align: right;\">\n      <th></th>\n      <th>0</th>\n    </tr>\n  </thead>\n  <tbody>\n    <tr>\n      <th>0</th>\n      <td>Judi,\\n\\nDid you receive a quote for Williams yet? When I spoke with Terri she said that $5000 USD was a pretty good estimate for my move.\\n\\nChris\\n\\n -----Original Message-----\\nFrom: \\t\"Judi During\" &lt;JDuring@royallepage2.com&gt;@ENRON [mailto:IMCEANOTES-+22Judi+20During+22+20+3CJDuring+40royalle...</td>\n    </tr>\n    <tr>\n      <th>1</th>\n      <td>Thanks.\\n\\n -----Original Message-----\\nFrom: \\tVos, Theresa  \\nSent:\\tWednesday, June 13, 2001 1:46 PM\\nTo:\\tPresto, Kevin M.; Zisman, Stuart\\nCc:\\tWhite, Stacey; Vinson, Donald Wayne; Pierce, Jody; Schield, Elaine\\nSubject:\\tRE: New Albany\\n\\nElaine Schield, ENA Accounting, agrees that since 8...</td>\n    </tr>\n    <tr>\n      <th>2</th>\n      <td>Yes, she'snot familiar with the music, but said she would listen to the music \\nand see what she thought, but I have put in a call to my other friend, but I \\nknow she would do it if her schedule was open, but she does is \\nprofessionally, and I know there would be a charge,  I should hear somet...</td>\n    </tr>\n    <tr>\n      <th>3</th>\n      <td>Just in case I forget to mention it, I need to move our SF visit to Friday \\nam, due to travel plans.  Is this still ok with you?\\n\\nKay</td>\n    </tr>\n    <tr>\n      <th>4</th>\n      <td>Please, remove me from the list.\\n\\n\\n\\n\\n\\n\\n\\nspawn@aclnet.cz on 12/09/2000 06:31:36 AM\\nPlease respond to adamsd34@hongkong.com\\nTo: &lt;joe454@hongkong.com&gt;\\ncc:  \\nSubject: Are you looking for a \"better way\" to make money? 5400\\n\\n\\n\\n\\n\\n\\nDo You Have The Yen To Be a A Millionaire?\\n\\n100% re...</td>\n    </tr>\n  </tbody>\n</table>\n</div>"
     },
     "metadata": {},
     "output_type": "execute_result",
     "execution_count": 14
    }
   ],
   "source": [
    "import random\n",
    "bodies_df = pd.DataFrame(random.sample(bodies, Enron_Samp))\n",
    "\n",
    "# expand default pandas display options to make emails more clearly visible when printed\n",
    "pd.set_option('display.max_colwidth', 300)\n",
    "\n",
    "bodies_df.head() # "
   ]
  },
  {
   "cell_type": "markdown",
   "metadata": {},
   "source": [
    "#fraudulent corpus"
   ]
  },
  {
   "cell_type": "code",
   "execution_count": 15,
   "metadata": {
    "pycharm": {
     "is_executing": false,
     "name": "#%%\n"
    }
   },
   "outputs": [
    {
     "data": {
      "text/plain": "3978"
     },
     "metadata": {},
     "output_type": "execute_result",
     "execution_count": 15
    }
   ],
   "source": [
    "filepath = \"../data/fradulent_emails.txt\"\n",
    "with open(filepath, 'r',encoding=\"latin1\") as file:\n",
    "    data = file.read()\n",
    "    \n",
    "# split on a code word appearing close to the beginning of each email\n",
    "fraud_emails = data.split(\"From r\")\n",
    "len(fraud_emails)"
   ]
  },
  {
   "cell_type": "code",
   "execution_count": 16,
   "metadata": {
    "pycharm": {
     "is_executing": false,
     "name": "#%%\n"
    }
   },
   "outputs": [],
   "source": [
    "#fraud_emails[1]\n"
   ]
  },
  {
   "cell_type": "code",
   "execution_count": 17,
   "metadata": {
    "pycharm": {
     "is_executing": false,
     "name": "#%%\n"
    }
   },
   "outputs": [
    {
     "name": "stdout",
     "text": [
      "Successfully retrieved message body from e-mails!\n"
     ],
     "output_type": "stream"
    },
    {
     "data": {
      "text/plain": "                                                                                                                                                                                                                                                                                                             0\n0  FROM:MR. JAMES NGOLA.\\nCONFIDENTIAL TEL: 233-27-587908.\\nE-MAIL: (james_ngola2002@maktoob.com).\\n\\nURGENT BUSINESS ASSISTANCE AND PARTNERSHIP.\\n\\n\\nDEAR FRIEND,\\n\\nI AM ( DR.) JAMES NGOLA, THE PERSONAL ASSISTANCE TO THE LATE CONGOLESE (PRESIDENT LAURENT KABILA) WHO WAS ASSASSINATED BY HIS BODY G...\n1  Dear Friend,\\n\\nI am Mr. Ben Suleman a custom officer and work as Assistant controller of the Customs and Excise department Of the Federal Ministry of Internal Affairs stationed at the Murtala Mohammed International Airport, Ikeja, Lagos-Nigeria.\\n\\nAfter the sudden death of the former Head of s...\n2  FROM HIS ROYAL MAJESTY (HRM) CROWN RULER OF ELEME KINGDOM \\nCHIEF DANIEL ELEME, PHD, EZE 1 OF ELEME.E-MAIL \\nADDRESS:obong_715@epatra.com  \\n\\nATTENTION:PRESIDENT,CEO Sir/ Madam. \\n\\nThis letter might surprise you because we have met\\nneither in person nor by correspondence. But I believe\\nit is...\n3  FROM HIS ROYAL MAJESTY (HRM) CROWN RULER OF ELEME KINGDOM \\nCHIEF DANIEL ELEME, PHD, EZE 1 OF ELEME.E-MAIL \\nADDRESS:obong_715@epatra.com  \\n\\nATTENTION:PRESIDENT,CEO Sir/ Madam. \\n\\nThis letter might surprise you because we have met\\nneither in person nor by correspondence. But I believe\\nit is...\n4  Dear sir, \\n \\nIt is with a heart full of hope that I write to seek your help in respect of the context below. I am Mrs. Maryam Abacha the former first lady of the former Military Head of State of Nigeria General Sani Abacha whose sudden death occurred on 8th of June 1998 as a result of cardiac ...",
      "text/html": "<div>\n<style scoped>\n    .dataframe tbody tr th:only-of-type {\n        vertical-align: middle;\n    }\n\n    .dataframe tbody tr th {\n        vertical-align: top;\n    }\n\n    .dataframe thead th {\n        text-align: right;\n    }\n</style>\n<table border=\"1\" class=\"dataframe\">\n  <thead>\n    <tr style=\"text-align: right;\">\n      <th></th>\n      <th>0</th>\n    </tr>\n  </thead>\n  <tbody>\n    <tr>\n      <th>0</th>\n      <td>FROM:MR. JAMES NGOLA.\\nCONFIDENTIAL TEL: 233-27-587908.\\nE-MAIL: (james_ngola2002@maktoob.com).\\n\\nURGENT BUSINESS ASSISTANCE AND PARTNERSHIP.\\n\\n\\nDEAR FRIEND,\\n\\nI AM ( DR.) JAMES NGOLA, THE PERSONAL ASSISTANCE TO THE LATE CONGOLESE (PRESIDENT LAURENT KABILA) WHO WAS ASSASSINATED BY HIS BODY G...</td>\n    </tr>\n    <tr>\n      <th>1</th>\n      <td>Dear Friend,\\n\\nI am Mr. Ben Suleman a custom officer and work as Assistant controller of the Customs and Excise department Of the Federal Ministry of Internal Affairs stationed at the Murtala Mohammed International Airport, Ikeja, Lagos-Nigeria.\\n\\nAfter the sudden death of the former Head of s...</td>\n    </tr>\n    <tr>\n      <th>2</th>\n      <td>FROM HIS ROYAL MAJESTY (HRM) CROWN RULER OF ELEME KINGDOM \\nCHIEF DANIEL ELEME, PHD, EZE 1 OF ELEME.E-MAIL \\nADDRESS:obong_715@epatra.com  \\n\\nATTENTION:PRESIDENT,CEO Sir/ Madam. \\n\\nThis letter might surprise you because we have met\\nneither in person nor by correspondence. But I believe\\nit is...</td>\n    </tr>\n    <tr>\n      <th>3</th>\n      <td>FROM HIS ROYAL MAJESTY (HRM) CROWN RULER OF ELEME KINGDOM \\nCHIEF DANIEL ELEME, PHD, EZE 1 OF ELEME.E-MAIL \\nADDRESS:obong_715@epatra.com  \\n\\nATTENTION:PRESIDENT,CEO Sir/ Madam. \\n\\nThis letter might surprise you because we have met\\nneither in person nor by correspondence. But I believe\\nit is...</td>\n    </tr>\n    <tr>\n      <th>4</th>\n      <td>Dear sir, \\n \\nIt is with a heart full of hope that I write to seek your help in respect of the context below. I am Mrs. Maryam Abacha the former first lady of the former Military Head of State of Nigeria General Sani Abacha whose sudden death occurred on 8th of June 1998 as a result of cardiac ...</td>\n    </tr>\n  </tbody>\n</table>\n</div>"
     },
     "metadata": {},
     "output_type": "execute_result",
     "execution_count": 17
    }
   ],
   "source": [
    "fraud_bodies = extract_messages(pd.DataFrame(fraud_emails[:Nsamp + 1],columns=[\"message\"],dtype=str))\n",
    "fraud_bodies_df = pd.DataFrame(fraud_bodies[1:])\n",
    "\n",
    "fraud_bodies_df.head() # yo"
   ]
  },
  {
   "cell_type": "markdown",
   "metadata": {},
   "source": [
    "#IWSPA\n"
   ]
  },
  {
   "cell_type": "code",
   "execution_count": 18,
   "metadata": {
    "pycharm": {
     "is_executing": false,
     "name": "#%%\n"
    }
   },
   "outputs": [],
   "source": [
    "# paths of the input files\n",
    "no_head_train_path_0 = '../data/phishing/IWSPA-AP-traindata/phish/'\n",
    "no_head_train_path_1 = '../data/phishing/IWSPA-AP-traindata/legit/'\n",
    "head_train_path_0 = '../data/phishing/Dataset_Full_Header_Training/Dataset_Submit_Phish/'\n",
    "head_train_path_1 = '../data/phishing/Dataset_Full_Header_Training/Dataset_Submit_Legit/'\n",
    "no_head_test_path = '../data/phishing/IWSPA-APTestData/testdata_noheaders/'\n",
    "head_test_path = '../data/phishing/IWSPA-APTestData/testdata_fullheaders/'"
   ]
  },
  {
   "cell_type": "code",
   "execution_count": 19,
   "metadata": {
    "pycharm": {
     "is_executing": false,
     "name": "#%%\n"
    }
   },
   "outputs": [],
   "source": [
    "import os, re, string\n",
    "import numpy as np"
   ]
  },
  {
   "cell_type": "code",
   "execution_count": 20,
   "metadata": {
    "pycharm": {
     "is_executing": false,
     "name": "#%%\n"
    }
   },
   "outputs": [],
   "source": [
    "def clean_text(text):\n",
    "    text = text.encode('utf-8').decode('utf-8')\n",
    "    while '\\n' in text:\n",
    "        text = text.replace('\\n', ' ')\n",
    "    while '  ' in text:\n",
    "        text = text.replace('  ', ' ')\n",
    "    words = text.split()\n",
    "    regex = re.compile('[%s]' % re.escape(string.punctuation))\n",
    "    stripped = []\n",
    "    for token in words: \n",
    "        new_token = regex.sub(u'', token)\n",
    "        if not new_token == u'':\n",
    "            stripped.append(new_token.lower())\n",
    "    text = ' '.join(stripped)\n",
    "    return text"
   ]
  },
  {
   "cell_type": "code",
   "execution_count": 21,
   "metadata": {
    "pycharm": {
     "is_executing": false,
     "name": "#%%\n"
    }
   },
   "outputs": [],
   "source": [
    "\n",
    "def get_data(path):\n",
    "    text_list = list()\n",
    "    files = os.listdir(path)\n",
    "    for text_file in files:\n",
    "        file_path = os.path.join(path, text_file)\n",
    "        read_file = open(file_path,'r+')\n",
    "        read_text = read_file.read()\n",
    "        read_file.close()\n",
    "        cleaned_text = clean_text(read_text)\n",
    "        text_list.append(cleaned_text)\n",
    "    return text_list, files"
   ]
  },
  {
   "cell_type": "code",
   "execution_count": 22,
   "metadata": {
    "pycharm": {
     "is_executing": false,
     "name": "#%%\n"
    }
   },
   "outputs": [],
   "source": [
    "no_head_train_phish, temp = get_data(no_head_train_path_0)\n",
    "no_head_train_legit, temp = get_data(no_head_train_path_1)\n",
    "#head_train_0, temp = get_data(head_train_path_0)\n",
    "#head_train_1, temp = get_data(head_train_path_1)\n",
    "no_head_test, no_head_files = get_data(no_head_test_path)\n",
    "#head_test, head_files = get_data(head_test_path)"
   ]
  },
  {
   "cell_type": "code",
   "execution_count": 23,
   "metadata": {
    "pycharm": {
     "is_executing": false,
     "name": "#%%\n"
    }
   },
   "outputs": [],
   "source": [
    "# no_head_train = no_head_train_phish + no_head_train_legit\n",
    "# no_head_labels_train = ([0] * len(no_head_train_phish)) + ([1] * len(no_head_train_legit))\n",
    "\n",
    "#head_train = head_train_0 + head_train_1\n",
    "#head_labels_train = ([0] * len(head_train_0)) + ([1] * len(head_train_1))"
   ]
  },
  {
   "cell_type": "code",
   "execution_count": 24,
   "metadata": {
    "pycharm": {
     "is_executing": false,
     "name": "#%%\n"
    }
   },
   "outputs": [
    {
     "data": {
      "text/plain": "                                                                                                                                                                                                                                                                                                       message\n0                                                                                                                                                                                                                                  hello everyone just wanted to see if we can reach a decision here thank you\n1  gareth it seems to me from reading your email that you do not realize that this is precisely what magiccscengen already does ie it uses the scaling method that ben santer and i invented in the late 1980s to get time dependent patterns of future climate change i am attaching a description of the ...\n2                                       daniele milan updated a event in the tentative activity calendar jun 09 2014 until jun 13 2014 knb advanced trainingyou are receiving this notification because you are watching the following tentative activity sent by atlassian confluence 544 the enterprise wiki\n3                                                                                                                                                                                 thank you 20 jordan kaplan national finance director democratic national committee 202 4885002 o 312 3390224 c userdomaincom\n4                                                                                                                                                                                                                                                         does stuart make many mistakes sammi fuck i hate her",
      "text/html": "<div>\n<style scoped>\n    .dataframe tbody tr th:only-of-type {\n        vertical-align: middle;\n    }\n\n    .dataframe tbody tr th {\n        vertical-align: top;\n    }\n\n    .dataframe thead th {\n        text-align: right;\n    }\n</style>\n<table border=\"1\" class=\"dataframe\">\n  <thead>\n    <tr style=\"text-align: right;\">\n      <th></th>\n      <th>message</th>\n    </tr>\n  </thead>\n  <tbody>\n    <tr>\n      <th>0</th>\n      <td>hello everyone just wanted to see if we can reach a decision here thank you</td>\n    </tr>\n    <tr>\n      <th>1</th>\n      <td>gareth it seems to me from reading your email that you do not realize that this is precisely what magiccscengen already does ie it uses the scaling method that ben santer and i invented in the late 1980s to get time dependent patterns of future climate change i am attaching a description of the ...</td>\n    </tr>\n    <tr>\n      <th>2</th>\n      <td>daniele milan updated a event in the tentative activity calendar jun 09 2014 until jun 13 2014 knb advanced trainingyou are receiving this notification because you are watching the following tentative activity sent by atlassian confluence 544 the enterprise wiki</td>\n    </tr>\n    <tr>\n      <th>3</th>\n      <td>thank you 20 jordan kaplan national finance director democratic national committee 202 4885002 o 312 3390224 c userdomaincom</td>\n    </tr>\n    <tr>\n      <th>4</th>\n      <td>does stuart make many mistakes sammi fuck i hate her</td>\n    </tr>\n  </tbody>\n</table>\n</div>"
     },
     "metadata": {},
     "output_type": "execute_result",
     "execution_count": 24
    }
   ],
   "source": [
    "import pandas as pd\n",
    "aw_legit_df = pd.DataFrame(no_head_train_legit[:Nsamp],columns=[\"message\"],dtype=str)\n",
    "aw_phish_df = pd.DataFrame(no_head_train_phish[:Nsamp],columns=[\"message\"],dtype=str)\n",
    "# jose_bodies_df = pd.DataFrame(jose_bodies_df[1:])\n",
    "\n",
    "aw_legit_df.head() "
   ]
  },
  {
   "cell_type": "code",
   "execution_count": 25,
   "metadata": {
    "pycharm": {
     "is_executing": false,
     "name": "#%%\n"
    }
   },
   "outputs": [
    {
     "data": {
      "text/plain": "                                                                                                                                                                                                                                                                                                       message\n0                                                                                                                                                                                                                                  hello everyone just wanted to see if we can reach a decision here thank you\n1  gareth it seems to me from reading your email that you do not realize that this is precisely what magiccscengen already does ie it uses the scaling method that ben santer and i invented in the late 1980s to get time dependent patterns of future climate change i am attaching a description of the ...\n2                                       daniele milan updated a event in the tentative activity calendar jun 09 2014 until jun 13 2014 knb advanced trainingyou are receiving this notification because you are watching the following tentative activity sent by atlassian confluence 544 the enterprise wiki\n3                                                                                                                                                                                 thank you 20 jordan kaplan national finance director democratic national committee 202 4885002 o 312 3390224 c userdomaincom\n4                                                                                                                                                                                                                                                         does stuart make many mistakes sammi fuck i hate her",
      "text/html": "<div>\n<style scoped>\n    .dataframe tbody tr th:only-of-type {\n        vertical-align: middle;\n    }\n\n    .dataframe tbody tr th {\n        vertical-align: top;\n    }\n\n    .dataframe thead th {\n        text-align: right;\n    }\n</style>\n<table border=\"1\" class=\"dataframe\">\n  <thead>\n    <tr style=\"text-align: right;\">\n      <th></th>\n      <th>message</th>\n    </tr>\n  </thead>\n  <tbody>\n    <tr>\n      <th>0</th>\n      <td>hello everyone just wanted to see if we can reach a decision here thank you</td>\n    </tr>\n    <tr>\n      <th>1</th>\n      <td>gareth it seems to me from reading your email that you do not realize that this is precisely what magiccscengen already does ie it uses the scaling method that ben santer and i invented in the late 1980s to get time dependent patterns of future climate change i am attaching a description of the ...</td>\n    </tr>\n    <tr>\n      <th>2</th>\n      <td>daniele milan updated a event in the tentative activity calendar jun 09 2014 until jun 13 2014 knb advanced trainingyou are receiving this notification because you are watching the following tentative activity sent by atlassian confluence 544 the enterprise wiki</td>\n    </tr>\n    <tr>\n      <th>3</th>\n      <td>thank you 20 jordan kaplan national finance director democratic national committee 202 4885002 o 312 3390224 c userdomaincom</td>\n    </tr>\n    <tr>\n      <th>4</th>\n      <td>does stuart make many mistakes sammi fuck i hate her</td>\n    </tr>\n  </tbody>\n</table>\n</div>"
     },
     "metadata": {},
     "output_type": "execute_result",
     "execution_count": 25
    }
   ],
   "source": [
    "aw_legit_df.head() "
   ]
  },
  {
   "cell_type": "code",
   "execution_count": 26,
   "metadata": {
    "pycharm": {
     "is_executing": false,
     "name": "#%%\n"
    }
   },
   "outputs": [],
   "source": [
    "# legit\n",
    "EnronEmails = bodies_df.iloc[:,0]#.apply(tokenize)\n",
    "# EnronEmails = bodies_df.iloc[:,0].apply(tokenize)\n",
    "# EnronEmails = EnronEmails.apply(stop_word_removal)\n",
    "# EnronEmails = EnronEmails.apply(reg_expressions)\n",
    "# EnronEmails = EnronEmails.sample(len(EnronEmails))"
   ]
  },
  {
   "cell_type": "code",
   "execution_count": 27,
   "outputs": [],
   "source": [
    "# iwspa\n",
    "IwspaEmails_legit =  aw_legit_df.iloc[:, 0]#.apply(tokenize)\n",
    "# IwspaEmails_legit = IwspaEmails_legit.sample(len(IwspaEmails_legit))"
   ],
   "metadata": {
    "collapsed": false,
    "pycharm": {
     "name": "#%%\n",
     "is_executing": false
    }
   }
  },
  {
   "cell_type": "code",
   "execution_count": 28,
   "outputs": [],
   "source": [
    "# phishing\n",
    "fraudEmails = fraud_bodies_df.iloc[:,0]#.apply(tokenize)\n",
    "# fraudEmails = fraud_bodies_df.iloc[:,0].apply(tokenize)\n",
    "# fraudEmails = fraudEmails.apply(stop_word_removal)\n",
    "# fraudEmails = fraudEmails.apply(reg_expressions)\n",
    "# fraudEmails = fraudEmails.sample(len(fraudEmails))"
   ],
   "metadata": {
    "collapsed": false,
    "pycharm": {
     "name": "#%%\n",
     "is_executing": false
    }
   }
  },
  {
   "cell_type": "code",
   "execution_count": 29,
   "outputs": [],
   "source": [
    "# iwspa\n",
    "IwspaEmails_phish =  aw_phish_df.iloc[:, 0]#.apply(tokenize)\n",
    "# IwspaEmails_phish = IwspaEmails_phish.sample(len(IwspaEmails_phish))"
   ],
   "metadata": {
    "collapsed": false,
    "pycharm": {
     "name": "#%%\n",
     "is_executing": false
    }
   }
  },
  {
   "cell_type": "code",
   "execution_count": 30,
   "outputs": [],
   "source": [
    "# jose\n",
    "JoseEmails = jose_bodies_df.iloc[:, 0]#.apply(tokenize)\n",
    "# JoseEmails = JoseEmails.sample(len(JoseEmails))\n",
    "\n",
    "\n",
    "raw_data = pd.concat([fraudEmails, IwspaEmails_phish, JoseEmails, EnronEmails, IwspaEmails_legit], axis=0).values\n"
   ],
   "metadata": {
    "collapsed": false,
    "pycharm": {
     "name": "#%%\n",
     "is_executing": false
    }
   }
  },
  {
   "cell_type": "code",
   "execution_count": 31,
   "metadata": {
    "pycharm": {
     "is_executing": false
    }
   },
   "outputs": [
    {
     "data": {
      "text/plain": "1800"
     },
     "metadata": {},
     "output_type": "execute_result",
     "execution_count": 31
    }
   ],
   "source": [
    "len(raw_data)"
   ]
  },
  {
   "cell_type": "code",
   "execution_count": 32,
   "metadata": {
    "pycharm": {
     "is_executing": false,
     "name": "#%%\n"
    }
   },
   "outputs": [
    {
     "name": "stdout",
     "text": [
      "Shape of combined data represented as numpy array is:\n",
      "(1800,)\n"
     ],
     "output_type": "stream"
    }
   ],
   "source": [
    "# 1:spam 0:not spam\n",
    "print(\"Shape of combined data represented as numpy array is:\")\n",
    "print(raw_data.shape)\n",
    "#print(\"Data represented as numpy array is:\")\n",
    "#print(raw_data)\n",
    "\n",
    "# corresponding labels\n",
    "Categories = ['spam','notspam']\n",
    "#header = ([1]*Nsamp)\n",
    "#header.extend(([0]*Nsamp))\n",
    "header = ([1]*(len(fraudEmails) + len(IwspaEmails_phish) + len(JoseEmails)))\n",
    "header.extend(([0]*(len(EnronEmails) + len(IwspaEmails_legit))))"
   ]
  },
  {
   "cell_type": "code",
   "execution_count": 33,
   "metadata": {
    "pycharm": {
     "is_executing": false
    }
   },
   "outputs": [
    {
     "data": {
      "text/plain": "str"
     },
     "metadata": {},
     "output_type": "execute_result",
     "execution_count": 33
    }
   ],
   "source": [
    "type(raw_data[10])"
   ]
  },
  {
   "cell_type": "code",
   "execution_count": 34,
   "metadata": {
    "pycharm": {
     "is_executing": false,
     "name": "#%%\n"
    }
   },
   "outputs": [
    {
     "name": "stdout",
     "text": [
      "train_x/train_y list details, to make sure it is of the right form:\n",
      "1260\n",
      "(1260,)\n"
     ],
     "output_type": "stream"
    }
   ],
   "source": [
    "# function for shuffling data in unison with labels/header\n",
    "def unison_shuffle(a, b):\n",
    "    p = np.random.permutation(len(b))\n",
    "    data = a[p]\n",
    "    header = np.asarray(b)[p]\n",
    "    return data, header\n",
    "\n",
    "# function for converting data into the right format, due to the difference in required format from sklearn models\n",
    "# we expect a single string per email here, versus a list of tokens for the sklearn models previously explored\n",
    "def convert_data(raw_data,header):\n",
    "    converted_data, labels = [], []\n",
    "    for i in range(raw_data.shape[0]):\n",
    "        # out = ' '.join(str(raw_data[i]))\n",
    "        out = str(raw_data[i])\n",
    "        converted_data.append(out)\n",
    "        labels.append(header[i])\n",
    "        #print(i)\n",
    "    converted_data = np.array(converted_data, dtype=object)[:, np.newaxis]\n",
    "    \n",
    "    return converted_data, np.array(labels)\n",
    "\n",
    "raw_data, header = unison_shuffle(raw_data, header)\n",
    "\n",
    "# split into independent 70% training and 30% testing sets\n",
    "idx = int(0.7*raw_data.shape[0])\n",
    "# 70% of data for training\n",
    "train_x, train_y = convert_data(raw_data[:idx],header[:idx])\n",
    "# remaining 30% for testing\n",
    "test_x, test_y = convert_data(raw_data[idx:],header[idx:])\n",
    "\n",
    "print(\"train_x/train_y list details, to make sure it is of the right form:\")\n",
    "print(len(train_x))\n",
    "# print(train_x)\n",
    "# print(train_y[:5])\n",
    "print(train_y.shape)\n"
   ]
  },
  {
   "cell_type": "code",
   "execution_count": 34,
   "outputs": [],
   "source": [],
   "metadata": {
    "collapsed": false,
    "pycharm": {
     "name": "#%%\n",
     "is_executing": false
    }
   }
  },
  {
   "cell_type": "code",
   "execution_count": 35,
   "outputs": [],
   "source": [
    "np.save('../output/train_x.npy', train_x)\n",
    "np.save('../output/train_y.npy', train_y)\n",
    "np.save('../output/test_x.npy', test_x)\n",
    "np.save('../output/test_y.npy', test_y)"
   ],
   "metadata": {
    "collapsed": false,
    "pycharm": {
     "name": "#%%\n",
     "is_executing": false
    }
   }
  },
  {
   "cell_type": "code",
   "execution_count": 36,
   "outputs": [
    {
     "name": "stdout",
     "text": [
      "True\n",
      "True\n",
      "True\n",
      "True\n"
     ],
     "output_type": "stream"
    }
   ],
   "source": [
    "b = np.load('../output/train_x.npy', allow_pickle=True)\n",
    "\n",
    "issue = np.array_equal(train_x,b)  #验证  比较a，b是否相同时同一个array\n",
    "print(str(issue))\n",
    "\n",
    "b = np.load('../output/train_y.npy', allow_pickle=True)\n",
    "\n",
    "issue = np.array_equal(train_y,b)\n",
    "print(str(issue))\n",
    "\n",
    "b = np.load('../output/test_x.npy', allow_pickle=True)\n",
    "\n",
    "issue = np.array_equal(test_x,b)  #验证  比较a，b是否相同时同一个array\n",
    "print(str(issue))\n",
    "\n",
    "b = np.load('../output/test_y.npy', allow_pickle=True)\n",
    "\n",
    "issue = np.array_equal(test_y,b)\n",
    "print(str(issue))"
   ],
   "metadata": {
    "collapsed": false,
    "pycharm": {
     "name": "#%%\n",
     "is_executing": false
    }
   }
  },
  {
   "cell_type": "code",
   "execution_count": 37,
   "outputs": [],
   "source": [
    "store = pd.concat([pd.DataFrame(train_x), pd.DataFrame(train_y)], axis=1).values\n",
    "store1 = pd.concat([pd.DataFrame(test_x), pd.DataFrame(test_y)], axis=1).values"
   ],
   "metadata": {
    "collapsed": false,
    "pycharm": {
     "name": "#%%\n",
     "is_executing": false
    }
   }
  },
  {
   "cell_type": "code",
   "execution_count": 38,
   "outputs": [
    {
     "data": {
      "text/plain": "array(['F R O M : M R .   J A M E S   N G O L A . \\n C O N F I D E N T I A L   T E L :   2 3 3 - 2 7 - 5 8 7 9 0 8 . \\n E - M A I L :   ( j a m e s _ n g o l a 2 0 0 2 @ m a k t o o b . c o m ) . \\n \\n U R G E N T   B U S I N E S S   A S S I S T A N C E   A N D   P A R T N E R S H I P . \\n \\n \\n D E A R   F R I E N D , \\n \\n I   A M   (   D R . )   J A M E S   N G O L A ,   T H E   P E R S O N A L   A S S I S T A N C E   T O   T H E   L A T E   C O N G O L E S E   ( P R E S I D E N T   L A U R E N T   K A B I L A )   W H O   W A S   A S S A S S I N A T E D   B Y   H I S   B O D Y   G U A R D   O N   1 6 T H   J A N .   2 0 0 1 . \\n \\n \\n T H E   I N C I D E N T   O C C U R R E D   I N   O U R   P R E S E N C E   W H I L E   W E   W E R E   H O L D I N G   M E E T I N G   W I T H   H I S   E X C E L L E N C Y   O V E R   T H E   F I N A N C I A L   R E T U R N S   F R O M   T H E   D I A M O N D   S A L E S   I N   T H E   A R E A S   C O N T R O L L E D   B Y   ( D . R . C . )   D E M O C R A T I C   R E P U B L I C   O F   C O N G O   F O R C E S   A N D   T H E I R   F O R E I G N   A L L I E S   A N G O L A   A N D   Z I M B A B W E ,   H A V I N G   R E C E I V E D   T H E   P R E V I O U S   D A Y   ( U S D $ 1 0 0 M )   O N E   H U N D R E D   M I L L I O N   U N I T E D   S T A T E S   D O L L A R S ,   C A S H   I N   T H R E E   D I P L O M A T I C   B O X E S   R O U T E D   T H R O U G H   Z I M B A B W E . \\n \\n M Y   P U R P O S E   O F   W R I T I N G   Y O U   T H I S   L E T T E R   I S   T O   S O L I C I T   F O R   Y O U R   A S S I S T A N C E   A S   T O   B E   A   C O V E R   T O   T H E   F U N D   A N D   A L S O   C O L L A B O R A T I O N   I N   M O V I N G   T H E   S A I D   F U N D   I N T O   Y O U R   B A N K   A C C O U N T   T H E   S U M   O F   ( U S D $ 2 5 M )   T W E N T Y   F I V E   M I L L I O N   U N I T E D   S T A T E S   D O L L A R S   O N L Y ,   W H I C H   I   D E P O S I T E D   W I T H   A   S E C U R I T Y   C O M P A N Y   I N   G H A N A ,   I N   A   D I P L O M A T I C   B O X   A S   G O L D S   W O R T H   ( U S D $ 2 5 M )   T W E N T Y   F I V E   M I L L I O N   U N I T E D   S T A T E S   D O L L A R S   O N L Y   F O R   S A F E   K E E P I N G   I N   A   S E C U R I T Y   V A U L T   F O R   A N Y   F U R T H E R   I N V E S T M E N T   P E R H A P S   I N   Y O U R   C O U N T R Y .   \\n \\n Y O U   W E R E   I N T R O D U C E D   T O   M E   B Y   A   R E L I A B L E   F R I E N D   O F   M I N E   W H O   I S   A   T R A V E L L E R , A N D   A L S O   A   M E M B E R   O F   C H A M B E R   O F   C O M M E R C E   A S   A   R E L I A B L E   A N D   T R U S T W O R T H Y   P E R S O N   W H O M   I   C A N   R E L Y   O N   A S   F O R E I G N   P A R T N E R ,   E V E N   T H O U G H   T H E   N A T U R E   O F   T H E   T R A N S A C T I O N   W A S   N O T   R E V E A L E D   T O   H I M   F O R   S E C U R I T Y   R E A S O N S . \\n \\n \\n T H E   ( U S D $ 2 5 M )   W A S   P A R T   O F   A   P R O C E E D S   F R O M   D I A M O N D   T R A D E   M E A N T   F O R   T H E   L A T E   P R E S I D E N T   L A U R E N T   K A B I L A   W H I C H   W A S   D E L I V E R E D   T H R O U G H   Z I M B A B W E   I N   D I P L O M A T I C   B O X E S .   T H E   B O X E S   W E R E   K E P T   U N D E R   M Y   C U S T O D Y   B E F O R E   T H E   S A D   E V E N T   T H A T   T O O K   T H E   L I F E   O F   ( M R .   P R E S I D E N T ) . T H E   C O N F U S I O N   T H A T   E N S U E D   A F T E R   T H E   A S S A S S I N A T I O N   A N D   T H E   S P O R A D I C   S H O O T I N G   A M O N G   T H E   F A C T I O N S ,   I   H A V E   T O   R U N   A W A Y   F R O M   T H E   C O U N T R Y   F O R   M Y   D E A R   L I F E   A S   I   A M   N O T   A   S O L D I E R   B U T   A   C I V I L   S E R V A N T   I   C R O S S E D   R I V E R   C O N G O   T O   O T H E R   S I D E   O F   C O N G O   L I B R E V I L L E   F R O M   T H E R E   I   M O V E D   T O   T H E   T H I R D   C O U N T R Y   G H A N A   W H E R E   I   A M   P R E S E N T L Y   T A K I N G   R E F U G E .   \\n \\n A S   A   M A T T E R   O F   F A C T ,   W H A T   I   U R G E N T L Y   N E E D E D   F R O M   Y O U   I S   Y O U R   A S S I S T A N C E   I N   M O V I N G   T H I S   M O N E Y   I N T O   Y O U R   A C C O U N T   I N   Y O U R   C O U N T R Y   F O R   I N V E S T M E N T   W I T H O U T   R A I S I N G   E Y E B R O W .   F O R   Y O U R   A S S I S T A N C E   I   W I L L   G I V E   Y O U   2 0 %   O F   T H E   T O T A L   S U M   A S   Y O U R   O W N   S H A R E   W H E N   T H E   M O N E Y   G E T S   T O   Y O U R   A C C O U N T ,   W H I L E   7 5 %   W I L L   B E   F O R   M E ,   O F   W H I C H   W I T H   Y O U R   K I N D   A D V I C E   I   H O P E   T O   I N V E S T   I N   P R O F I T A B L E   V E N T U R E   I N   Y O U R   C O U N T R Y   I N   O T H E R   T O   S E T T L E   D O W N   F O R   M E A N I N G F U L   L I F E ,   A S   I   A M   T I R E D   O F   L I V I N G   I N   A   W A R   E N V I R O N M E N T .   \\n \\n T H E   R E M A I N I N G   5 %   W I L L   B E   U S E D   T O   O F F S E T   A N Y   C O S T   I N C U R R E D   I N   T H E   C A U S E   O F   M O V I N G   T H E   M O N E Y   T O   Y O U R   A C C O U N T .   I F   T H E   P R O P O S A L   I S   A C C E P T A B L E   T O   Y O U   P L E A S E   C O N T A C T   M E   I M M E D I A T E L Y   T H R O U G H   T H E   A B O V E   T E L E P H O N E   A N D   E - M A I L ,   T O   E N A B L E   M E   A R R A N G E   F A C E   T O   F A C E   M E E T I N G   W I T H   Y O U   I N   G H A N A   F O R   T H E   C L E A R A N C E   O F   T H E   F U N D S   B E F O R E   T R A N S F R I N G   I T   T O   Y O U R   B A N K   A C C O U N T   A S   S E E I N G   I S   B E L I E V I N G .   \\n \\n F I N A L L Y ,   I T   I S   I M P O R T A N T   A L S O   T H A T   I   L E T   Y O U   U N D E R S T A N D   T H A T   T H E R E   I S   N O   R I S K   I N V O L V E D   W H A T S O E V E R   A S   T H E   M O N E Y   H A D   N O   R E C O R D   I N   K I N S H A S A   F O R   I T   W A S   M E A N T   F O R   T H E   P E R S O N A L   U S E   O F   ( M R .   P R E S I D E N D   )   B E F O R E   T H E   N E F A R I O U S   I N C I D E N T   O C C U R R E D ,   A N D   A L S O   I   H A V E   A L L   T H E   N E C E S S A R Y   D O C U M E N T S   A S   R E G A R D S   T O   T H E   F U N D S   I N C L U D I N G   T H E   ( C E R T I F I C A T E   O F   D E P O S I T ) ,   A S   I   A M   T H E   D E P O S I T O R   O F   T H E   C O N S I G N M E N T . \\n \\n \\n L O O K I N G   F O R W A R D   T O   Y O U R   U R G E N T   R E S P O N S E . \\n \\n Y O U R   S I N C E R E L Y , \\n \\n M R .   J A M E S   N G O L A .   \\n \\n \\n \\n \\n \\n \\n \\n \\n \\n \\n',\n       1], dtype=object)"
     },
     "metadata": {},
     "output_type": "execute_result",
     "execution_count": 38
    }
   ],
   "source": [
    "store[0]\n"
   ],
   "metadata": {
    "collapsed": false,
    "pycharm": {
     "name": "#%% \n",
     "is_executing": false
    }
   }
  },
  {
   "cell_type": "code",
   "execution_count": 39,
   "outputs": [],
   "source": [
    "csv = pd.DataFrame(store)\n",
    "csv.to_csv('../output/train_1.csv')"
   ],
   "metadata": {
    "collapsed": false,
    "pycharm": {
     "name": "#%% \n",
     "is_executing": false
    }
   }
  },
  {
   "cell_type": "code",
   "execution_count": 40,
   "outputs": [],
   "source": [
    "csv = pd.DataFrame(store1)\n",
    "csv.to_csv('../output/train_2.csv')"
   ],
   "metadata": {
    "collapsed": false,
    "pycharm": {
     "name": "#%% \n",
     "is_executing": false
    }
   }
  },
  {
   "cell_type": "code",
   "execution_count": 41,
   "outputs": [
    {
     "data": {
      "text/plain": "   Unnamed: 0  \\\n0           0   \n1           1   \n2           2   \n3           3   \n4           4   \n\n                                                                                                                                                                                                                                                                                                             0  \\\n0  F R O M : M R .   J A M E S   N G O L A . \\n C O N F I D E N T I A L   T E L :   2 3 3 - 2 7 - 5 8 7 9 0 8 . \\n E - M A I L :   ( j a m e s _ n g o l a 2 0 0 2 @ m a k t o o b . c o m ) . \\n \\n U R G E N T   B U S I N E S S   A S S I S T A N C E   A N D   P A R T N E R S H I P . \\n \\n \\n D E A R...   \n1                                                                                                                                                          t o   b e   a u t o m a t i c a l l y   u n s u b s c r i b e d   f r o m   t h i s   l i s t   p l e a s e   e m a i l   u s e r d o m a i n c o m   \n2  d a n i e l e   m i l a n   u p d a t e d   a   e v e n t   i n   t h e   c o n f e r e n c e s   m a r k e t i n g   e v e n t s   c a l e n d a r   j u n   1 7   2 0 1 4   u n t i l   j u n   1 9   2 0 1 4   i d e c   r o m a   l i n k   y o u   a r e   r e c e i v i n g   t h i s   n o t i f ...   \n3  < D I V   s t y l e = \" b a c k g r o u n d :   u r l ( ' h t t p : / / w w w . c a r t a s i . i t / I m m a g i n i / b k g _ s e c o n d _ l e v e l . g i f ' ) ;   w i d t h :   1 0 0 % ;   h e i g h t :   3 5 p x ; \" > \\n \\t < a   s t y l e = \" p a d d i n g :   6 p x   0   0   3 0 p x ;   ...   \n4  r e a d   o n   t h e   w e b   l i n k   o n   p a r e n t i n g   2 0   t e e n s   s a y   t h e y 8 2 1 7 r e   a d d i c t e d   t o   t e c h n o l o g y   h e r e 8 2 1 7 s   h o w   p a r e n t s   c a   n   h e l p   h a l f   o f   a l l   t e e n s   s a y   t h e y   f e e l   a d d ...   \n\n   1  \n0  1  \n1  0  \n2  0  \n3  1  \n4  0  ",
      "text/html": "<div>\n<style scoped>\n    .dataframe tbody tr th:only-of-type {\n        vertical-align: middle;\n    }\n\n    .dataframe tbody tr th {\n        vertical-align: top;\n    }\n\n    .dataframe thead th {\n        text-align: right;\n    }\n</style>\n<table border=\"1\" class=\"dataframe\">\n  <thead>\n    <tr style=\"text-align: right;\">\n      <th></th>\n      <th>Unnamed: 0</th>\n      <th>0</th>\n      <th>1</th>\n    </tr>\n  </thead>\n  <tbody>\n    <tr>\n      <th>0</th>\n      <td>0</td>\n      <td>F R O M : M R .   J A M E S   N G O L A . \\n C O N F I D E N T I A L   T E L :   2 3 3 - 2 7 - 5 8 7 9 0 8 . \\n E - M A I L :   ( j a m e s _ n g o l a 2 0 0 2 @ m a k t o o b . c o m ) . \\n \\n U R G E N T   B U S I N E S S   A S S I S T A N C E   A N D   P A R T N E R S H I P . \\n \\n \\n D E A R...</td>\n      <td>1</td>\n    </tr>\n    <tr>\n      <th>1</th>\n      <td>1</td>\n      <td>t o   b e   a u t o m a t i c a l l y   u n s u b s c r i b e d   f r o m   t h i s   l i s t   p l e a s e   e m a i l   u s e r d o m a i n c o m</td>\n      <td>0</td>\n    </tr>\n    <tr>\n      <th>2</th>\n      <td>2</td>\n      <td>d a n i e l e   m i l a n   u p d a t e d   a   e v e n t   i n   t h e   c o n f e r e n c e s   m a r k e t i n g   e v e n t s   c a l e n d a r   j u n   1 7   2 0 1 4   u n t i l   j u n   1 9   2 0 1 4   i d e c   r o m a   l i n k   y o u   a r e   r e c e i v i n g   t h i s   n o t i f ...</td>\n      <td>0</td>\n    </tr>\n    <tr>\n      <th>3</th>\n      <td>3</td>\n      <td>&lt; D I V   s t y l e = \" b a c k g r o u n d :   u r l ( ' h t t p : / / w w w . c a r t a s i . i t / I m m a g i n i / b k g _ s e c o n d _ l e v e l . g i f ' ) ;   w i d t h :   1 0 0 % ;   h e i g h t :   3 5 p x ; \" &gt; \\n \\t &lt; a   s t y l e = \" p a d d i n g :   6 p x   0   0   3 0 p x ;   ...</td>\n      <td>1</td>\n    </tr>\n    <tr>\n      <th>4</th>\n      <td>4</td>\n      <td>r e a d   o n   t h e   w e b   l i n k   o n   p a r e n t i n g   2 0   t e e n s   s a y   t h e y 8 2 1 7 r e   a d d i c t e d   t o   t e c h n o l o g y   h e r e 8 2 1 7 s   h o w   p a r e n t s   c a   n   h e l p   h a l f   o f   a l l   t e e n s   s a y   t h e y   f e e l   a d d ...</td>\n      <td>0</td>\n    </tr>\n  </tbody>\n</table>\n</div>"
     },
     "metadata": {},
     "output_type": "execute_result",
     "execution_count": 41
    }
   ],
   "source": [
    "train_1 = pd.read_csv('../output/train_1.csv')\n",
    "train_1.head()"
   ],
   "metadata": {
    "collapsed": false,
    "pycharm": {
     "name": "#%% \n",
     "is_executing": false
    }
   }
  },
  {
   "cell_type": "code",
   "execution_count": 42,
   "outputs": [
    {
     "data": {
      "text/plain": "   Unnamed: 0  \\\n0           0   \n1           1   \n2           2   \n3           3   \n4           4   \n\n                                                                                                                                                                                                                                                                                                             0  \\\n0  S a r a h   - \\n \\n A t t a c h e d   a r e   m y   c o m m e n t s   t o   t h e   p r o p o s e d   N o n - D i s c l o s u r e   A g r e e m e n t .     P l e a s e   \\n r e v i e w   t h e m   a t   y o u r   c o n v e n i e n c e   a n d   l e t   m e   k n o w   y o u r   t h o u g h t s ....   \n1  i f   t h e y   a r e   n o t   c o n f i r m i n g   t h i s   d e a l   a r e   t h e y   c o n f i r m i n g   1 0 3 4 2 5 4 ? \\n \\n   - - - - - O r i g i n a l   M e s s a g e - - - - - \\n F r o m :   \\t D o z i e r ,   S c o t t     \\n S e n t : \\t T u e s d a y ,   O c t o b e r   2 3 ,   ...   \n2  - - - - - - - - - - - - - - - - - - - - - -   F o r w a r d e d   b y   K a y   M a n n / C o r p / E n r o n   o n   1 2 / 1 9 / 2 0 0 0   1 1 : 5 5   \\n A M   - - - - - - - - - - - - - - - - - - - - - - - - - - - \\n \\n \\n K a y   M a n n \\n 1 2 / 1 5 / 2 0 0 0   0 1 : 2 2   P M \\n T o :   L y ...   \n3  A t t a c h e d   i s   a n   A s s i g n e d   C o m m i s s i o n e r ' s   R u l i n g   r e   a c c e s s   t o   D W R ' s   c o m p u t e r \\n m o d e l s   u s e d   t o   d e t e r m i n e   i t s   r e v e n u e   r e q u i r e m e n t .     I t   m a y   b e   a   f o r e s h a d o w i...   \n4  Y o u r   u n d e r s t a n d i n g   o f   m y   p r e v i o u s   d i s s e r t a t i o n   i s   c o r r e c t .     - J i m \\n \\n \\n F r o m :   J e f f   D a s o v i c h @ E N R O N   o n   0 2 / 2 8 / 2 0 0 1   0 1 : 0 4   P M   C S T \\n S e n t   b y :   J e f f   D a s o v i c h @ E N R ...   \n\n   1  \n0  0  \n1  0  \n2  0  \n3  0  \n4  0  ",
      "text/html": "<div>\n<style scoped>\n    .dataframe tbody tr th:only-of-type {\n        vertical-align: middle;\n    }\n\n    .dataframe tbody tr th {\n        vertical-align: top;\n    }\n\n    .dataframe thead th {\n        text-align: right;\n    }\n</style>\n<table border=\"1\" class=\"dataframe\">\n  <thead>\n    <tr style=\"text-align: right;\">\n      <th></th>\n      <th>Unnamed: 0</th>\n      <th>0</th>\n      <th>1</th>\n    </tr>\n  </thead>\n  <tbody>\n    <tr>\n      <th>0</th>\n      <td>0</td>\n      <td>S a r a h   - \\n \\n A t t a c h e d   a r e   m y   c o m m e n t s   t o   t h e   p r o p o s e d   N o n - D i s c l o s u r e   A g r e e m e n t .     P l e a s e   \\n r e v i e w   t h e m   a t   y o u r   c o n v e n i e n c e   a n d   l e t   m e   k n o w   y o u r   t h o u g h t s ....</td>\n      <td>0</td>\n    </tr>\n    <tr>\n      <th>1</th>\n      <td>1</td>\n      <td>i f   t h e y   a r e   n o t   c o n f i r m i n g   t h i s   d e a l   a r e   t h e y   c o n f i r m i n g   1 0 3 4 2 5 4 ? \\n \\n   - - - - - O r i g i n a l   M e s s a g e - - - - - \\n F r o m :   \\t D o z i e r ,   S c o t t     \\n S e n t : \\t T u e s d a y ,   O c t o b e r   2 3 ,   ...</td>\n      <td>0</td>\n    </tr>\n    <tr>\n      <th>2</th>\n      <td>2</td>\n      <td>- - - - - - - - - - - - - - - - - - - - - -   F o r w a r d e d   b y   K a y   M a n n / C o r p / E n r o n   o n   1 2 / 1 9 / 2 0 0 0   1 1 : 5 5   \\n A M   - - - - - - - - - - - - - - - - - - - - - - - - - - - \\n \\n \\n K a y   M a n n \\n 1 2 / 1 5 / 2 0 0 0   0 1 : 2 2   P M \\n T o :   L y ...</td>\n      <td>0</td>\n    </tr>\n    <tr>\n      <th>3</th>\n      <td>3</td>\n      <td>A t t a c h e d   i s   a n   A s s i g n e d   C o m m i s s i o n e r ' s   R u l i n g   r e   a c c e s s   t o   D W R ' s   c o m p u t e r \\n m o d e l s   u s e d   t o   d e t e r m i n e   i t s   r e v e n u e   r e q u i r e m e n t .     I t   m a y   b e   a   f o r e s h a d o w i...</td>\n      <td>0</td>\n    </tr>\n    <tr>\n      <th>4</th>\n      <td>4</td>\n      <td>Y o u r   u n d e r s t a n d i n g   o f   m y   p r e v i o u s   d i s s e r t a t i o n   i s   c o r r e c t .     - J i m \\n \\n \\n F r o m :   J e f f   D a s o v i c h @ E N R O N   o n   0 2 / 2 8 / 2 0 0 1   0 1 : 0 4   P M   C S T \\n S e n t   b y :   J e f f   D a s o v i c h @ E N R ...</td>\n      <td>0</td>\n    </tr>\n  </tbody>\n</table>\n</div>"
     },
     "metadata": {},
     "output_type": "execute_result",
     "execution_count": 42
    }
   ],
   "source": [
    "train_2 = pd.read_csv('../output/train_2.csv')\n",
    "train_2.head()"
   ],
   "metadata": {
    "collapsed": false,
    "pycharm": {
     "name": "#%% \n",
     "is_executing": false
    }
   }
  },
  {
   "cell_type": "markdown",
   "source": [
    "#enron html data"
   ],
   "metadata": {
    "collapsed": false
   }
  },
  {
   "cell_type": "code",
   "execution_count": 43,
   "metadata": {
    "pycharm": {
     "is_executing": false,
     "name": "#%%\n"
    }
   },
   "outputs": [],
   "source": [
    "# def extract_html_messages(df):\n",
    "#     messages = []\n",
    "#     for item in df[\"message\"]:\n",
    "#         # Return a message object structure from a string\n",
    "#         e = email.message_from_string(item)\n",
    "#         # get message body\n",
    "#         message_body = e.get_payload()\n",
    "#         if '<html>' in message_body:\n",
    "#             messages.append(message_body)\n",
    "#         # if BeautifulSoup(message_body, \"html.parser\").find():\n",
    "#         #     messages.append(message_body)\n",
    "#     print(\"Successfully retrieved message body from e-mails!\")\n",
    "#     print(len(messages))\n",
    "#     return messages\n",
    "# enron_html_bodies = extract_html_messages(emails)"
   ]
  },
  {
   "cell_type": "code",
   "execution_count": 44,
   "metadata": {
    "pycharm": {
     "is_executing": false,
     "name": "#%%\n"
    }
   },
   "outputs": [],
   "source": [
    "# enron_html_bodies[0]\n"
   ]
  },
  {
   "cell_type": "markdown",
   "metadata": {},
   "source": [
    "#positive: legit\n",
    "#enron text:50W html:874\n",
    "#iwspa text:5091 html:9\n",
    "\n",
    "#negative: phishing\n",
    "#fraudulent text:3978 html:147\n",
    "#iwspa text:628 html:15\n",
    "#jose text:10147 html:10147\n",
    "\n"
   ]
  },
  {
   "cell_type": "markdown",
   "metadata": {},
   "source": [
    "#dataset:\n",
    "#fradulent all \n",
    "#jose all html\n",
    "#iwspa all no header\n",
    "#enron 2W text + all html"
   ]
  },
  {
   "cell_type": "code",
   "execution_count": 44,
   "metadata": {
    "pycharm": {
     "is_executing": false,
     "name": "#%%\n"
    }
   },
   "outputs": [],
   "source": []
  }
 ],
 "metadata": {
  "kernelspec": {
   "display_name": "Python 3",
   "language": "python",
   "name": "python3"
  },
  "language_info": {
   "codemirror_mode": {
    "name": "ipython",
    "version": 3
   },
   "file_extension": ".py",
   "mimetype": "text/x-python",
   "name": "python",
   "nbconvert_exporter": "python",
   "pygments_lexer": "ipython3",
   "version": "3.7.6"
  },
  "pycharm": {
   "stem_cell": {
    "cell_type": "raw",
    "source": [],
    "metadata": {
     "collapsed": false
    }
   }
  }
 },
 "nbformat": 4,
 "nbformat_minor": 1
}