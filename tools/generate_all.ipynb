{
 "cells": [
  {
   "cell_type": "code",
   "execution_count": 1,
   "outputs": [
    {
     "name": "stderr",
     "text": [
      "[nltk_data] Error loading stopwords: <urlopen error [Errno 60]\n",
      "[nltk_data]     Operation timed out>\n"
     ],
     "output_type": "stream"
    }
   ],
   "source": [
    "import nltk\n",
    "\n",
    "import ssl\n",
    "\n",
    "try:\n",
    "    _create_unverified_https_context = ssl._create_unverified_context\n",
    "except AttributeError:\n",
    "    pass\n",
    "else:\n",
    "    ssl._create_default_https_context = _create_unverified_https_context\n",
    " \n",
    "dl = nltk.downloader.Downloader('http://nltk.org/nltk_data/index.xml')\n",
    "# nltk.download('stopwords')\n",
    "dl.download('stopwords')\n",
    "\n",
    "from nltk.corpus import stopwords\n",
    "stopwords = stopwords.words('english')    \n",
    "#print(stopwords) # see default stopwords\n",
    "\n",
    "def stop_word_removal(row):\n",
    "    token = [token for token in row if token not in stopwords]\n",
    "    token = filter(None, token)\n",
    "    return token"
   ],
   "metadata": {
    "collapsed": false,
    "pycharm": {
     "name": "#%%\n",
     "is_executing": false
    }
   }
  },
  {
   "cell_type": "code",
   "execution_count": 2,
   "outputs": [],
   "source": [
    "# Params for bert model and tokenization\n",
    "Nsamp = 200 # number of samples to generate in each class - 'spam', 'not spam'\n",
    "maxtokens = 200 # the maximum number of tokens per document\n",
    "maxtokenlen = 100 # the maximum length of each token\n",
    "Enron_Sample = 30000"
   ],
   "metadata": {
    "collapsed": false,
    "pycharm": {
     "name": "#%%\n",
     "is_executing": false
    }
   }
  },
  {
   "cell_type": "code",
   "execution_count": 3,
   "outputs": [],
   "source": [
    "def reg_expressions(row):\n",
    "    tokens = []\n",
    "    try:\n",
    "        for token in row:\n",
    "            token = token.lower()\n",
    "            token = re.sub(r'[\\W\\d]', \"\", token)\n",
    "            token = token[:maxtokenlen] # truncate token\n",
    "            tokens.append(token)\n",
    "    except:\n",
    "        token = \"\"\n",
    "        tokens.append(token)\n",
    "    return tokens"
   ],
   "metadata": {
    "collapsed": false,
    "pycharm": {
     "name": "#%%\n",
     "is_executing": false
    }
   }
  },
  {
   "cell_type": "code",
   "execution_count": 4,
   "outputs": [],
   "source": [
    "def tokenize(row):\n",
    "    if row is None or row is '':\n",
    "        tokens = \"\"\n",
    "    else:\n",
    "        try:\n",
    "            tokens = row.split(\" \")[:maxtokens]\n",
    "        except:\n",
    "            tokens=\"\"\n",
    "    return tokens"
   ],
   "metadata": {
    "collapsed": false,
    "pycharm": {
     "name": "#%%\n",
     "is_executing": false
    }
   }
  },
  {
   "cell_type": "code",
   "execution_count": 5,
   "outputs": [],
   "source": [
    "import re, string\n",
    "\n",
    "def clean_text(text):\n",
    "    text = text.encode('utf-8').decode('utf-8')\n",
    "    while '\\n' in text:\n",
    "        text = text.replace('\\n', ' ')\n",
    "    while '  ' in text:\n",
    "        text = text.replace('  ', ' ')\n",
    "    words = text.split()\n",
    "    regex = re.compile('[%s]' % re.escape(string.punctuation))\n",
    "    stripped = []\n",
    "    for token in words: \n",
    "        new_token = regex.sub(u'', token)\n",
    "        if not new_token == u'':\n",
    "            stripped.append(new_token.lower())\n",
    "    text = ' '.join(stripped)\n",
    "    return text"
   ],
   "metadata": {
    "collapsed": false,
    "pycharm": {
     "name": "#%%\n",
     "is_executing": false
    }
   }
  },
  {
   "cell_type": "markdown",
   "source": [
    "#jose data"
   ],
   "metadata": {
    "collapsed": false
   }
  },
  {
   "cell_type": "code",
   "execution_count": 6,
   "outputs": [
    {
     "data": {
      "text/plain": "'../data/jose_phishing_html/phishing5.mbox-1805.eml.html'"
     },
     "metadata": {},
     "output_type": "execute_result",
     "execution_count": 6
    }
   ],
   "source": [
    "import os\n",
    "jose_phishing_files = []\n",
    "\n",
    "for dirname, _, filenames in os.walk('../data/jose_phishing_html'):\n",
    "    for filename in filenames:\n",
    "        if filename.startswith('phishing'):\n",
    "            jose_phishing_files.append(os.path.join(dirname, filename))\n",
    "jose_phishing_files[0]    "
   ],
   "metadata": {
    "collapsed": false,
    "pycharm": {
     "name": "#%%\n",
     "is_executing": false
    }
   }
  },
  {
   "cell_type": "code",
   "execution_count": 7,
   "outputs": [
    {
     "data": {
      "text/plain": "10147"
     },
     "metadata": {},
     "output_type": "execute_result",
     "execution_count": 7
    }
   ],
   "source": [
    "def get_data_content(files):\n",
    "    data = []\n",
    "    for file in files:\n",
    "        with open(file, 'r') as f:\n",
    "            data.append(f.read())\n",
    "    return data\n",
    "    \n",
    "jose_file_contents = get_data_content(jose_phishing_files)\n",
    "len(jose_file_contents)"
   ],
   "metadata": {
    "collapsed": false,
    "pycharm": {
     "name": "#%%\n",
     "is_executing": false
    }
   }
  },
  {
   "cell_type": "code",
   "execution_count": 8,
   "outputs": [
    {
     "data": {
      "text/plain": "                                             message\n0  <!DOCTYPE HTML PUBLIC \"-//W3C//DTD HTML 4.0 Tr...\n1  <html dir=\"ltr\">\\n<head>\\n<meta http-equiv=\"Co...\n2  <TABLE cellSpacing=0 cellPadding=0 width=\"100%...\n3  Your mailbox quota has been exceeded the stora...\n4  <style type=\"text/css\">\\n.n {\\n\\tcolor: #FF000...",
      "text/html": "<div>\n<style scoped>\n    .dataframe tbody tr th:only-of-type {\n        vertical-align: middle;\n    }\n\n    .dataframe tbody tr th {\n        vertical-align: top;\n    }\n\n    .dataframe thead th {\n        text-align: right;\n    }\n</style>\n<table border=\"1\" class=\"dataframe\">\n  <thead>\n    <tr style=\"text-align: right;\">\n      <th></th>\n      <th>message</th>\n    </tr>\n  </thead>\n  <tbody>\n    <tr>\n      <th>0</th>\n      <td>&lt;!DOCTYPE HTML PUBLIC \"-//W3C//DTD HTML 4.0 Tr...</td>\n    </tr>\n    <tr>\n      <th>1</th>\n      <td>&lt;html dir=\"ltr\"&gt;\\n&lt;head&gt;\\n&lt;meta http-equiv=\"Co...</td>\n    </tr>\n    <tr>\n      <th>2</th>\n      <td>&lt;TABLE cellSpacing=0 cellPadding=0 width=\"100%...</td>\n    </tr>\n    <tr>\n      <th>3</th>\n      <td>Your mailbox quota has been exceeded the stora...</td>\n    </tr>\n    <tr>\n      <th>4</th>\n      <td>&lt;style type=\"text/css\"&gt;\\n.n {\\n\\tcolor: #FF000...</td>\n    </tr>\n  </tbody>\n</table>\n</div>"
     },
     "metadata": {},
     "output_type": "execute_result",
     "execution_count": 8
    }
   ],
   "source": [
    "import pandas as pd\n",
    "jose_bodies_df = pd.DataFrame(jose_file_contents,columns=[\"message\"],dtype=str)\n",
    "# jose_bodies_df = pd.DataFrame(jose_bodies_df[1:])\n",
    "\n",
    "jose_bodies_df.head() # yo"
   ],
   "metadata": {
    "collapsed": false,
    "pycharm": {
     "name": "#%%\n",
     "is_executing": false
    }
   }
  },
  {
   "cell_type": "code",
   "execution_count": 9,
   "outputs": [
    {
     "data": {
      "text/plain": "10147"
     },
     "metadata": {},
     "output_type": "execute_result",
     "execution_count": 9
    }
   ],
   "source": [
    "len(jose_bodies_df)"
   ],
   "metadata": {
    "collapsed": false,
    "pycharm": {
     "name": "#%%\n",
     "is_executing": false
    }
   }
  },
  {
   "cell_type": "markdown",
   "source": [
    "#Enron email data."
   ],
   "metadata": {
    "collapsed": false
   }
  },
  {
   "cell_type": "code",
   "execution_count": 10,
   "outputs": [
    {
     "name": "stdout",
     "text": [
      "Successfully loaded 517401 rows and 2 columns!\n"
     ],
     "output_type": "stream"
    },
    {
     "data": {
      "text/plain": "                       file                                            message\n0     allen-p/_sent_mail/1.  Message-ID: <18782981.1075855378110.JavaMail.e...\n1    allen-p/_sent_mail/10.  Message-ID: <15464986.1075855378456.JavaMail.e...\n2   allen-p/_sent_mail/100.  Message-ID: <24216240.1075855687451.JavaMail.e...\n3  allen-p/_sent_mail/1000.  Message-ID: <13505866.1075863688222.JavaMail.e...\n4  allen-p/_sent_mail/1001.  Message-ID: <30922949.1075863688243.JavaMail.e...",
      "text/html": "<div>\n<style scoped>\n    .dataframe tbody tr th:only-of-type {\n        vertical-align: middle;\n    }\n\n    .dataframe tbody tr th {\n        vertical-align: top;\n    }\n\n    .dataframe thead th {\n        text-align: right;\n    }\n</style>\n<table border=\"1\" class=\"dataframe\">\n  <thead>\n    <tr style=\"text-align: right;\">\n      <th></th>\n      <th>file</th>\n      <th>message</th>\n    </tr>\n  </thead>\n  <tbody>\n    <tr>\n      <th>0</th>\n      <td>allen-p/_sent_mail/1.</td>\n      <td>Message-ID: &lt;18782981.1075855378110.JavaMail.e...</td>\n    </tr>\n    <tr>\n      <th>1</th>\n      <td>allen-p/_sent_mail/10.</td>\n      <td>Message-ID: &lt;15464986.1075855378456.JavaMail.e...</td>\n    </tr>\n    <tr>\n      <th>2</th>\n      <td>allen-p/_sent_mail/100.</td>\n      <td>Message-ID: &lt;24216240.1075855687451.JavaMail.e...</td>\n    </tr>\n    <tr>\n      <th>3</th>\n      <td>allen-p/_sent_mail/1000.</td>\n      <td>Message-ID: &lt;13505866.1075863688222.JavaMail.e...</td>\n    </tr>\n    <tr>\n      <th>4</th>\n      <td>allen-p/_sent_mail/1001.</td>\n      <td>Message-ID: &lt;30922949.1075863688243.JavaMail.e...</td>\n    </tr>\n  </tbody>\n</table>\n</div>"
     },
     "metadata": {},
     "output_type": "execute_result",
     "execution_count": 10
    }
   ],
   "source": [
    "import numpy as np # linear algebra\n",
    "import pandas as pd # data processing, CSV file I/O (e.g. pd.read_csv)\n",
    "\n",
    "# Input data files are available in the \"../input/\" directory.\n",
    "filepath = \"../data/enron/emails.csv\"\n",
    "\n",
    "# Read the enron data into a pandas.DataFrame called emails\n",
    "emails = pd.read_csv(filepath)\n",
    "\n",
    "print(\"Successfully loaded {} rows and {} columns!\".format(emails.shape[0], emails.shape[1]))\n",
    "emails.head()"
   ],
   "metadata": {
    "collapsed": false,
    "pycharm": {
     "name": "#%%\n",
     "is_executing": false
    }
   }
  },
  {
   "cell_type": "code",
   "execution_count": 11,
   "outputs": [],
   "source": [
    "#emails.loc[100][\"message\"]\n"
   ],
   "metadata": {
    "collapsed": false,
    "pycharm": {
     "name": "#%%\n",
     "is_executing": false
    }
   }
  },
  {
   "cell_type": "code",
   "execution_count": 12,
   "outputs": [
    {
     "name": "stdout",
     "text": [
      "Successfully retrieved message body from e-mails!\n"
     ],
     "output_type": "stream"
    }
   ],
   "source": [
    "import email\n",
    "\n",
    "def extract_messages(df):\n",
    "    messages = []\n",
    "    for item in df[\"message\"]:\n",
    "        # Return a message object structure from a string\n",
    "        e = email.message_from_string(item)    \n",
    "        # get message body  \n",
    "        message_body = e.get_payload()\n",
    "        messages.append(message_body)\n",
    "    print(\"Successfully retrieved message body from e-mails!\")\n",
    "    return messages\n",
    "\n",
    "bodies = extract_messages(emails)"
   ],
   "metadata": {
    "collapsed": false,
    "pycharm": {
     "name": "#%%\n",
     "is_executing": false
    }
   }
  },
  {
   "cell_type": "code",
   "execution_count": 13,
   "outputs": [
    {
     "data": {
      "text/plain": "517401"
     },
     "metadata": {},
     "output_type": "execute_result",
     "execution_count": 13
    }
   ],
   "source": [
    "len(bodies)"
   ],
   "metadata": {
    "collapsed": false,
    "pycharm": {
     "name": "#%%\n",
     "is_executing": false
    }
   }
  },
  {
   "cell_type": "code",
   "execution_count": 14,
   "outputs": [
    {
     "data": {
      "text/plain": "                                                                                                                                                                                                                                                                                                             0\n0                             Enron Methanol nominates the following natural gas requirements for the \\nMethanol Plant for September 2000:\\n\\n34,000 mmbtu per day\\n\\nEGPFC nominates the following natural gas requirements for the MTBE Plant at \\nMorgan's Point for September 2000:\\n\\n9,000 mmbtu per day\n1  Dear Tim,\\n\\nThank you for your feedback.\\n\\nThe weekly meetings are going well.  We're actually meeting every other week and I am providing DPR impact reports and feedback to the traders on a weekly basis.  I find that meeting every other Wednesday gives me a chance to monitor trends per each d...\n2  Please send me a copy of the pleading. fax # 713-646-3393\\n\\n\\nTo: Richard B Sanders/HOU/ECT@ECT\\ncc:  \\nSubject: Washington County, OH purchases\\n\\nI wanted to make sure you are aware of this since it may be an ECT issue.  \\nThis is a very minor case ($60K) and the only reason Enron is a named ...\n3                                                  This # is not working???\\n\\n\\n\\n\\ncjackson@txuenergy.com on 10/13/2000 10:50:56 AM\\nTo: mike.carson@enron.com\\ncc:  \\n\\nSubject: \\n\\n\\n\\n\\nCarson,\\n\\nCall me when you get a chance...214 975-9806...I don't have your office\\nnumber...\\n\\nJackson\\n\\n\\n\\n\n4  FYI - \\n\\n -----Original Message-----\\nFrom:  Jafry, Rahil  \\nSent: Monday, March 26, 2001 11:14 AM\\nTo: Beck, Sally; Hall, Bob\\nCc: Abbanat, Stephen\\nSubject: FW: CMS Opportunity\\n\\nFYI - Lets talk about this today.\\n\\n -----Original Message-----\\nFrom:  gregory.felton@cgiusa.com@ENRON \\n[mailt...",
      "text/html": "<div>\n<style scoped>\n    .dataframe tbody tr th:only-of-type {\n        vertical-align: middle;\n    }\n\n    .dataframe tbody tr th {\n        vertical-align: top;\n    }\n\n    .dataframe thead th {\n        text-align: right;\n    }\n</style>\n<table border=\"1\" class=\"dataframe\">\n  <thead>\n    <tr style=\"text-align: right;\">\n      <th></th>\n      <th>0</th>\n    </tr>\n  </thead>\n  <tbody>\n    <tr>\n      <th>0</th>\n      <td>Enron Methanol nominates the following natural gas requirements for the \\nMethanol Plant for September 2000:\\n\\n34,000 mmbtu per day\\n\\nEGPFC nominates the following natural gas requirements for the MTBE Plant at \\nMorgan's Point for September 2000:\\n\\n9,000 mmbtu per day</td>\n    </tr>\n    <tr>\n      <th>1</th>\n      <td>Dear Tim,\\n\\nThank you for your feedback.\\n\\nThe weekly meetings are going well.  We're actually meeting every other week and I am providing DPR impact reports and feedback to the traders on a weekly basis.  I find that meeting every other Wednesday gives me a chance to monitor trends per each d...</td>\n    </tr>\n    <tr>\n      <th>2</th>\n      <td>Please send me a copy of the pleading. fax # 713-646-3393\\n\\n\\nTo: Richard B Sanders/HOU/ECT@ECT\\ncc:  \\nSubject: Washington County, OH purchases\\n\\nI wanted to make sure you are aware of this since it may be an ECT issue.  \\nThis is a very minor case ($60K) and the only reason Enron is a named ...</td>\n    </tr>\n    <tr>\n      <th>3</th>\n      <td>This # is not working???\\n\\n\\n\\n\\ncjackson@txuenergy.com on 10/13/2000 10:50:56 AM\\nTo: mike.carson@enron.com\\ncc:  \\n\\nSubject: \\n\\n\\n\\n\\nCarson,\\n\\nCall me when you get a chance...214 975-9806...I don't have your office\\nnumber...\\n\\nJackson\\n\\n\\n\\n</td>\n    </tr>\n    <tr>\n      <th>4</th>\n      <td>FYI - \\n\\n -----Original Message-----\\nFrom:  Jafry, Rahil  \\nSent: Monday, March 26, 2001 11:14 AM\\nTo: Beck, Sally; Hall, Bob\\nCc: Abbanat, Stephen\\nSubject: FW: CMS Opportunity\\n\\nFYI - Lets talk about this today.\\n\\n -----Original Message-----\\nFrom:  gregory.felton@cgiusa.com@ENRON \\n[mailt...</td>\n    </tr>\n  </tbody>\n</table>\n</div>"
     },
     "metadata": {},
     "output_type": "execute_result",
     "execution_count": 14
    }
   ],
   "source": [
    "import random\n",
    "bodies_df = pd.DataFrame(random.sample(bodies, Enron_Sample))\n",
    "\n",
    "# expand default pandas display options to make emails more clearly visible when printed\n",
    "pd.set_option('display.max_colwidth', 300)\n",
    "\n",
    "bodies_df.head() # "
   ],
   "metadata": {
    "collapsed": false,
    "pycharm": {
     "name": "#%%\n",
     "is_executing": false
    }
   }
  },
  {
   "cell_type": "markdown",
   "source": [
    "#fraudulent corpus"
   ],
   "metadata": {
    "collapsed": false
   }
  },
  {
   "cell_type": "code",
   "execution_count": 15,
   "outputs": [
    {
     "data": {
      "text/plain": "3978"
     },
     "metadata": {},
     "output_type": "execute_result",
     "execution_count": 15
    }
   ],
   "source": [
    "filepath = \"../data/fradulent_emails.txt\"\n",
    "with open(filepath, 'r',encoding=\"latin1\") as file:\n",
    "    data = file.read()\n",
    "    \n",
    "# split on a code word appearing close to the beginning of each email\n",
    "fraud_emails = data.split(\"From r\")\n",
    "len(fraud_emails)"
   ],
   "metadata": {
    "collapsed": false,
    "pycharm": {
     "name": "#%%\n",
     "is_executing": false
    }
   }
  },
  {
   "cell_type": "code",
   "execution_count": 16,
   "outputs": [],
   "source": [
    "#fraud_emails[1]\n"
   ],
   "metadata": {
    "collapsed": false,
    "pycharm": {
     "name": "#%%\n",
     "is_executing": false
    }
   }
  },
  {
   "cell_type": "code",
   "execution_count": 17,
   "outputs": [
    {
     "name": "stdout",
     "text": [
      "Successfully retrieved message body from e-mails!\n"
     ],
     "output_type": "stream"
    },
    {
     "data": {
      "text/plain": "                                                                                                                                                                                                                                                                                                             0\n0  FROM:MR. JAMES NGOLA.\\nCONFIDENTIAL TEL: 233-27-587908.\\nE-MAIL: (james_ngola2002@maktoob.com).\\n\\nURGENT BUSINESS ASSISTANCE AND PARTNERSHIP.\\n\\n\\nDEAR FRIEND,\\n\\nI AM ( DR.) JAMES NGOLA, THE PERSONAL ASSISTANCE TO THE LATE CONGOLESE (PRESIDENT LAURENT KABILA) WHO WAS ASSASSINATED BY HIS BODY G...\n1  Dear Friend,\\n\\nI am Mr. Ben Suleman a custom officer and work as Assistant controller of the Customs and Excise department Of the Federal Ministry of Internal Affairs stationed at the Murtala Mohammed International Airport, Ikeja, Lagos-Nigeria.\\n\\nAfter the sudden death of the former Head of s...\n2  FROM HIS ROYAL MAJESTY (HRM) CROWN RULER OF ELEME KINGDOM \\nCHIEF DANIEL ELEME, PHD, EZE 1 OF ELEME.E-MAIL \\nADDRESS:obong_715@epatra.com  \\n\\nATTENTION:PRESIDENT,CEO Sir/ Madam. \\n\\nThis letter might surprise you because we have met\\nneither in person nor by correspondence. But I believe\\nit is...\n3  FROM HIS ROYAL MAJESTY (HRM) CROWN RULER OF ELEME KINGDOM \\nCHIEF DANIEL ELEME, PHD, EZE 1 OF ELEME.E-MAIL \\nADDRESS:obong_715@epatra.com  \\n\\nATTENTION:PRESIDENT,CEO Sir/ Madam. \\n\\nThis letter might surprise you because we have met\\nneither in person nor by correspondence. But I believe\\nit is...\n4  Dear sir, \\n \\nIt is with a heart full of hope that I write to seek your help in respect of the context below. I am Mrs. Maryam Abacha the former first lady of the former Military Head of State of Nigeria General Sani Abacha whose sudden death occurred on 8th of June 1998 as a result of cardiac ...",
      "text/html": "<div>\n<style scoped>\n    .dataframe tbody tr th:only-of-type {\n        vertical-align: middle;\n    }\n\n    .dataframe tbody tr th {\n        vertical-align: top;\n    }\n\n    .dataframe thead th {\n        text-align: right;\n    }\n</style>\n<table border=\"1\" class=\"dataframe\">\n  <thead>\n    <tr style=\"text-align: right;\">\n      <th></th>\n      <th>0</th>\n    </tr>\n  </thead>\n  <tbody>\n    <tr>\n      <th>0</th>\n      <td>FROM:MR. JAMES NGOLA.\\nCONFIDENTIAL TEL: 233-27-587908.\\nE-MAIL: (james_ngola2002@maktoob.com).\\n\\nURGENT BUSINESS ASSISTANCE AND PARTNERSHIP.\\n\\n\\nDEAR FRIEND,\\n\\nI AM ( DR.) JAMES NGOLA, THE PERSONAL ASSISTANCE TO THE LATE CONGOLESE (PRESIDENT LAURENT KABILA) WHO WAS ASSASSINATED BY HIS BODY G...</td>\n    </tr>\n    <tr>\n      <th>1</th>\n      <td>Dear Friend,\\n\\nI am Mr. Ben Suleman a custom officer and work as Assistant controller of the Customs and Excise department Of the Federal Ministry of Internal Affairs stationed at the Murtala Mohammed International Airport, Ikeja, Lagos-Nigeria.\\n\\nAfter the sudden death of the former Head of s...</td>\n    </tr>\n    <tr>\n      <th>2</th>\n      <td>FROM HIS ROYAL MAJESTY (HRM) CROWN RULER OF ELEME KINGDOM \\nCHIEF DANIEL ELEME, PHD, EZE 1 OF ELEME.E-MAIL \\nADDRESS:obong_715@epatra.com  \\n\\nATTENTION:PRESIDENT,CEO Sir/ Madam. \\n\\nThis letter might surprise you because we have met\\nneither in person nor by correspondence. But I believe\\nit is...</td>\n    </tr>\n    <tr>\n      <th>3</th>\n      <td>FROM HIS ROYAL MAJESTY (HRM) CROWN RULER OF ELEME KINGDOM \\nCHIEF DANIEL ELEME, PHD, EZE 1 OF ELEME.E-MAIL \\nADDRESS:obong_715@epatra.com  \\n\\nATTENTION:PRESIDENT,CEO Sir/ Madam. \\n\\nThis letter might surprise you because we have met\\nneither in person nor by correspondence. But I believe\\nit is...</td>\n    </tr>\n    <tr>\n      <th>4</th>\n      <td>Dear sir, \\n \\nIt is with a heart full of hope that I write to seek your help in respect of the context below. I am Mrs. Maryam Abacha the former first lady of the former Military Head of State of Nigeria General Sani Abacha whose sudden death occurred on 8th of June 1998 as a result of cardiac ...</td>\n    </tr>\n  </tbody>\n</table>\n</div>"
     },
     "metadata": {},
     "output_type": "execute_result",
     "execution_count": 17
    }
   ],
   "source": [
    "fraud_bodies = extract_messages(pd.DataFrame(fraud_emails, columns=[\"message\"],dtype=str))\n",
    "fraud_bodies_df = pd.DataFrame(fraud_bodies[1:])\n",
    "\n",
    "fraud_bodies_df.head() # yo"
   ],
   "metadata": {
    "collapsed": false,
    "pycharm": {
     "name": "#%%\n",
     "is_executing": false
    }
   }
  },
  {
   "cell_type": "markdown",
   "source": [
    "#IWSPA\n"
   ],
   "metadata": {
    "collapsed": false
   }
  },
  {
   "cell_type": "code",
   "execution_count": 18,
   "outputs": [],
   "source": [
    "# paths of the input files\n",
    "no_head_train_path_0 = '../data/phishing/IWSPA-AP-traindata/phish/'\n",
    "no_head_train_path_1 = '../data/phishing/IWSPA-AP-traindata/legit/'\n",
    "head_train_path_0 = '../data/phishing/Dataset_Full_Header_Training/Dataset_Submit_Phish/'\n",
    "head_train_path_1 = '../data/phishing/Dataset_Full_Header_Training/Dataset_Submit_Legit/'\n",
    "no_head_test_path = '../data/phishing/IWSPA-APTestData/testdata_noheaders/'\n",
    "head_test_path = '../data/phishing/IWSPA-APTestData/testdata_fullheaders/'"
   ],
   "metadata": {
    "collapsed": false,
    "pycharm": {
     "name": "#%%\n",
     "is_executing": false
    }
   }
  },
  {
   "cell_type": "code",
   "execution_count": 19,
   "outputs": [],
   "source": [
    "import os, re, string\n",
    "import numpy as np"
   ],
   "metadata": {
    "collapsed": false,
    "pycharm": {
     "name": "#%%\n",
     "is_executing": false
    }
   }
  },
  {
   "cell_type": "code",
   "execution_count": 20,
   "outputs": [],
   "source": [
    "def clean_text(text):\n",
    "    text = text.encode('utf-8').decode('utf-8')\n",
    "    while '\\n' in text:\n",
    "        text = text.replace('\\n', ' ')\n",
    "    while '  ' in text:\n",
    "        text = text.replace('  ', ' ')\n",
    "    words = text.split()\n",
    "    regex = re.compile('[%s]' % re.escape(string.punctuation))\n",
    "    stripped = []\n",
    "    for token in words: \n",
    "        new_token = regex.sub(u'', token)\n",
    "        if not new_token == u'':\n",
    "            stripped.append(new_token.lower())\n",
    "    text = ' '.join(stripped)\n",
    "    return text"
   ],
   "metadata": {
    "collapsed": false,
    "pycharm": {
     "name": "#%%\n",
     "is_executing": false
    }
   }
  },
  {
   "cell_type": "code",
   "execution_count": 21,
   "outputs": [],
   "source": [
    "\n",
    "def get_data(path):\n",
    "    text_list = list()\n",
    "    files = os.listdir(path)\n",
    "    for text_file in files:\n",
    "        file_path = os.path.join(path, text_file)\n",
    "        read_file = open(file_path,'r+')\n",
    "        read_text = read_file.read()\n",
    "        read_file.close()\n",
    "        cleaned_text = clean_text(read_text)\n",
    "        text_list.append(cleaned_text)\n",
    "    return text_list, files"
   ],
   "metadata": {
    "collapsed": false,
    "pycharm": {
     "name": "#%%\n",
     "is_executing": false
    }
   }
  },
  {
   "cell_type": "code",
   "execution_count": 22,
   "outputs": [],
   "source": [
    "no_head_train_phish, temp = get_data(no_head_train_path_0)\n",
    "no_head_train_legit, temp = get_data(no_head_train_path_1)\n",
    "#head_train_0, temp = get_data(head_train_path_0)\n",
    "#head_train_1, temp = get_data(head_train_path_1)\n",
    "no_head_test, no_head_files = get_data(no_head_test_path)\n",
    "#head_test, head_files = get_data(head_test_path)"
   ],
   "metadata": {
    "collapsed": false,
    "pycharm": {
     "name": "#%%\n",
     "is_executing": false
    }
   }
  },
  {
   "cell_type": "code",
   "execution_count": 23,
   "outputs": [],
   "source": [
    "# no_head_train = no_head_train_phish + no_head_train_legit\n",
    "# no_head_labels_train = ([0] * len(no_head_train_phish)) + ([1] * len(no_head_train_legit))\n",
    "\n",
    "#head_train = head_train_0 + head_train_1\n",
    "#head_labels_train = ([0] * len(head_train_0)) + ([1] * len(head_train_1))"
   ],
   "metadata": {
    "collapsed": false,
    "pycharm": {
     "name": "#%%\n",
     "is_executing": false
    }
   }
  },
  {
   "cell_type": "code",
   "execution_count": 24,
   "outputs": [
    {
     "data": {
      "text/plain": "                                                                                                                                                                                                                                                                                                       message\n0                                                                                                                                                                                                                                  hello everyone just wanted to see if we can reach a decision here thank you\n1  gareth it seems to me from reading your email that you do not realize that this is precisely what magiccscengen already does ie it uses the scaling method that ben santer and i invented in the late 1980s to get time dependent patterns of future climate change i am attaching a description of the ...\n2                                       daniele milan updated a event in the tentative activity calendar jun 09 2014 until jun 13 2014 knb advanced trainingyou are receiving this notification because you are watching the following tentative activity sent by atlassian confluence 544 the enterprise wiki\n3                                                                                                                                                                                 thank you 20 jordan kaplan national finance director democratic national committee 202 4885002 o 312 3390224 c userdomaincom\n4                                                                                                                                                                                                                                                         does stuart make many mistakes sammi fuck i hate her",
      "text/html": "<div>\n<style scoped>\n    .dataframe tbody tr th:only-of-type {\n        vertical-align: middle;\n    }\n\n    .dataframe tbody tr th {\n        vertical-align: top;\n    }\n\n    .dataframe thead th {\n        text-align: right;\n    }\n</style>\n<table border=\"1\" class=\"dataframe\">\n  <thead>\n    <tr style=\"text-align: right;\">\n      <th></th>\n      <th>message</th>\n    </tr>\n  </thead>\n  <tbody>\n    <tr>\n      <th>0</th>\n      <td>hello everyone just wanted to see if we can reach a decision here thank you</td>\n    </tr>\n    <tr>\n      <th>1</th>\n      <td>gareth it seems to me from reading your email that you do not realize that this is precisely what magiccscengen already does ie it uses the scaling method that ben santer and i invented in the late 1980s to get time dependent patterns of future climate change i am attaching a description of the ...</td>\n    </tr>\n    <tr>\n      <th>2</th>\n      <td>daniele milan updated a event in the tentative activity calendar jun 09 2014 until jun 13 2014 knb advanced trainingyou are receiving this notification because you are watching the following tentative activity sent by atlassian confluence 544 the enterprise wiki</td>\n    </tr>\n    <tr>\n      <th>3</th>\n      <td>thank you 20 jordan kaplan national finance director democratic national committee 202 4885002 o 312 3390224 c userdomaincom</td>\n    </tr>\n    <tr>\n      <th>4</th>\n      <td>does stuart make many mistakes sammi fuck i hate her</td>\n    </tr>\n  </tbody>\n</table>\n</div>"
     },
     "metadata": {},
     "output_type": "execute_result",
     "execution_count": 24
    }
   ],
   "source": [
    "import pandas as pd\n",
    "aw_legit_df = pd.DataFrame(no_head_train_legit, columns=[\"message\"],dtype=str)\n",
    "aw_phish_df = pd.DataFrame(no_head_train_phish, columns=[\"message\"],dtype=str)\n",
    "# jose_bodies_df = pd.DataFrame(jose_bodies_df[1:])\n",
    "\n",
    "aw_legit_df.head() "
   ],
   "metadata": {
    "collapsed": false,
    "pycharm": {
     "name": "#%%\n",
     "is_executing": false
    }
   }
  },
  {
   "cell_type": "code",
   "execution_count": 25,
   "outputs": [
    {
     "data": {
      "text/plain": "                                                                                                                                                                                                                                                                                                       message\n0                                                                                                                                                                                                                                  hello everyone just wanted to see if we can reach a decision here thank you\n1  gareth it seems to me from reading your email that you do not realize that this is precisely what magiccscengen already does ie it uses the scaling method that ben santer and i invented in the late 1980s to get time dependent patterns of future climate change i am attaching a description of the ...\n2                                       daniele milan updated a event in the tentative activity calendar jun 09 2014 until jun 13 2014 knb advanced trainingyou are receiving this notification because you are watching the following tentative activity sent by atlassian confluence 544 the enterprise wiki\n3                                                                                                                                                                                 thank you 20 jordan kaplan national finance director democratic national committee 202 4885002 o 312 3390224 c userdomaincom\n4                                                                                                                                                                                                                                                         does stuart make many mistakes sammi fuck i hate her",
      "text/html": "<div>\n<style scoped>\n    .dataframe tbody tr th:only-of-type {\n        vertical-align: middle;\n    }\n\n    .dataframe tbody tr th {\n        vertical-align: top;\n    }\n\n    .dataframe thead th {\n        text-align: right;\n    }\n</style>\n<table border=\"1\" class=\"dataframe\">\n  <thead>\n    <tr style=\"text-align: right;\">\n      <th></th>\n      <th>message</th>\n    </tr>\n  </thead>\n  <tbody>\n    <tr>\n      <th>0</th>\n      <td>hello everyone just wanted to see if we can reach a decision here thank you</td>\n    </tr>\n    <tr>\n      <th>1</th>\n      <td>gareth it seems to me from reading your email that you do not realize that this is precisely what magiccscengen already does ie it uses the scaling method that ben santer and i invented in the late 1980s to get time dependent patterns of future climate change i am attaching a description of the ...</td>\n    </tr>\n    <tr>\n      <th>2</th>\n      <td>daniele milan updated a event in the tentative activity calendar jun 09 2014 until jun 13 2014 knb advanced trainingyou are receiving this notification because you are watching the following tentative activity sent by atlassian confluence 544 the enterprise wiki</td>\n    </tr>\n    <tr>\n      <th>3</th>\n      <td>thank you 20 jordan kaplan national finance director democratic national committee 202 4885002 o 312 3390224 c userdomaincom</td>\n    </tr>\n    <tr>\n      <th>4</th>\n      <td>does stuart make many mistakes sammi fuck i hate her</td>\n    </tr>\n  </tbody>\n</table>\n</div>"
     },
     "metadata": {},
     "output_type": "execute_result",
     "execution_count": 25
    }
   ],
   "source": [
    "aw_legit_df.head() "
   ],
   "metadata": {
    "collapsed": false,
    "pycharm": {
     "name": "#%%\n",
     "is_executing": false
    }
   }
  },
  {
   "cell_type": "code",
   "execution_count": 26,
   "outputs": [],
   "source": [
    "# legit\n",
    "EnronEmails = bodies_df.iloc[:,0]#.apply(tokenize)\n",
    "# EnronEmails = bodies_df.iloc[:,0].apply(tokenize)\n",
    "# EnronEmails = EnronEmails.apply(stop_word_removal)\n",
    "# EnronEmails = EnronEmails.apply(reg_expressions)\n",
    "# EnronEmails = EnronEmails.sample(len(EnronEmails))\n",
    "\n",
    "\n",
    "# iwspa\n",
    "IwspaEmails_legit =  aw_legit_df.iloc[:, 0]#.apply(tokenize)\n",
    "# IwspaEmails_legit = IwspaEmails_legit.sample(len(IwspaEmails_legit))\n",
    "\n",
    "# phishing\n",
    "fraudEmails = fraud_bodies_df.iloc[:,0]#.apply(tokenize)\n",
    "# fraudEmails = fraud_bodies_df.iloc[:,0].apply(tokenize)\n",
    "# fraudEmails = fraudEmails.apply(stop_word_removal)\n",
    "# fraudEmails = fraudEmails.apply(reg_expressions)\n",
    "# fraudEmails = fraudEmails.sample(len(fraudEmails))\n",
    "\n",
    "# iwspa\n",
    "IwspaEmails_phish =  aw_phish_df.iloc[:, 0]#.apply(tokenize)\n",
    "# IwspaEmails_phish = IwspaEmails_phish.sample(len(IwspaEmails_phish))\n",
    "# jose\n",
    "JoseEmails = jose_bodies_df.iloc[:, 0]#.apply(tokenize)\n",
    "# JoseEmails = JoseEmails.sample(len(JoseEmails))\n",
    "\n",
    "\n",
    "raw_data = pd.concat([fraudEmails, IwspaEmails_phish, JoseEmails, EnronEmails, IwspaEmails_legit], axis=0).values\n"
   ],
   "metadata": {
    "collapsed": false,
    "pycharm": {
     "name": "#%%\n",
     "is_executing": false
    }
   }
  },
  {
   "cell_type": "code",
   "execution_count": 27,
   "outputs": [
    {
     "data": {
      "text/plain": "49845"
     },
     "metadata": {},
     "output_type": "execute_result",
     "execution_count": 27
    }
   ],
   "source": [
    "len(raw_data)"
   ],
   "metadata": {
    "collapsed": false,
    "pycharm": {
     "name": "#%%\n",
     "is_executing": false
    }
   }
  },
  {
   "cell_type": "code",
   "execution_count": 28,
   "outputs": [
    {
     "name": "stdout",
     "text": [
      "Shape of combined data represented as numpy array is:\n",
      "(49845,)\n"
     ],
     "output_type": "stream"
    }
   ],
   "source": [
    "# 1:spam 0:not spam\n",
    "print(\"Shape of combined data represented as numpy array is:\")\n",
    "print(raw_data.shape)\n",
    "#print(\"Data represented as numpy array is:\")\n",
    "#print(raw_data)\n",
    "\n",
    "# corresponding labels\n",
    "Categories = ['spam','notspam']\n",
    "#header = ([1]*Nsamp)\n",
    "#header.extend(([0]*Nsamp))\n",
    "header = ([1]*(len(fraudEmails) + len(IwspaEmails_phish) + len(JoseEmails)))\n",
    "header.extend(([0]*(len(EnronEmails) + len(IwspaEmails_legit))))"
   ],
   "metadata": {
    "collapsed": false,
    "pycharm": {
     "name": "#%%\n",
     "is_executing": false
    }
   }
  },
  {
   "cell_type": "code",
   "execution_count": 29,
   "outputs": [
    {
     "data": {
      "text/plain": "str"
     },
     "metadata": {},
     "output_type": "execute_result",
     "execution_count": 29
    }
   ],
   "source": [
    "type(raw_data[10])"
   ],
   "metadata": {
    "collapsed": false,
    "pycharm": {
     "name": "#%%\n",
     "is_executing": false
    }
   }
  },
  {
   "cell_type": "code",
   "execution_count": 30,
   "outputs": [
    {
     "name": "stdout",
     "text": [
      "train_x/train_y list details, to make sure it is of the right form:\n",
      "34891\n",
      "(34891,)\n"
     ],
     "output_type": "stream"
    }
   ],
   "source": [
    "# function for shuffling data in unison with labels/header\n",
    "def unison_shuffle(a, b):\n",
    "    p = np.random.permutation(len(b))\n",
    "    data = a[p]\n",
    "    header = np.asarray(b)[p]\n",
    "    return data, header\n",
    "\n",
    "# function for converting data into the right format, due to the difference in required format from sklearn models\n",
    "# we expect a single string per email here, versus a list of tokens for the sklearn models previously explored\n",
    "def convert_data(raw_data,header):\n",
    "    converted_data, labels = [], []\n",
    "    for i in range(raw_data.shape[0]):\n",
    "        # out = ' '.join(str(raw_data[i]))\n",
    "        out = str(raw_data[i])\n",
    "        converted_data.append(out)\n",
    "        labels.append(header[i])\n",
    "        #print(i)\n",
    "    converted_data = np.array(converted_data, dtype=object)[:, np.newaxis]\n",
    "    \n",
    "    return converted_data, np.array(labels)\n",
    "\n",
    "raw_data, header = unison_shuffle(raw_data, header)\n",
    "\n",
    "# split into independent 70% training and 30% testing sets\n",
    "idx = int(0.7*raw_data.shape[0])\n",
    "# 70% of data for training\n",
    "train_x, train_y = convert_data(raw_data[:idx],header[:idx])\n",
    "# remaining 30% for testing\n",
    "test_x, test_y = convert_data(raw_data[idx:],header[idx:])\n",
    "\n",
    "print(\"train_x/train_y list details, to make sure it is of the right form:\")\n",
    "# print(len(train_x))\n",
    "# print(train_x)\n",
    "# print(train_y[:5])\n",
    "print(train_y.shape)\n",
    "print(test_y.shape)\n"
   ],
   "metadata": {
    "collapsed": false,
    "pycharm": {
     "name": "#%%\n",
     "is_executing": false
    }
   }
  },
  {
   "cell_type": "code",
   "execution_count": 31,
   "outputs": [
    {
     "data": {
      "text/plain": "numpy.ndarray"
     },
     "metadata": {},
     "output_type": "execute_result",
     "execution_count": 31
    }
   ],
   "source": [
    "type(train_x)\n"
   ],
   "metadata": {
    "collapsed": false,
    "pycharm": {
     "name": "#%%\n",
     "is_executing": false
    }
   }
  },
  {
   "cell_type": "code",
   "execution_count": 32,
   "outputs": [],
   "source": [
    "np.save('../output/train_x.npy', train_x)\n",
    "np.save('../output/train_y.npy', train_y)\n",
    "np.save('../output/test_x.npy', test_x)\n",
    "np.save('../output/test_y.npy', test_y)"
   ],
   "metadata": {
    "collapsed": false,
    "pycharm": {
     "name": "#%%\n",
     "is_executing": false
    }
   }
  },
  {
   "cell_type": "code",
   "execution_count": 33,
   "outputs": [
    {
     "name": "stdout",
     "text": [
      "True\n",
      "True\n",
      "True\n",
      "True\n"
     ],
     "output_type": "stream"
    }
   ],
   "source": [
    "b = np.load('../output/train_x.npy', allow_pickle=True)\n",
    "\n",
    "issue = np.array_equal(train_x,b)  #验证  比较a，b是否相同时同一个array\n",
    "print(str(issue))\n",
    "\n",
    "b = np.load('../output/train_y.npy', allow_pickle=True)\n",
    "\n",
    "issue = np.array_equal(train_y,b)\n",
    "print(str(issue))\n",
    "\n",
    "b = np.load('../output/test_x.npy', allow_pickle=True)\n",
    "\n",
    "issue = np.array_equal(test_x,b)  #验证  比较a，b是否相同时同一个array\n",
    "print(str(issue))\n",
    "\n",
    "b = np.load('../output/test_y.npy', allow_pickle=True)\n",
    "\n",
    "issue = np.array_equal(test_y,b)\n",
    "print(str(issue))"
   ],
   "metadata": {
    "collapsed": false,
    "pycharm": {
     "name": "#%%\n",
     "is_executing": false
    }
   }
  },
  {
   "cell_type": "code",
   "execution_count": 34,
   "outputs": [],
   "source": [
    "store = pd.concat([pd.DataFrame(train_x), pd.DataFrame(train_y)], axis=1).values\n",
    "store1 = pd.concat([pd.DataFrame(test_x), pd.DataFrame(test_y)], axis=1).values"
   ],
   "metadata": {
    "collapsed": false,
    "pycharm": {
     "name": "#%%\n",
     "is_executing": false
    }
   }
  },
  {
   "cell_type": "code",
   "execution_count": 35,
   "outputs": [
    {
     "data": {
      "text/plain": "array(['Looks good to me.  Are we certain that all of the other traders plan to post \\ndaily volumes?\\n\\n\\n\\n\\nDavid Forster\\n10/08/99 09:51 AM\\nTo: Elena Kapralova/LON/ECT@ECT, Mark E Taylor/HOU/ECT@ECT\\ncc: Bob Shults/HOU/ECT@ECT, Marcello Romano/LON/ECT@ECT, Mark \\nDilworth/LON/ECT@ECT \\nSubject: Re: Paper Volumes  \\n\\nThat looks fine to me. Please ensure the Volume tab is consistent with this \\ndescription as well.\\n\\nMark: Please comment if you have any concerns.\\n\\nThanks,\\n\\nDave\\n\\n\\n\\nElena Kapralova\\n08/10/99 12:18\\nTo: David Forster/LON/ECT@ECT\\ncc: Bob Shults/HOU/ECT@ECT, Marcello Romano/LON/ECT@ECT, Mark \\nDilworth/LON/ECT@ECT \\nSubject: Re: Paper Volumes  \\n\\nthe current paper descriptions says:\\n\\n\"....Seller pays a Floating Price and the Buyer pays the price submitted by \\nCounterparty on the website (the Fixed Price) in each case in respect of the \\nNotional Quantity per Determination Period.  Each calendar month during the \\nterm of the Transaction will be a Determination Period. The Notional Quantity \\nper Determination Period is the volume submitted multiplied by the number \\ndays in the relevant Determination Period.\"\\n\\nsuggestion:\\n\\n\"....Seller pays a Floating Price and the Buyer pays the price submitted by \\nCounterparty on the website (the Fixed Price) in each case in respect of the \\nNotional Quantity per Determination Period.  Each calendar month during the \\nterm of the Transaction will be a Determination Period. The Notional Quantity \\nper Determination Period is the volume submitted by Counterparty on the \\nwebsite.\"\\n\\nIf you all agree, I\\'ll make this change in the BlackMaster. Dave, it may need \\nlawyers validation?\\n\\nElena\\n\\n\\n\\n\\nDavid Forster\\n08/10/99 00:35\\nTo: Elena Kapralova/LON/ECT@ECT\\ncc:  \\nSubject: Paper Volumes\\n\\n\\n---------------------- Forwarded by David Forster/LON/ECT on 08/10/99 00:35 \\n---------------------------\\n\\n\\nMarcello Romano\\n07/10/99 21:50\\nTo: David Forster/LON/ECT@ECT, Bob Shults/HOU/ECT@ECT\\ncc:  \\nSubject: Paper Volumes\\n\\nPaper volumes are actually per month not per day in each determination \\nperiod. We need to change the long descriptions.\\n\\nM\\n\\n\\n\\n\\n\\n\\n\\n\\n\\n',\n       0], dtype=object)"
     },
     "metadata": {},
     "output_type": "execute_result",
     "execution_count": 35
    }
   ],
   "source": [
    "store[0]\n"
   ],
   "metadata": {
    "collapsed": false,
    "pycharm": {
     "name": "#%% \n",
     "is_executing": false
    }
   }
  },
  {
   "cell_type": "code",
   "execution_count": 36,
   "outputs": [],
   "source": [
    "csv = pd.DataFrame(store)\n",
    "csv.to_csv('../output/train_1.csv')"
   ],
   "metadata": {
    "collapsed": false,
    "pycharm": {
     "name": "#%% \n",
     "is_executing": false
    }
   }
  },
  {
   "cell_type": "code",
   "execution_count": 37,
   "outputs": [],
   "source": [
    "csv = pd.DataFrame(store1)\n",
    "csv.to_csv('../output/train_2.csv')"
   ],
   "metadata": {
    "collapsed": false,
    "pycharm": {
     "name": "#%% \n",
     "is_executing": false
    }
   }
  },
  {
   "cell_type": "markdown",
   "source": [
    "#enron html data"
   ],
   "metadata": {
    "collapsed": false
   }
  },
  {
   "cell_type": "code",
   "execution_count": 38,
   "outputs": [],
   "source": [
    "# def extract_html_messages(df):\n",
    "#     messages = []\n",
    "#     for item in df[\"message\"]:\n",
    "#         # Return a message object structure from a string\n",
    "#         e = email.message_from_string(item)\n",
    "#         # get message body\n",
    "#         message_body = e.get_payload()\n",
    "#         if '<html>' in message_body:\n",
    "#             messages.append(message_body)\n",
    "#         # if BeautifulSoup(message_body, \"html.parser\").find():\n",
    "#         #     messages.append(message_body)\n",
    "#     print(\"Successfully retrieved message body from e-mails!\")\n",
    "#     print(len(messages))\n",
    "#     return messages\n",
    "# enron_html_bodies = extract_html_messages(emails)"
   ],
   "metadata": {
    "collapsed": false,
    "pycharm": {
     "name": "#%%\n",
     "is_executing": false
    }
   }
  },
  {
   "cell_type": "code",
   "execution_count": 39,
   "outputs": [],
   "source": [
    "# enron_html_bodies[0]\n"
   ],
   "metadata": {
    "collapsed": false,
    "pycharm": {
     "name": "#%%\n",
     "is_executing": false
    }
   }
  },
  {
   "cell_type": "markdown",
   "source": [
    "#positive: legit\n",
    "#enron text:50W html:874\n",
    "#iwspa text:5091 html:9\n",
    "\n",
    "#negative: phishing\n",
    "#fraudulent text:3978 html:147\n",
    "#iwspa text:628 html:15\n",
    "#jose text:10147 html:10147\n",
    "\n"
   ],
   "metadata": {
    "collapsed": false
   }
  },
  {
   "cell_type": "markdown",
   "source": [
    "#dataset:\n",
    "#fradulent all \n",
    "#jose all html\n",
    "#iwspa all no header\n",
    "#enron 2W text + all html"
   ],
   "metadata": {
    "collapsed": false
   }
  },
  {
   "cell_type": "code",
   "execution_count": 39,
   "outputs": [],
   "source": [
    "\n",
    "\n"
   ],
   "metadata": {
    "collapsed": false,
    "pycharm": {
     "name": "#%%\n",
     "is_executing": false
    }
   }
  }
 ],
 "metadata": {
  "kernelspec": {
   "display_name": "Python 3",
   "language": "python",
   "name": "python3"
  },
  "language_info": {
   "codemirror_mode": {
    "name": "ipython",
    "version": 2
   },
   "file_extension": ".py",
   "mimetype": "text/x-python",
   "name": "python",
   "nbconvert_exporter": "python",
   "pygments_lexer": "ipython2",
   "version": "2.7.6"
  }
 },
 "nbformat": 4,
 "nbformat_minor": 0
}