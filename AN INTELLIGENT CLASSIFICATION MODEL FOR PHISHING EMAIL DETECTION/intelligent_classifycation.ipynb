{
 "cells": [
  {
   "cell_type": "code",
   "execution_count": 1,
   "metadata": {
    "pycharm": {
     "name": "#%%\n"
    }
   },
   "outputs": [
    {
     "name": "stdout",
     "output_type": "stream",
     "text": [
      "key_weights length:16\n",
      "key_features length:16\n"
     ]
    }
   ],
   "source": [
    "dict = {'account':42.11758, 'member':19.31017, 'access':17.05149, 'email':16.6749, 'address':15.3276,\n",
    "             'update':15.3276, 'price':12.55556, 'market':10.23963, 'online':9.770984, 'information':9.474589,\n",
    "             'work':8.331161, 'credit':5.883471, 'response':4.504742, 'offer':3.3573, 'transaction':2.809165,\n",
    "             'agreement':1.863823, 'registration':1.791679, 'person':1.522086, 'system':1.276965,\n",
    "             'process':1.076627, 'service':0.895862, 'request':0.616316, 'message':0.32805}\n",
    "\n",
    "key_words = ['account', 'member', 'access', 'email', 'address',\n",
    "             'update', 'price', 'market', 'online', 'information',\n",
    "             'work', 'credit', 'response', 'offer', 'transaction',\n",
    "             'agreement', 'registration', 'person', 'system',\n",
    "             'process', 'service', 'request', 'message']\n",
    "\n",
    "key_weights = {'HTML Body':0.681, 'Hexadecimal URLs':0.652, 'Domains Count':0.652, 'TextLinkDifference':0.649, 'Dots Count':0.479,\n",
    "                'Email Contains Account Term':0.493, 'Email Contains Dear Term':0.375, 'Images as URL':0.298, 'IP URLs':0.297,\n",
    "                'Email Contains PayPal Term':0.296, 'Email Contains Login Term':0.250, 'Email Contains Bank Term':0.213, \n",
    "                'Phishing Terms Weight':0.210, 'Email Contains Verify Term':0.207,\n",
    "                'Email Contains Agree Term':0.206, 'Email Contains Suspend Term':0.205}\n",
    "\n",
    "key_features = ['HTML Body', 'Hexadecimal URLs', 'Domains Count', 'TextLinkDifference', 'Dots Count',\n",
    "                'Email Contains Account Term', 'Email Contains Dear Term', 'Images as URL', 'IP URLs',\n",
    "                'Email Contains PayPal Term', 'Email Contains Login Term', 'Email Contains Bank Term',\n",
    "                'Phishing Terms Weight', 'Email Contains Verify Term',\n",
    "                'Email Contains Agree Term', 'Email Contains Suspend Term']\n",
    "\n",
    "print(\"key_weights length:\" + str(len(key_weights)))\n",
    "print(\"key_features length:\" + str(len(key_features)))"
   ]
  },
  {
   "cell_type": "code",
   "execution_count": 2,
   "metadata": {
    "pycharm": {
     "is_executing": false,
     "name": "#%%\n"
    }
   },
   "outputs": [],
   "source": [
    "#read data from csv\n",
    "import pandas as pd\n",
    "train_data = pd.read_csv('../output/train_1.csv')\n",
    "test_data = pd.read_csv('../output/train_2.csv')\n"
   ]
  },
  {
   "cell_type": "code",
   "execution_count": 3,
   "metadata": {
    "pycharm": {
     "is_executing": false,
     "name": "#%%\n"
    }
   },
   "outputs": [
    {
     "data": {
      "text/plain": "   Unnamed: 0                                                  0  1\n0           0  Looks good to me.  Are we certain that all of ...  0\n1           1  Greg, how big was that last check you told me ...  0\n2           2  <table border=0 width=\"100%\" cellpadding=\"8\"  ...  1\n3           3  Hello everyone:\\n\\nIf you were not able to acc...  0\n4           4  I have a customer in town Thursday night, so w...  0",
      "text/html": "<div>\n<style scoped>\n    .dataframe tbody tr th:only-of-type {\n        vertical-align: middle;\n    }\n\n    .dataframe tbody tr th {\n        vertical-align: top;\n    }\n\n    .dataframe thead th {\n        text-align: right;\n    }\n</style>\n<table border=\"1\" class=\"dataframe\">\n  <thead>\n    <tr style=\"text-align: right;\">\n      <th></th>\n      <th>Unnamed: 0</th>\n      <th>0</th>\n      <th>1</th>\n    </tr>\n  </thead>\n  <tbody>\n    <tr>\n      <th>0</th>\n      <td>0</td>\n      <td>Looks good to me.  Are we certain that all of ...</td>\n      <td>0</td>\n    </tr>\n    <tr>\n      <th>1</th>\n      <td>1</td>\n      <td>Greg, how big was that last check you told me ...</td>\n      <td>0</td>\n    </tr>\n    <tr>\n      <th>2</th>\n      <td>2</td>\n      <td>&lt;table border=0 width=\"100%\" cellpadding=\"8\"  ...</td>\n      <td>1</td>\n    </tr>\n    <tr>\n      <th>3</th>\n      <td>3</td>\n      <td>Hello everyone:\\n\\nIf you were not able to acc...</td>\n      <td>0</td>\n    </tr>\n    <tr>\n      <th>4</th>\n      <td>4</td>\n      <td>I have a customer in town Thursday night, so w...</td>\n      <td>0</td>\n    </tr>\n  </tbody>\n</table>\n</div>"
     },
     "metadata": {},
     "output_type": "execute_result",
     "execution_count": 3
    }
   ],
   "source": [
    "train_pd = pd.DataFrame(train_data)\n",
    "train_pd.head()\n"
   ]
  },
  {
   "cell_type": "code",
   "execution_count": 4,
   "metadata": {
    "pycharm": {
     "is_executing": false,
     "name": "#%%\n"
    }
   },
   "outputs": [
    {
     "data": {
      "text/plain": "   Unnamed: 0                                                  0  1\n0           0  Janet,\\n\\nHere is the model.  I have added uni...  0\n1           1            Maureen,\\n\\nYour presentation:\\n\\nVince  0\n2           2  Kim, please invite the Following Texas Eastern...  0\n3           3  \\n<br>\\n\\n<p dir=\"ltr\" align=\"left\"><b><font c...  1\n4           4  noregrets littlerock2016 alex hoffman democrat...  0",
      "text/html": "<div>\n<style scoped>\n    .dataframe tbody tr th:only-of-type {\n        vertical-align: middle;\n    }\n\n    .dataframe tbody tr th {\n        vertical-align: top;\n    }\n\n    .dataframe thead th {\n        text-align: right;\n    }\n</style>\n<table border=\"1\" class=\"dataframe\">\n  <thead>\n    <tr style=\"text-align: right;\">\n      <th></th>\n      <th>Unnamed: 0</th>\n      <th>0</th>\n      <th>1</th>\n    </tr>\n  </thead>\n  <tbody>\n    <tr>\n      <th>0</th>\n      <td>0</td>\n      <td>Janet,\\n\\nHere is the model.  I have added uni...</td>\n      <td>0</td>\n    </tr>\n    <tr>\n      <th>1</th>\n      <td>1</td>\n      <td>Maureen,\\n\\nYour presentation:\\n\\nVince</td>\n      <td>0</td>\n    </tr>\n    <tr>\n      <th>2</th>\n      <td>2</td>\n      <td>Kim, please invite the Following Texas Eastern...</td>\n      <td>0</td>\n    </tr>\n    <tr>\n      <th>3</th>\n      <td>3</td>\n      <td>\\n&lt;br&gt;\\n\\n&lt;p dir=\"ltr\" align=\"left\"&gt;&lt;b&gt;&lt;font c...</td>\n      <td>1</td>\n    </tr>\n    <tr>\n      <th>4</th>\n      <td>4</td>\n      <td>noregrets littlerock2016 alex hoffman democrat...</td>\n      <td>0</td>\n    </tr>\n  </tbody>\n</table>\n</div>"
     },
     "metadata": {},
     "output_type": "execute_result",
     "execution_count": 4
    }
   ],
   "source": [
    "test_pd = pd.DataFrame(test_data)\n",
    "test_pd.head()\n"
   ]
  },
  {
   "cell_type": "code",
   "execution_count": 2,
   "metadata": {
    "pycharm": {
     "name": "#%%\n"
    }
   },
   "outputs": [],
   "source": [
    "import urllib.request\n",
    "from pyquery import PyQuery\n",
    "from bs4 import BeautifulSoup\n",
    "import regex\n",
    "from tld import get_tld\n",
    "import tldextract\n",
    "import ipaddress\n",
    "import whois\n",
    "\n",
    "def is_ip_address(url):\n",
    "    try:\n",
    "        ipaddress.ip_address(url)\n",
    "        return 1\n",
    "    except:\n",
    "        return -1\n",
    "\n",
    "def Domain_registration_length(url):\n",
    "    try:\n",
    "        whois_database = whois.query(url)\n",
    "        updated_datetime = whois_database.last_updated\n",
    "        if updated_datetime is None:\n",
    "            updated_datetime = whois_database.creation_date\n",
    "        # print(updated_datetime)\n",
    "        exp_datetime = whois_database.expiration_date\n",
    "        # print(exp_datetime)\n",
    "        length_period = (exp_datetime - updated_datetime).days\n",
    "        # print(length_period)\n",
    "        if (length_period <= 365):\n",
    "            return -1\n",
    "        else:\n",
    "            return 1\n",
    "    except:\n",
    "        return 0\n"
   ]
  },
  {
   "cell_type": "code",
   "execution_count": 6,
   "metadata": {
    "pycharm": {
     "is_executing": false,
     "name": "#%%\n"
    }
   },
   "outputs": [],
   "source": [
    "# print(Domain_registration_length('https://www.baidu.com'))"
   ]
  },
  {
   "cell_type": "code",
   "execution_count": 3,
   "metadata": {
    "pycharm": {
     "name": "#%%\n"
    }
   },
   "outputs": [],
   "source": [
    "class EmailFeaturized(object):\n",
    "    def __init__(self, content):\n",
    "        self.content = str(content).lower()\n",
    "        self.urls = []\n",
    "        self.domains = []\n",
    "    \n",
    "    def is_html_body(self):\n",
    "        if BeautifulSoup(self.content, \"html.parser\").find():\n",
    "            return 1\n",
    "        else:\n",
    "            return 0\n",
    "    \n",
    "    def num_Hexadecimal_urls(self):\n",
    "        self.get_urls()\n",
    "        self.get_links()\n",
    "        hex_url_count = 0\n",
    "        for domain in set(self.domains):\n",
    "            if self.Hexadecimal_urls(domain):\n",
    "                hex_url_count = hex_url_count + 1\n",
    "        return hex_url_count\n",
    "    \n",
    "    # 16进制URL\n",
    "    def Hexadecimal_urls(self, url):\n",
    "        match = regex.search(\n",
    "            '(([01]?\\\\d\\\\d?|2[0-4]\\\\d|25[0-5])\\\\.([01]?\\\\d\\\\d?|2[0-4]\\\\d|25[0-5])\\\\.([01]?\\\\d\\\\d?|2[0-4]\\\\d|25[0-5])\\\\.([01]?\\\\d\\\\d?|2[0-4]\\\\d|25[0-5])\\\\/)|'  # IPv4\n",
    "            '((0x[0-9a-fA-F]{1,2})\\\\.(0x[0-9a-fA-F]{1,2})\\\\.(0x[0-9a-fA-F]{1,2})\\\\.(0x[0-9a-fA-F]{1,2})\\\\/)'  # IPv4 in hexadecimal\n",
    "            '(?:[a-fA-F0-9]{1,4}:){7}[a-fA-F0-9]{1,4}', url)  # Ipv6\n",
    "        if match:\n",
    "            # print match.group()\n",
    "            return -1\n",
    "        else:\n",
    "            # print 'No matching pattern found'\n",
    "            return 1\n",
    "        \n",
    "    def get_urls(self):\n",
    "        self.urls = []\n",
    "        try:\n",
    "            soup = BeautifulSoup(self.content)\n",
    "        except Exception as e:\n",
    "            # print('unknown error %s' %e)\n",
    "            return []\n",
    "        for a in soup.find_all('a'):\n",
    "            try:\n",
    "                url = a['href']\n",
    "                self.urls.append(url)\n",
    "            except Exception as e:\n",
    "                return self.urls\n",
    "        return self.urls\n",
    "        \n",
    "    def get_links(self):\n",
    "        self.domains = []\n",
    "        try:\n",
    "            soup = BeautifulSoup(self.content)\n",
    "        except Exception as e:\n",
    "            # print('unknown error %s' %e)\n",
    "            return []\n",
    "        for a in soup.find_all('a'):\n",
    "            try:\n",
    "                url = a['href']\n",
    "                # domain = get_tld(url)\n",
    "                # print(get_tld('https://www.baidu.com'))\n",
    "                val = tldextract.extract(url)\n",
    "                domain = \"{0}.{1}\".format(val.domain, val.suffix)\n",
    "                self.domains.append(domain)\n",
    "            except Exception as e:\n",
    "                return self.domains\n",
    "        return self.domains\n",
    "    \n",
    "    def num_domain(self):\n",
    "        self.get_urls()\n",
    "        self.get_links()\n",
    "        return len(set(self.domains))\n",
    "    \n",
    "    def text_link_difference(self):\n",
    "        # ongoing\n",
    "        return 0\n",
    "    \n",
    "    def dots_counts(self):\n",
    "        num = 0\n",
    "        for url in self.urls:\n",
    "            if url.count('.') > num:\n",
    "                num = url.count('.')\n",
    "        return num\n",
    "    \n",
    "    def contain_account(self):\n",
    "        if 'account' in self.content:\n",
    "            return 1\n",
    "        return 0\n",
    "    \n",
    "    def contain_dear(self):\n",
    "        if 'dear' in self.content:\n",
    "            return 1\n",
    "        return 0\n",
    "    \n",
    "    def numbers_image_urls(self):\n",
    "        soup = BeautifulSoup(self.content)\n",
    "        images = soup.findAll('img', src=True)\n",
    "        total = len(images)\n",
    "        return total\n",
    "    \n",
    "    def numbers_of_ip_urls(self):\n",
    "        self.get_urls()\n",
    "        self.get_links()\n",
    "        num = 0\n",
    "        for domain in self.domains:\n",
    "            if is_ip_address(domain) == 1:\n",
    "                num = num + 1\n",
    "        return num\n",
    "    \n",
    "    def contain_paypal(self):\n",
    "        if 'paypal' in self.content:\n",
    "            return 1\n",
    "        return 0\n",
    "    \n",
    "    def contain_login(self):\n",
    "        if 'login' in self.content:\n",
    "            return 1\n",
    "        return 0\n",
    "    \n",
    "    def contain_bank(self):\n",
    "        if 'bank' in self.content:\n",
    "            return 1\n",
    "        return 0\n",
    "    \n",
    "    # should change it to tf-idf\n",
    "    def phishing_weight(self):\n",
    "        num = 0.0\n",
    "        for word in key_words:\n",
    "            if word in self.content:\n",
    "                num += float(dict[word])\n",
    "        return num\n",
    "    \n",
    "    def contain_verify(self):\n",
    "        if 'verify' in self.content:\n",
    "            return 1\n",
    "        return 0\n",
    "    \n",
    "    def contain_agree(self):\n",
    "        if 'agree' in self.content:\n",
    "            return 1\n",
    "        return 0\n",
    "    \n",
    "    def contain_suspend(self):\n",
    "        if 'suspend' in self.content:\n",
    "            return 1\n",
    "        return 0\n",
    "    \n",
    "    def remove_stop_words(self):\n",
    "        pass\n",
    "    \n",
    "    def stemming(self):\n",
    "        pass\n",
    "    \n",
    "    def domain_age_less_than_365(self):\n",
    "        for domain in self.domains:\n",
    "            age_level = Domain_registration_length(domain)\n",
    "            if age_level != 1:\n",
    "                return age_level\n",
    "        return 1\n",
    "    \n",
    "    def run(self):\n",
    "        data = {}\n",
    "        data['HTML Body'] = self.is_html_body()\n",
    "        data['Hexadecimal URLs'] = self.num_Hexadecimal_urls()\n",
    "        data['Domains Count'] = self.num_domain()\n",
    "        data['TextLinkDifference'] = self.text_link_difference()\n",
    "        data['Dots Count'] = self.dots_counts()\n",
    "        data['Email Contains Account Term'] = self.contain_account()\n",
    "        data['Email Contains Dear Term'] = self.contain_dear()\n",
    "        data['Images as URL'] = self.numbers_image_urls()\n",
    "        data['IP URLs'] = self.numbers_of_ip_urls()\n",
    "        data['Email Contains PayPal Term'] = self.contain_paypal()\n",
    "        data['Email Contains Login Term'] = self.contain_login()\n",
    "        data['Email Contains Bank Term'] = self.contain_bank()\n",
    "        data['Phishing Terms Weight'] = self.phishing_weight()\n",
    "        data['Email Contains Verify Term'] = self.contain_verify()\n",
    "        data['Email Contains Agree Term'] = self.contain_agree()\n",
    "        data['Email Contains Suspend Term'] = self.contain_suspend()\n",
    "        return data\n",
    "        "
   ]
  },
  {
   "cell_type": "code",
   "execution_count": 8,
   "metadata": {
    "pycharm": {
     "is_executing": false,
     "name": "#%%\n"
    }
   },
   "outputs": [
    {
     "name": "stderr",
     "text": [
      "/Users/lidayuan/opt/anaconda3/envs/py37/lib/python3.7/site-packages/bs4/__init__.py:389: UserWarning: \"http://www.potterybarn.com/cat/pip.cfm?grp=151094&src=schfname%20ion%20nlexi\n",
      "ngton%20rdes\" looks like a URL. Beautiful Soup is not an HTTP client. You should probably use an HTTP client like requests to get the document behind the URL, and feed that document to Beautiful Soup.\n",
      "  ' that document to Beautiful Soup.' % decoded_markup\n",
      "/Users/lidayuan/opt/anaconda3/envs/py37/lib/python3.7/site-packages/bs4/__init__.py:389: UserWarning: \"http://games.yahoo.com/\" looks like a URL. Beautiful Soup is not an HTTP client. You should probably use an HTTP client like requests to get the document behind the URL, and feed that document to Beautiful Soup.\n",
      "  ' that document to Beautiful Soup.' % decoded_markup\n",
      "/Users/lidayuan/opt/anaconda3/envs/py37/lib/python3.7/site-packages/bs4/__init__.py:389: UserWarning: \"https://www.columbianavigator.com/ebb/default.asp\" looks like a URL. Beautiful Soup is not an HTTP client. You should probably use an HTTP client like requests to get the document behind the URL, and feed that document to Beautiful Soup.\n",
      "  ' that document to Beautiful Soup.' % decoded_markup\n",
      "/Users/lidayuan/opt/anaconda3/envs/py37/lib/python3.7/site-packages/bs4/__init__.py:389: UserWarning: \"http://oasis.caiso.com/\n",
      "\n",
      "file:///w|/iso_si/isolocation.html\" looks like a URL. Beautiful Soup is not an HTTP client. You should probably use an HTTP client like requests to get the document behind the URL, and feed that document to Beautiful Soup.\n",
      "  ' that document to Beautiful Soup.' % decoded_markup\n",
      "/Users/lidayuan/opt/anaconda3/envs/py37/lib/python3.7/site-packages/bs4/__init__.py:389: UserWarning: \"http://www.eei.org/\" looks like a URL. Beautiful Soup is not an HTTP client. You should probably use an HTTP client like requests to get the document behind the URL, and feed that document to Beautiful Soup.\n",
      "  ' that document to Beautiful Soup.' % decoded_markup\n",
      "/Users/lidayuan/opt/anaconda3/envs/py37/lib/python3.7/site-packages/bs4/__init__.py:389: UserWarning: \"http://biz.yahoo.com/prnews/010614/flth004.html\" looks like a URL. Beautiful Soup is not an HTTP client. You should probably use an HTTP client like requests to get the document behind the URL, and feed that document to Beautiful Soup.\n",
      "  ' that document to Beautiful Soup.' % decoded_markup\n",
      "/Users/lidayuan/opt/anaconda3/envs/py37/lib/python3.7/site-packages/bs4/__init__.py:389: UserWarning: \"http://www.thebuzz.com/\" looks like a URL. Beautiful Soup is not an HTTP client. You should probably use an HTTP client like requests to get the document behind the URL, and feed that document to Beautiful Soup.\n",
      "  ' that document to Beautiful Soup.' % decoded_markup\n",
      "/Users/lidayuan/opt/anaconda3/envs/py37/lib/python3.7/site-packages/bs4/__init__.py:389: UserWarning: \"http://www.vegasinsider.com/vhtml/u/ce/column/0,2863,2643914,00.html\" looks like a URL. Beautiful Soup is not an HTTP client. You should probably use an HTTP client like requests to get the document behind the URL, and feed that document to Beautiful Soup.\n",
      "  ' that document to Beautiful Soup.' % decoded_markup\n",
      "/Users/lidayuan/opt/anaconda3/envs/py37/lib/python3.7/site-packages/bs4/__init__.py:389: UserWarning: \"http://quote.yahoo.com/q?s=ene+aig+c+cmb+gs+txn+wmt+sunw+emc+slr+flex+arba+amg\n",
      "n+sgp+bmy&d=v1\" looks like a URL. Beautiful Soup is not an HTTP client. You should probably use an HTTP client like requests to get the document behind the URL, and feed that document to Beautiful Soup.\n",
      "  ' that document to Beautiful Soup.' % decoded_markup\n",
      "/Users/lidayuan/opt/anaconda3/envs/py37/lib/python3.7/site-packages/bs4/__init__.py:389: UserWarning: \"http://www.daily-blessings.com/bless107.htm\" looks like a URL. Beautiful Soup is not an HTTP client. You should probably use an HTTP client like requests to get the document behind the URL, and feed that document to Beautiful Soup.\n",
      "  ' that document to Beautiful Soup.' % decoded_markup\n",
      "/Users/lidayuan/opt/anaconda3/envs/py37/lib/python3.7/site-packages/bs4/__init__.py:389: UserWarning: \"http://espn.go.com/ncaa/clubhouses/2306.html\" looks like a URL. Beautiful Soup is not an HTTP client. You should probably use an HTTP client like requests to get the document behind the URL, and feed that document to Beautiful Soup.\n",
      "  ' that document to Beautiful Soup.' % decoded_markup\n",
      "/Users/lidayuan/opt/anaconda3/envs/py37/lib/python3.7/site-packages/bs4/__init__.py:389: UserWarning: \"http://www.timeout.com/london/links/index.html\" looks like a URL. Beautiful Soup is not an HTTP client. You should probably use an HTTP client like requests to get the document behind the URL, and feed that document to Beautiful Soup.\n",
      "  ' that document to Beautiful Soup.' % decoded_markup\n",
      "/Users/lidayuan/opt/anaconda3/envs/py37/lib/python3.7/site-packages/bs4/__init__.py:389: UserWarning: \"http://www.caiso.com/docs/09003a6080/07/bc/09003a608007bc78.pdf\" looks like a URL. Beautiful Soup is not an HTTP client. You should probably use an HTTP client like requests to get the document behind the URL, and feed that document to Beautiful Soup.\n",
      "  ' that document to Beautiful Soup.' % decoded_markup\n",
      "/Users/lidayuan/opt/anaconda3/envs/py37/lib/python3.7/site-packages/bs4/__init__.py:389: UserWarning: \"http://cbs.sportsline.com/u/ce/multi/0,1329,3028555_56,00.html\" looks like a URL. Beautiful Soup is not an HTTP client. You should probably use an HTTP client like requests to get the document behind the URL, and feed that document to Beautiful Soup.\n",
      "  ' that document to Beautiful Soup.' % decoded_markup\n",
      "/Users/lidayuan/opt/anaconda3/envs/py37/lib/python3.7/site-packages/bs4/__init__.py:389: UserWarning: \"http://biz.yahoo.com/bw/010413/0033.html\" looks like a URL. Beautiful Soup is not an HTTP client. You should probably use an HTTP client like requests to get the document behind the URL, and feed that document to Beautiful Soup.\n",
      "  ' that document to Beautiful Soup.' % decoded_markup\n",
      "/Users/lidayuan/opt/anaconda3/envs/py37/lib/python3.7/site-packages/bs4/__init__.py:389: UserWarning: \"http://support.dell.com/us/en/dhs-bsd_reg.asp?segid=5ds\" looks like a URL. Beautiful Soup is not an HTTP client. You should probably use an HTTP client like requests to get the document behind the URL, and feed that document to Beautiful Soup.\n",
      "  ' that document to Beautiful Soup.' % decoded_markup\n",
      "/Users/lidayuan/opt/anaconda3/envs/py37/lib/python3.7/site-packages/bs4/__init__.py:389: UserWarning: \"http://gasmsgboard.corp.enron.com/msgframe.asp\" looks like a URL. Beautiful Soup is not an HTTP client. You should probably use an HTTP client like requests to get the document behind the URL, and feed that document to Beautiful Soup.\n",
      "  ' that document to Beautiful Soup.' % decoded_markup\n",
      "/Users/lidayuan/opt/anaconda3/envs/py37/lib/python3.7/site-packages/bs4/__init__.py:389: UserWarning: \"http://interactive.wsj.com/articles/sb980723117779324889.htm\" looks like a URL. Beautiful Soup is not an HTTP client. You should probably use an HTTP client like requests to get the document behind the URL, and feed that document to Beautiful Soup.\n",
      "  ' that document to Beautiful Soup.' % decoded_markup\n",
      "/Users/lidayuan/opt/anaconda3/envs/py37/lib/python3.7/site-packages/bs4/__init__.py:389: UserWarning: \"http://www.austin360.com/sports/hookem/stories/2000/03/0201pittman.html\" looks like a URL. Beautiful Soup is not an HTTP client. You should probably use an HTTP client like requests to get the document behind the URL, and feed that document to Beautiful Soup.\n",
      "  ' that document to Beautiful Soup.' % decoded_markup\n",
      "/Users/lidayuan/opt/anaconda3/envs/py37/lib/python3.7/site-packages/bs4/__init__.py:389: UserWarning: \"http://pcworld.com/howto/article/0,aid,52643,00.asp\" looks like a URL. Beautiful Soup is not an HTTP client. You should probably use an HTTP client like requests to get the document behind the URL, and feed that document to Beautiful Soup.\n",
      "  ' that document to Beautiful Soup.' % decoded_markup\n",
      "/Users/lidayuan/opt/anaconda3/envs/py37/lib/python3.7/site-packages/bs4/__init__.py:389: UserWarning: \"http://www.corporate-ir.net/ireye/ir_site.zhtml?ticker=ene&script=1100\" looks like a URL. Beautiful Soup is not an HTTP client. You should probably use an HTTP client like requests to get the document behind the URL, and feed that document to Beautiful Soup.\n",
      "  ' that document to Beautiful Soup.' % decoded_markup\n",
      "/Users/lidayuan/opt/anaconda3/envs/py37/lib/python3.7/site-packages/bs4/__init__.py:389: UserWarning: \"https://mesa.altra.com/production/index.html\" looks like a URL. Beautiful Soup is not an HTTP client. You should probably use an HTTP client like requests to get the document behind the URL, and feed that document to Beautiful Soup.\n",
      "  ' that document to Beautiful Soup.' % decoded_markup\n",
      "/Users/lidayuan/opt/anaconda3/envs/py37/lib/python3.7/site-packages/bs4/__init__.py:389: UserWarning: \"http://www.kidventurecamp.com/stphilip.htm\" looks like a URL. Beautiful Soup is not an HTTP client. You should probably use an HTTP client like requests to get the document behind the URL, and feed that document to Beautiful Soup.\n",
      "  ' that document to Beautiful Soup.' % decoded_markup\n",
      "/Users/lidayuan/opt/anaconda3/envs/py37/lib/python3.7/site-packages/bs4/__init__.py:389: UserWarning: \"http://www.lafghanistan.com/laflist.asp\" looks like a URL. Beautiful Soup is not an HTTP client. You should probably use an HTTP client like requests to get the document behind the URL, and feed that document to Beautiful Soup.\n",
      "  ' that document to Beautiful Soup.' % decoded_markup\n",
      "/Users/lidayuan/opt/anaconda3/envs/py37/lib/python3.7/site-packages/bs4/__init__.py:389: UserWarning: \"http://cbs.sportsline.com/u/football/college/2000/sportsline115/\" looks like a URL. Beautiful Soup is not an HTTP client. You should probably use an HTTP client like requests to get the document behind the URL, and feed that document to Beautiful Soup.\n",
      "  ' that document to Beautiful Soup.' % decoded_markup\n",
      "/Users/lidayuan/opt/anaconda3/envs/py37/lib/python3.7/site-packages/bs4/__init__.py:389: UserWarning: \"http://messages.yahoo.com/bbs?action=m&board=7081781&tid=ene&sid=7081781&mid=3\n",
      "878\" looks like a URL. Beautiful Soup is not an HTTP client. You should probably use an HTTP client like requests to get the document behind the URL, and feed that document to Beautiful Soup.\n",
      "  ' that document to Beautiful Soup.' % decoded_markup\n",
      "/Users/lidayuan/opt/anaconda3/envs/py37/lib/python3.7/site-packages/bs4/__init__.py:389: UserWarning: \"http://www.theonion.com/onion3618/kid_rock_starves.html\" looks like a URL. Beautiful Soup is not an HTTP client. You should probably use an HTTP client like requests to get the document behind the URL, and feed that document to Beautiful Soup.\n",
      "  ' that document to Beautiful Soup.' % decoded_markup\n",
      "/Users/lidayuan/opt/anaconda3/envs/py37/lib/python3.7/site-packages/bs4/__init__.py:389: UserWarning: \"http://www.oklahoman.com/cgi-bin/show_article?id=547605&pic=none&tp=getarticle\" looks like a URL. Beautiful Soup is not an HTTP client. You should probably use an HTTP client like requests to get the document behind the URL, and feed that document to Beautiful Soup.\n",
      "  ' that document to Beautiful Soup.' % decoded_markup\n",
      "/Users/lidayuan/opt/anaconda3/envs/py37/lib/python3.7/site-packages/bs4/__init__.py:389: UserWarning: \"http://cbs.marketwatch.com/tools/quotes/newsarticle.asp?siteid=mktw&sid=1803&guid=%7bd30031de%2dd722%2d47ce%2d9df5%2dde78eda9c21d%7d\" looks like a URL. Beautiful Soup is not an HTTP client. You should probably use an HTTP client like requests to get the document behind the URL, and feed that document to Beautiful Soup.\n",
      "  ' that document to Beautiful Soup.' % decoded_markup\n",
      "/Users/lidayuan/opt/anaconda3/envs/py37/lib/python3.7/site-packages/bs4/__init__.py:389: UserWarning: \"http://www.click2houston.com/hou/news/stories/news-114261420011231-081253.html\" looks like a URL. Beautiful Soup is not an HTTP client. You should probably use an HTTP client like requests to get the document behind the URL, and feed that document to Beautiful Soup.\n",
      "  ' that document to Beautiful Soup.' % decoded_markup\n",
      "/Users/lidayuan/opt/anaconda3/envs/py37/lib/python3.7/site-packages/bs4/__init__.py:314: UserWarning: \"b'.'\" looks like a filename, not markup. You should probably open this file and pass the filehandle into Beautiful Soup.\n",
      "  ' Beautiful Soup.' % markup)\n",
      "/Users/lidayuan/opt/anaconda3/envs/py37/lib/python3.7/site-packages/bs4/__init__.py:389: UserWarning: \"http://www.rushlimbaugh.com/home/weekend_sites/weekend100900_101300/quotes_101\n",
      "000.html\" looks like a URL. Beautiful Soup is not an HTTP client. You should probably use an HTTP client like requests to get the document behind the URL, and feed that document to Beautiful Soup.\n",
      "  ' that document to Beautiful Soup.' % decoded_markup\n",
      "/Users/lidayuan/opt/anaconda3/envs/py37/lib/python3.7/site-packages/bs4/__init__.py:389: UserWarning: \"http://www.fortune.com/\" looks like a URL. Beautiful Soup is not an HTTP client. You should probably use an HTTP client like requests to get the document behind the URL, and feed that document to Beautiful Soup.\n",
      "  ' that document to Beautiful Soup.' % decoded_markup\n",
      "/Users/lidayuan/opt/anaconda3/envs/py37/lib/python3.7/site-packages/bs4/__init__.py:389: UserWarning: \"http://www.googles.com/\" looks like a URL. Beautiful Soup is not an HTTP client. You should probably use an HTTP client like requests to get the document behind the URL, and feed that document to Beautiful Soup.\n",
      "  ' that document to Beautiful Soup.' % decoded_markup\n",
      "/Users/lidayuan/opt/anaconda3/envs/py37/lib/python3.7/site-packages/bs4/__init__.py:389: UserWarning: \"http://edms.livelink.enron.com/ena/livelink.exe?func=ll&objtype=141&objaction=\n",
      "browse\" looks like a URL. Beautiful Soup is not an HTTP client. You should probably use an HTTP client like requests to get the document behind the URL, and feed that document to Beautiful Soup.\n",
      "  ' that document to Beautiful Soup.' % decoded_markup\n",
      "/Users/lidayuan/opt/anaconda3/envs/py37/lib/python3.7/site-packages/bs4/__init__.py:389: UserWarning: \"http://pstemarie.homestead.com/\" looks like a URL. Beautiful Soup is not an HTTP client. You should probably use an HTTP client like requests to get the document behind the URL, and feed that document to Beautiful Soup.\n",
      "  ' that document to Beautiful Soup.' % decoded_markup\n",
      "/Users/lidayuan/opt/anaconda3/envs/py37/lib/python3.7/site-packages/bs4/__init__.py:389: UserWarning: \"http://houston.cowparade.net/\" looks like a URL. Beautiful Soup is not an HTTP client. You should probably use an HTTP client like requests to get the document behind the URL, and feed that document to Beautiful Soup.\n",
      "  ' that document to Beautiful Soup.' % decoded_markup\n",
      "/Users/lidayuan/opt/anaconda3/envs/py37/lib/python3.7/site-packages/bs4/__init__.py:389: UserWarning: \"http://www.vegasinsider.com/u/futures/summerlin/nflgames.htm\" looks like a URL. Beautiful Soup is not an HTTP client. You should probably use an HTTP client like requests to get the document behind the URL, and feed that document to Beautiful Soup.\n",
      "  ' that document to Beautiful Soup.' % decoded_markup\n",
      "/Users/lidayuan/opt/anaconda3/envs/py37/lib/python3.7/site-packages/bs4/__init__.py:389: UserWarning: \"http://www.telski.com/tandp/extras/photo_of_day/index.html\" looks like a URL. Beautiful Soup is not an HTTP client. You should probably use an HTTP client like requests to get the document behind the URL, and feed that document to Beautiful Soup.\n",
      "  ' that document to Beautiful Soup.' % decoded_markup\n",
      "/Users/lidayuan/opt/anaconda3/envs/py37/lib/python3.7/site-packages/bs4/__init__.py:389: UserWarning: \"http://www.chron.com/cs/cda/story.hts/business/1133446\" looks like a URL. Beautiful Soup is not an HTTP client. You should probably use an HTTP client like requests to get the document behind the URL, and feed that document to Beautiful Soup.\n",
      "  ' that document to Beautiful Soup.' % decoded_markup\n",
      "/Users/lidayuan/opt/anaconda3/envs/py37/lib/python3.7/site-packages/bs4/__init__.py:389: UserWarning: \"http://gasfundy.corp.enron.com/gas/framework/default.asp\" looks like a URL. Beautiful Soup is not an HTTP client. You should probably use an HTTP client like requests to get the document behind the URL, and feed that document to Beautiful Soup.\n",
      "  ' that document to Beautiful Soup.' % decoded_markup\n",
      "/Users/lidayuan/opt/anaconda3/envs/py37/lib/python3.7/site-packages/bs4/__init__.py:389: UserWarning: \"http://www.theonion.com/onion3640/bush_or_gore.html\" looks like a URL. Beautiful Soup is not an HTTP client. You should probably use an HTTP client like requests to get the document behind the URL, and feed that document to Beautiful Soup.\n",
      "  ' that document to Beautiful Soup.' % decoded_markup\n"
     ],
     "output_type": "stream"
    }
   ],
   "source": [
    "train_pd[\"HTML Body\"] = train_pd[\"0\"].apply(lambda i : EmailFeaturized(i).is_html_body())"
   ]
  },
  {
   "cell_type": "code",
   "execution_count": 9,
   "metadata": {
    "pycharm": {
     "is_executing": false,
     "name": "#%%\n"
    }
   },
   "outputs": [],
   "source": [
    "train_pd[\"Hexadecimal URLs\"] = train_pd[\"0\"].apply(lambda i : EmailFeaturized(i).num_Hexadecimal_urls())"
   ]
  },
  {
   "cell_type": "code",
   "execution_count": 10,
   "metadata": {
    "pycharm": {
     "is_executing": false,
     "name": "#%%\n"
    }
   },
   "outputs": [],
   "source": [
    "train_pd[\"Domains Count\"] = train_pd[\"0\"].apply(lambda i : EmailFeaturized(i).num_domain())"
   ]
  },
  {
   "cell_type": "code",
   "execution_count": 11,
   "metadata": {
    "pycharm": {
     "is_executing": false,
     "name": "#%%\n"
    }
   },
   "outputs": [],
   "source": [
    "train_pd[\"TextLinkDifference\"] = train_pd[\"0\"].apply(lambda i : EmailFeaturized(i).text_link_difference())"
   ]
  },
  {
   "cell_type": "code",
   "execution_count": 12,
   "metadata": {
    "pycharm": {
     "is_executing": false,
     "name": "#%%\n"
    }
   },
   "outputs": [],
   "source": [
    "train_pd[\"Dots Count\"] = train_pd[\"0\"].apply(lambda i : EmailFeaturized(i).dots_counts())"
   ]
  },
  {
   "cell_type": "code",
   "execution_count": 13,
   "metadata": {
    "pycharm": {
     "is_executing": false,
     "name": "#%%\n"
    }
   },
   "outputs": [],
   "source": [
    "train_pd[\"Email Contains Account Term\"] = train_pd[\"0\"].apply(lambda i : EmailFeaturized(i).contain_account())"
   ]
  },
  {
   "cell_type": "code",
   "execution_count": 14,
   "metadata": {
    "pycharm": {
     "is_executing": false,
     "name": "#%%\n"
    }
   },
   "outputs": [],
   "source": [
    "train_pd[\"Email Contains Dear Term\"] = train_pd[\"0\"].apply(lambda i : EmailFeaturized(i).contain_dear())"
   ]
  },
  {
   "cell_type": "code",
   "execution_count": 15,
   "metadata": {
    "pycharm": {
     "is_executing": false,
     "name": "#%%\n"
    }
   },
   "outputs": [],
   "source": [
    "train_pd[\"Images as URL\"] = train_pd[\"0\"].apply(lambda i : EmailFeaturized(i).numbers_image_urls())"
   ]
  },
  {
   "cell_type": "code",
   "execution_count": 16,
   "metadata": {
    "pycharm": {
     "is_executing": false,
     "name": "#%%\n"
    }
   },
   "outputs": [],
   "source": [
    "train_pd[\"IP URLs\"] = train_pd[\"0\"].apply(lambda i : EmailFeaturized(i).numbers_of_ip_urls())"
   ]
  },
  {
   "cell_type": "code",
   "execution_count": 17,
   "metadata": {
    "pycharm": {
     "is_executing": false,
     "name": "#%%\n"
    }
   },
   "outputs": [],
   "source": [
    "train_pd[\"Email Contains PayPal Term\"] = train_pd[\"0\"].apply(lambda i : EmailFeaturized(i).contain_paypal())"
   ]
  },
  {
   "cell_type": "code",
   "execution_count": 18,
   "metadata": {
    "pycharm": {
     "is_executing": false,
     "name": "#%%\n"
    }
   },
   "outputs": [],
   "source": [
    "train_pd[\"Email Contains Login Term\"] = train_pd[\"0\"].apply(lambda i : EmailFeaturized(i).contain_login())"
   ]
  },
  {
   "cell_type": "code",
   "execution_count": 19,
   "metadata": {
    "pycharm": {
     "is_executing": false,
     "name": "#%%\n"
    }
   },
   "outputs": [],
   "source": [
    "train_pd[\"Email Contains Bank Term\"] = train_pd[\"0\"].apply(lambda i : EmailFeaturized(i).contain_bank())"
   ]
  },
  {
   "cell_type": "code",
   "execution_count": 20,
   "metadata": {
    "pycharm": {
     "is_executing": false,
     "name": "#%%\n"
    }
   },
   "outputs": [],
   "source": [
    "train_pd[\"Phishing Terms Weight\"] = train_pd[\"0\"].apply(lambda i : EmailFeaturized(i).phishing_weight())"
   ]
  },
  {
   "cell_type": "code",
   "execution_count": 21,
   "metadata": {
    "pycharm": {
     "is_executing": false,
     "name": "#%%\n"
    }
   },
   "outputs": [],
   "source": [
    "train_pd[\"Email Contains Verify Term\"] = train_pd[\"0\"].apply(lambda i : EmailFeaturized(i).contain_verify())"
   ]
  },
  {
   "cell_type": "code",
   "execution_count": 22,
   "metadata": {
    "pycharm": {
     "is_executing": false,
     "name": "#%%\n"
    }
   },
   "outputs": [],
   "source": [
    "train_pd[\"Email Contains Agree Term\"] = train_pd[\"0\"].apply(lambda i : EmailFeaturized(i).contain_agree())"
   ]
  },
  {
   "cell_type": "code",
   "execution_count": 23,
   "metadata": {
    "pycharm": {
     "is_executing": false,
     "name": "#%%\n"
    }
   },
   "outputs": [],
   "source": [
    "train_pd[\"Email Contains Suspend Term\"] = train_pd[\"0\"].apply(lambda i : EmailFeaturized(i).contain_suspend())"
   ]
  },
  {
   "cell_type": "code",
   "execution_count": 24,
   "metadata": {
    "pycharm": {
     "is_executing": false,
     "name": "#%%\n"
    }
   },
   "outputs": [
    {
     "data": {
      "text/plain": "   Unnamed: 0                                                  0  1  \\\n0           0  Looks good to me.  Are we certain that all of ...  0   \n1           1  Greg, how big was that last check you told me ...  0   \n2           2  <table border=0 width=\"100%\" cellpadding=\"8\"  ...  1   \n3           3  Hello everyone:\\n\\nIf you were not able to acc...  0   \n4           4  I have a customer in town Thursday night, so w...  0   \n\n   HTML Body  Hexadecimal URLs  Domains Count  TextLinkDifference  Dots Count  \\\n0          0                 0              0                   0           0   \n1          0                 0              0                   0           0   \n2          1                 2              2                   0           0   \n3          0                 0              0                   0           0   \n4          0                 0              0                   0           0   \n\n   Email Contains Account Term  Email Contains Dear Term  Images as URL  \\\n0                            0                         0              0   \n1                            0                         0              0   \n2                            0                         0              0   \n3                            0                         0              0   \n4                            0                         0              0   \n\n   IP URLs  Email Contains PayPal Term  Email Contains Login Term  \\\n0        0                           0                          0   \n1        0                           0                          0   \n2        0                           0                          0   \n3        0                           0                          0   \n4        0                           0                          0   \n\n   Email Contains Bank Term  Phishing Terms Weight  \\\n0                         0              15.364725   \n1                         0               0.000000   \n2                         1              49.785970   \n3                         0              17.667806   \n4                         0               8.659211   \n\n   Email Contains Verify Term  Email Contains Agree Term  \\\n0                           0                          1   \n1                           0                          0   \n2                           0                          0   \n3                           0                          0   \n4                           0                          0   \n\n   Email Contains Suspend Term  \n0                            0  \n1                            0  \n2                            0  \n3                            0  \n4                            0  ",
      "text/html": "<div>\n<style scoped>\n    .dataframe tbody tr th:only-of-type {\n        vertical-align: middle;\n    }\n\n    .dataframe tbody tr th {\n        vertical-align: top;\n    }\n\n    .dataframe thead th {\n        text-align: right;\n    }\n</style>\n<table border=\"1\" class=\"dataframe\">\n  <thead>\n    <tr style=\"text-align: right;\">\n      <th></th>\n      <th>Unnamed: 0</th>\n      <th>0</th>\n      <th>1</th>\n      <th>HTML Body</th>\n      <th>Hexadecimal URLs</th>\n      <th>Domains Count</th>\n      <th>TextLinkDifference</th>\n      <th>Dots Count</th>\n      <th>Email Contains Account Term</th>\n      <th>Email Contains Dear Term</th>\n      <th>Images as URL</th>\n      <th>IP URLs</th>\n      <th>Email Contains PayPal Term</th>\n      <th>Email Contains Login Term</th>\n      <th>Email Contains Bank Term</th>\n      <th>Phishing Terms Weight</th>\n      <th>Email Contains Verify Term</th>\n      <th>Email Contains Agree Term</th>\n      <th>Email Contains Suspend Term</th>\n    </tr>\n  </thead>\n  <tbody>\n    <tr>\n      <th>0</th>\n      <td>0</td>\n      <td>Looks good to me.  Are we certain that all of ...</td>\n      <td>0</td>\n      <td>0</td>\n      <td>0</td>\n      <td>0</td>\n      <td>0</td>\n      <td>0</td>\n      <td>0</td>\n      <td>0</td>\n      <td>0</td>\n      <td>0</td>\n      <td>0</td>\n      <td>0</td>\n      <td>0</td>\n      <td>15.364725</td>\n      <td>0</td>\n      <td>1</td>\n      <td>0</td>\n    </tr>\n    <tr>\n      <th>1</th>\n      <td>1</td>\n      <td>Greg, how big was that last check you told me ...</td>\n      <td>0</td>\n      <td>0</td>\n      <td>0</td>\n      <td>0</td>\n      <td>0</td>\n      <td>0</td>\n      <td>0</td>\n      <td>0</td>\n      <td>0</td>\n      <td>0</td>\n      <td>0</td>\n      <td>0</td>\n      <td>0</td>\n      <td>0.000000</td>\n      <td>0</td>\n      <td>0</td>\n      <td>0</td>\n    </tr>\n    <tr>\n      <th>2</th>\n      <td>2</td>\n      <td>&lt;table border=0 width=\"100%\" cellpadding=\"8\"  ...</td>\n      <td>1</td>\n      <td>1</td>\n      <td>2</td>\n      <td>2</td>\n      <td>0</td>\n      <td>0</td>\n      <td>0</td>\n      <td>0</td>\n      <td>0</td>\n      <td>0</td>\n      <td>0</td>\n      <td>0</td>\n      <td>1</td>\n      <td>49.785970</td>\n      <td>0</td>\n      <td>0</td>\n      <td>0</td>\n    </tr>\n    <tr>\n      <th>3</th>\n      <td>3</td>\n      <td>Hello everyone:\\n\\nIf you were not able to acc...</td>\n      <td>0</td>\n      <td>0</td>\n      <td>0</td>\n      <td>0</td>\n      <td>0</td>\n      <td>0</td>\n      <td>0</td>\n      <td>0</td>\n      <td>0</td>\n      <td>0</td>\n      <td>0</td>\n      <td>0</td>\n      <td>0</td>\n      <td>17.667806</td>\n      <td>0</td>\n      <td>0</td>\n      <td>0</td>\n    </tr>\n    <tr>\n      <th>4</th>\n      <td>4</td>\n      <td>I have a customer in town Thursday night, so w...</td>\n      <td>0</td>\n      <td>0</td>\n      <td>0</td>\n      <td>0</td>\n      <td>0</td>\n      <td>0</td>\n      <td>0</td>\n      <td>0</td>\n      <td>0</td>\n      <td>0</td>\n      <td>0</td>\n      <td>0</td>\n      <td>0</td>\n      <td>8.659211</td>\n      <td>0</td>\n      <td>0</td>\n      <td>0</td>\n    </tr>\n  </tbody>\n</table>\n</div>"
     },
     "metadata": {},
     "output_type": "execute_result",
     "execution_count": 24
    }
   ],
   "source": [
    "train_pd.head()"
   ]
  },
  {
   "cell_type": "code",
   "execution_count": 25,
   "metadata": {
    "pycharm": {
     "is_executing": false,
     "name": "#%%\n"
    }
   },
   "outputs": [],
   "source": [
    "# html_path = '../data/jose_phishing_html/phishing-2015.txt-0009.eml.html'\n",
    "# text_path = '../data/jose_phishing_text/phishing-2015.txt-0009.eml.txt'\n",
    "# raw_path = '../data/jose_phishing/'\n",
    "# \n",
    "# text = ''\n",
    "# with open(html_path, 'r') as f:\n",
    "#     text = f.read()\n",
    "#     \n",
    "# email_featurize = EmailFeaturized(text)\n",
    "\n",
    "# print(email_featurize.is_html_body())\n",
    "# print(email_featurize.get_links())\n",
    "# print(email_featurize.get_urls())\n",
    "# print(email_featurize.num_domain())\n",
    "# print(email_featurize.dots_counts())\n",
    "# print(email_featurize.numbers_image_urls())\n",
    "# print(email_featurize.numbers_of_ip_urls())\n",
    "# print(email_featurize.phishing_weight())\n",
    "# print(email_featurize.num_Hexadecimal_urls())"
   ]
  },
  {
   "cell_type": "code",
   "execution_count": 26,
   "metadata": {
    "pycharm": {
     "is_executing": false
    }
   },
   "outputs": [
    {
     "name": "stderr",
     "text": [
      "/Users/lidayuan/opt/anaconda3/envs/py37/lib/python3.7/site-packages/bs4/__init__.py:389: UserWarning: \"http://www.housingfinance.org/country%20specific%20information/country_specific_information.htm\" looks like a URL. Beautiful Soup is not an HTTP client. You should probably use an HTTP client like requests to get the document behind the URL, and feed that document to Beautiful Soup.\n",
      "  ' that document to Beautiful Soup.' % decoded_markup\n",
      "/Users/lidayuan/opt/anaconda3/envs/py37/lib/python3.7/site-packages/bs4/__init__.py:389: UserWarning: \"http://rcommerce.us.dell.com/rcomm/config.asp?order_code=rcrc968773-52962\" looks like a URL. Beautiful Soup is not an HTTP client. You should probably use an HTTP client like requests to get the document behind the URL, and feed that document to Beautiful Soup.\n",
      "  ' that document to Beautiful Soup.' % decoded_markup\n",
      "/Users/lidayuan/opt/anaconda3/envs/py37/lib/python3.7/site-packages/bs4/__init__.py:389: UserWarning: \"http://www.rsn.com/pages/include/cams/campic.html?rsn_resort=telluride\" looks like a URL. Beautiful Soup is not an HTTP client. You should probably use an HTTP client like requests to get the document behind the URL, and feed that document to Beautiful Soup.\n",
      "  ' that document to Beautiful Soup.' % decoded_markup\n",
      "/Users/lidayuan/opt/anaconda3/envs/py37/lib/python3.7/site-packages/bs4/__init__.py:389: UserWarning: \"http://www.sportingnews.com/nfl/support/\" looks like a URL. Beautiful Soup is not an HTTP client. You should probably use an HTTP client like requests to get the document behind the URL, and feed that document to Beautiful Soup.\n",
      "  ' that document to Beautiful Soup.' % decoded_markup\n",
      "/Users/lidayuan/opt/anaconda3/envs/py37/lib/python3.7/site-packages/bs4/__init__.py:389: UserWarning: \"http://www.barrington-ltd.com/\" looks like a URL. Beautiful Soup is not an HTTP client. You should probably use an HTTP client like requests to get the document behind the URL, and feed that document to Beautiful Soup.\n",
      "  ' that document to Beautiful Soup.' % decoded_markup\n",
      "/Users/lidayuan/opt/anaconda3/envs/py37/lib/python3.7/site-packages/bs4/__init__.py:389: UserWarning: \"http://www.whitney-fan.com/music/lyrics/pw96/01.shtml\" looks like a URL. Beautiful Soup is not an HTTP client. You should probably use an HTTP client like requests to get the document behind the URL, and feed that document to Beautiful Soup.\n",
      "  ' that document to Beautiful Soup.' % decoded_markup\n",
      "/Users/lidayuan/opt/anaconda3/envs/py37/lib/python3.7/site-packages/bs4/__init__.py:389: UserWarning: \"http://www.fightsongs.com/bigten.html\" looks like a URL. Beautiful Soup is not an HTTP client. You should probably use an HTTP client like requests to get the document behind the URL, and feed that document to Beautiful Soup.\n",
      "  ' that document to Beautiful Soup.' % decoded_markup\n",
      "/Users/lidayuan/opt/anaconda3/envs/py37/lib/python3.7/site-packages/bs4/__init__.py:389: UserWarning: \"http://testweb1.eoltest.com:5010\" looks like a URL. Beautiful Soup is not an HTTP client. You should probably use an HTTP client like requests to get the document behind the URL, and feed that document to Beautiful Soup.\n",
      "  ' that document to Beautiful Soup.' % decoded_markup\n",
      "/Users/lidayuan/opt/anaconda3/envs/py37/lib/python3.7/site-packages/bs4/__init__.py:389: UserWarning: \"http://www.chron.com/cs/cda/story.hts/metropolitan/909812\" looks like a URL. Beautiful Soup is not an HTTP client. You should probably use an HTTP client like requests to get the document behind the URL, and feed that document to Beautiful Soup.\n",
      "  ' that document to Beautiful Soup.' % decoded_markup\n",
      "/Users/lidayuan/opt/anaconda3/envs/py37/lib/python3.7/site-packages/bs4/__init__.py:389: UserWarning: \"http://www.risklab.ch/papers.html#sltfr\" looks like a URL. Beautiful Soup is not an HTTP client. You should probably use an HTTP client like requests to get the document behind the URL, and feed that document to Beautiful Soup.\n",
      "  ' that document to Beautiful Soup.' % decoded_markup\n",
      "/Users/lidayuan/opt/anaconda3/envs/py37/lib/python3.7/site-packages/bs4/__init__.py:389: UserWarning: \"http://www.recolorado.com/propsearch/query2.asp\" looks like a URL. Beautiful Soup is not an HTTP client. You should probably use an HTTP client like requests to get the document behind the URL, and feed that document to Beautiful Soup.\n",
      "  ' that document to Beautiful Soup.' % decoded_markup\n",
      "/Users/lidayuan/opt/anaconda3/envs/py37/lib/python3.7/site-packages/bs4/__init__.py:389: UserWarning: \"http://www.boston.com/dailyglobe2/212/nation/the_big_dig_shows_off_a_northbound_tunnel+.shtml\" looks like a URL. Beautiful Soup is not an HTTP client. You should probably use an HTTP client like requests to get the document behind the URL, and feed that document to Beautiful Soup.\n",
      "  ' that document to Beautiful Soup.' % decoded_markup\n",
      "/Users/lidayuan/opt/anaconda3/envs/py37/lib/python3.7/site-packages/bs4/__init__.py:389: UserWarning: \"http://ersys.corp.enron.com/dpr/index.asp\n",
      "\n",
      "http://gasfundy.dev.corp.enron.com/gas/framework/default.asp\" looks like a URL. Beautiful Soup is not an HTTP client. You should probably use an HTTP client like requests to get the document behind the URL, and feed that document to Beautiful Soup.\n",
      "  ' that document to Beautiful Soup.' % decoded_markup\n",
      "/Users/lidayuan/opt/anaconda3/envs/py37/lib/python3.7/site-packages/bs4/__init__.py:389: UserWarning: \"http://test3.thespark.com/gendertest/\" looks like a URL. Beautiful Soup is not an HTTP client. You should probably use an HTTP client like requests to get the document behind the URL, and feed that document to Beautiful Soup.\n",
      "  ' that document to Beautiful Soup.' % decoded_markup\n",
      "/Users/lidayuan/opt/anaconda3/envs/py37/lib/python3.7/site-packages/bs4/__init__.py:389: UserWarning: \"http://enaresearch.dev.corp.enron.com/research/framework/default.asp\" looks like a URL. Beautiful Soup is not an HTTP client. You should probably use an HTTP client like requests to get the document behind the URL, and feed that document to Beautiful Soup.\n",
      "  ' that document to Beautiful Soup.' % decoded_markup\n",
      "/Users/lidayuan/opt/anaconda3/envs/py37/lib/python3.7/site-packages/bs4/__init__.py:389: UserWarning: \"http://www.infoxpress.com/reviewtracker/reprints.asp?page_id=814\" looks like a URL. Beautiful Soup is not an HTTP client. You should probably use an HTTP client like requests to get the document behind the URL, and feed that document to Beautiful Soup.\n",
      "  ' that document to Beautiful Soup.' % decoded_markup\n",
      "/Users/lidayuan/opt/anaconda3/envs/py37/lib/python3.7/site-packages/bs4/__init__.py:389: UserWarning: \"http://quotes.freerealtime.com/rt/frt/news?symbol=rbak&art=c2000083000243u6509\" looks like a URL. Beautiful Soup is not an HTTP client. You should probably use an HTTP client like requests to get the document behind the URL, and feed that document to Beautiful Soup.\n",
      "  ' that document to Beautiful Soup.' % decoded_markup\n",
      "/Users/lidayuan/opt/anaconda3/envs/py37/lib/python3.7/site-packages/bs4/__init__.py:389: UserWarning: \"http://www.samuelbrittan.co.uk/text20_p.html\" looks like a URL. Beautiful Soup is not an HTTP client. You should probably use an HTTP client like requests to get the document behind the URL, and feed that document to Beautiful Soup.\n",
      "  ' that document to Beautiful Soup.' % decoded_markup\n",
      "/Users/lidayuan/opt/anaconda3/envs/py37/lib/python3.7/site-packages/bs4/__init__.py:389: UserWarning: \"http://www.anderson.ucla.edu/acad_unit/finance/workpaper2.htm#wp_author\" looks like a URL. Beautiful Soup is not an HTTP client. You should probably use an HTTP client like requests to get the document behind the URL, and feed that document to Beautiful Soup.\n",
      "  ' that document to Beautiful Soup.' % decoded_markup\n",
      "/Users/lidayuan/opt/anaconda3/envs/py37/lib/python3.7/site-packages/bs4/__init__.py:389: UserWarning: \"http://www.mgmmiragevacations.com/bestbeau1.htm\" looks like a URL. Beautiful Soup is not an HTTP client. You should probably use an HTTP client like requests to get the document behind the URL, and feed that document to Beautiful Soup.\n",
      "  ' that document to Beautiful Soup.' % decoded_markup\n",
      "/Users/lidayuan/opt/anaconda3/envs/py37/lib/python3.7/site-packages/bs4/__init__.py:389: UserWarning: \"http://espn.go.com/recruiting/s/2000toprbs.html\" looks like a URL. Beautiful Soup is not an HTTP client. You should probably use an HTTP client like requests to get the document behind the URL, and feed that document to Beautiful Soup.\n",
      "  ' that document to Beautiful Soup.' % decoded_markup\n",
      "/Users/lidayuan/opt/anaconda3/envs/py37/lib/python3.7/site-packages/bs4/__init__.py:389: UserWarning: \"http://www.cap4pets.org/dog--adopt_p1.html\" looks like a URL. Beautiful Soup is not an HTTP client. You should probably use an HTTP client like requests to get the document behind the URL, and feed that document to Beautiful Soup.\n",
      "  ' that document to Beautiful Soup.' % decoded_markup\n",
      "/Users/lidayuan/opt/anaconda3/envs/py37/lib/python3.7/site-packages/bs4/__init__.py:389: UserWarning: \"http://ecthou-webcl1.nt.ect.enron.com/gas/\" looks like a URL. Beautiful Soup is not an HTTP client. You should probably use an HTTP client like requests to get the document behind the URL, and feed that document to Beautiful Soup.\n",
      "  ' that document to Beautiful Soup.' % decoded_markup\n"
     ],
     "output_type": "stream"
    }
   ],
   "source": [
    "test_pd[\"HTML Body\"] = test_pd[\"0\"].apply(lambda i : EmailFeaturized(i).is_html_body())\n",
    "test_pd[\"Hexadecimal URLs\"] = test_pd[\"0\"].apply(lambda i : EmailFeaturized(i).num_Hexadecimal_urls())\n",
    "test_pd[\"Domains Count\"] = test_pd[\"0\"].apply(lambda i : EmailFeaturized(i).num_domain())\n",
    "test_pd[\"TextLinkDifference\"] = test_pd[\"0\"].apply(lambda i : EmailFeaturized(i).text_link_difference())\n",
    "test_pd[\"Dots Count\"] = test_pd[\"0\"].apply(lambda i : EmailFeaturized(i).dots_counts())\n",
    "test_pd[\"Email Contains Account Term\"] = test_pd[\"0\"].apply(lambda i : EmailFeaturized(i).contain_account())\n",
    "test_pd[\"Email Contains Dear Term\"] = test_pd[\"0\"].apply(lambda i : EmailFeaturized(i).contain_dear())\n",
    "test_pd[\"Images as URL\"] = test_pd[\"0\"].apply(lambda i : EmailFeaturized(i).numbers_image_urls())\n",
    "test_pd[\"IP URLs\"] = test_pd[\"0\"].apply(lambda i : EmailFeaturized(i).numbers_of_ip_urls())\n",
    "test_pd[\"Email Contains PayPal Term\"] = test_pd[\"0\"].apply(lambda i : EmailFeaturized(i).contain_paypal())\n",
    "test_pd[\"Email Contains Login Term\"] = test_pd[\"0\"].apply(lambda i : EmailFeaturized(i).contain_login())\n",
    "test_pd[\"Email Contains Bank Term\"] = test_pd[\"0\"].apply(lambda i : EmailFeaturized(i).contain_bank())\n",
    "test_pd[\"Phishing Terms Weight\"] = test_pd[\"0\"].apply(lambda i : EmailFeaturized(i).phishing_weight())\n",
    "test_pd[\"Email Contains Verify Term\"] = test_pd[\"0\"].apply(lambda i : EmailFeaturized(i).contain_verify())\n",
    "test_pd[\"Email Contains Agree Term\"] = test_pd[\"0\"].apply(lambda i : EmailFeaturized(i).contain_agree())\n",
    "test_pd[\"Email Contains Suspend Term\"] = test_pd[\"0\"].apply(lambda i : EmailFeaturized(i).contain_suspend())\n"
   ]
  },
  {
   "cell_type": "code",
   "execution_count": 27,
   "metadata": {
    "pycharm": {
     "is_executing": false,
     "name": "#%%\n"
    }
   },
   "outputs": [
    {
     "data": {
      "text/plain": "   Unnamed: 0                                                  0  1  \\\n0           0  Janet,\\n\\nHere is the model.  I have added uni...  0   \n1           1            Maureen,\\n\\nYour presentation:\\n\\nVince  0   \n2           2  Kim, please invite the Following Texas Eastern...  0   \n3           3  \\n<br>\\n\\n<p dir=\"ltr\" align=\"left\"><b><font c...  1   \n4           4  noregrets littlerock2016 alex hoffman democrat...  0   \n\n   HTML Body  Hexadecimal URLs  Domains Count  TextLinkDifference  Dots Count  \\\n0          0                 0              0                   0           0   \n1          0                 0              0                   0           0   \n2          0                 0              0                   0           0   \n3          1                 2              2                   0           0   \n4          0                 0              0                   0           0   \n\n   Email Contains Account Term  Email Contains Dear Term  Images as URL  \\\n0                            0                         0              0   \n1                            0                         0              0   \n2                            0                         0              0   \n3                            1                         1              0   \n4                            0                         0              0   \n\n   IP URLs  Email Contains PayPal Term  Email Contains Login Term  \\\n0        0                           0                          0   \n1        0                           0                          0   \n2        0                           0                          0   \n3        0                           0                          1   \n4        0                           0                          0   \n\n   Email Contains Bank Term  Phishing Terms Weight  \\\n0                         0               0.000000   \n1                         0               0.000000   \n2                         0              15.327600   \n3                         0              87.125801   \n4                         0               0.000000   \n\n   Email Contains Verify Term  Email Contains Agree Term  \\\n0                           0                          0   \n1                           0                          0   \n2                           0                          0   \n3                           0                          0   \n4                           0                          0   \n\n   Email Contains Suspend Term  \n0                            0  \n1                            0  \n2                            0  \n3                            0  \n4                            0  ",
      "text/html": "<div>\n<style scoped>\n    .dataframe tbody tr th:only-of-type {\n        vertical-align: middle;\n    }\n\n    .dataframe tbody tr th {\n        vertical-align: top;\n    }\n\n    .dataframe thead th {\n        text-align: right;\n    }\n</style>\n<table border=\"1\" class=\"dataframe\">\n  <thead>\n    <tr style=\"text-align: right;\">\n      <th></th>\n      <th>Unnamed: 0</th>\n      <th>0</th>\n      <th>1</th>\n      <th>HTML Body</th>\n      <th>Hexadecimal URLs</th>\n      <th>Domains Count</th>\n      <th>TextLinkDifference</th>\n      <th>Dots Count</th>\n      <th>Email Contains Account Term</th>\n      <th>Email Contains Dear Term</th>\n      <th>Images as URL</th>\n      <th>IP URLs</th>\n      <th>Email Contains PayPal Term</th>\n      <th>Email Contains Login Term</th>\n      <th>Email Contains Bank Term</th>\n      <th>Phishing Terms Weight</th>\n      <th>Email Contains Verify Term</th>\n      <th>Email Contains Agree Term</th>\n      <th>Email Contains Suspend Term</th>\n    </tr>\n  </thead>\n  <tbody>\n    <tr>\n      <th>0</th>\n      <td>0</td>\n      <td>Janet,\\n\\nHere is the model.  I have added uni...</td>\n      <td>0</td>\n      <td>0</td>\n      <td>0</td>\n      <td>0</td>\n      <td>0</td>\n      <td>0</td>\n      <td>0</td>\n      <td>0</td>\n      <td>0</td>\n      <td>0</td>\n      <td>0</td>\n      <td>0</td>\n      <td>0</td>\n      <td>0.000000</td>\n      <td>0</td>\n      <td>0</td>\n      <td>0</td>\n    </tr>\n    <tr>\n      <th>1</th>\n      <td>1</td>\n      <td>Maureen,\\n\\nYour presentation:\\n\\nVince</td>\n      <td>0</td>\n      <td>0</td>\n      <td>0</td>\n      <td>0</td>\n      <td>0</td>\n      <td>0</td>\n      <td>0</td>\n      <td>0</td>\n      <td>0</td>\n      <td>0</td>\n      <td>0</td>\n      <td>0</td>\n      <td>0</td>\n      <td>0.000000</td>\n      <td>0</td>\n      <td>0</td>\n      <td>0</td>\n    </tr>\n    <tr>\n      <th>2</th>\n      <td>2</td>\n      <td>Kim, please invite the Following Texas Eastern...</td>\n      <td>0</td>\n      <td>0</td>\n      <td>0</td>\n      <td>0</td>\n      <td>0</td>\n      <td>0</td>\n      <td>0</td>\n      <td>0</td>\n      <td>0</td>\n      <td>0</td>\n      <td>0</td>\n      <td>0</td>\n      <td>0</td>\n      <td>15.327600</td>\n      <td>0</td>\n      <td>0</td>\n      <td>0</td>\n    </tr>\n    <tr>\n      <th>3</th>\n      <td>3</td>\n      <td>\\n&lt;br&gt;\\n\\n&lt;p dir=\"ltr\" align=\"left\"&gt;&lt;b&gt;&lt;font c...</td>\n      <td>1</td>\n      <td>1</td>\n      <td>2</td>\n      <td>2</td>\n      <td>0</td>\n      <td>0</td>\n      <td>1</td>\n      <td>1</td>\n      <td>0</td>\n      <td>0</td>\n      <td>0</td>\n      <td>1</td>\n      <td>0</td>\n      <td>87.125801</td>\n      <td>0</td>\n      <td>0</td>\n      <td>0</td>\n    </tr>\n    <tr>\n      <th>4</th>\n      <td>4</td>\n      <td>noregrets littlerock2016 alex hoffman democrat...</td>\n      <td>0</td>\n      <td>0</td>\n      <td>0</td>\n      <td>0</td>\n      <td>0</td>\n      <td>0</td>\n      <td>0</td>\n      <td>0</td>\n      <td>0</td>\n      <td>0</td>\n      <td>0</td>\n      <td>0</td>\n      <td>0</td>\n      <td>0.000000</td>\n      <td>0</td>\n      <td>0</td>\n      <td>0</td>\n    </tr>\n  </tbody>\n</table>\n</div>"
     },
     "metadata": {},
     "output_type": "execute_result",
     "execution_count": 27
    }
   ],
   "source": [
    "test_pd.head()"
   ]
  },
  {
   "cell_type": "code",
   "execution_count": 28,
   "metadata": {
    "pycharm": {
     "is_executing": false,
     "name": "#%%\n"
    }
   },
   "outputs": [],
   "source": [
    "import numpy as np\n",
    "\n",
    "\n",
    "train_ = train_pd[key_features]\n",
    "label_ = train_pd[\"1\"]\n",
    "    # .apply(lambda i : int(i))\n",
    "\n",
    "test_ = test_pd[key_features]\n",
    "label_t = test_pd[\"1\"]\n",
    "    # .apply(lambda i : int(i))"
   ]
  },
  {
   "cell_type": "code",
   "execution_count": 29,
   "metadata": {
    "pycharm": {
     "is_executing": false,
     "name": "#%%\n"
    }
   },
   "outputs": [
    {
     "data": {
      "text/plain": "0    0\n1    0\n2    0\n3    1\n4    0\nName: 1, dtype: int64"
     },
     "metadata": {},
     "output_type": "execute_result",
     "execution_count": 29
    }
   ],
   "source": [
    "# train_.head()\n",
    "# label_.head()\n",
    "# test_.head()\n",
    "# label_t.head()\n",
    "# train_.dtypes[\"account\"]\n",
    "# label_t.dtypes[\"1\"]\n",
    "label_t.head()"
   ]
  },
  {
   "cell_type": "code",
   "execution_count": 30,
   "metadata": {
    "pycharm": {
     "is_executing": false,
     "name": "#%%\n"
    }
   },
   "outputs": [],
   "source": [
    "import matplotlib.pyplot as plt\n",
    "%matplotlib inline\n",
    "import seaborn as sns\n"
   ]
  },
  {
   "cell_type": "code",
   "execution_count": 31,
   "metadata": {
    "pycharm": {
     "is_executing": false,
     "name": "#%%\n"
    }
   },
   "outputs": [],
   "source": [
    "from sklearn.ensemble import RandomForestClassifier\n",
    "from sklearn.model_selection import train_test_split\n",
    "\n",
    "from sklearn.metrics import confusion_matrix,classification_report,accuracy_score\n",
    "\n",
    "from sklearn.tree import DecisionTreeClassifier\n",
    "\n",
    "from sklearn.linear_model import LogisticRegression\n"
   ]
  },
  {
   "cell_type": "code",
   "execution_count": 32,
   "metadata": {
    "pycharm": {
     "is_executing": false,
     "name": "#%%\n"
    }
   },
   "outputs": [
    {
     "name": "stderr",
     "text": [
      "WARNING:root:TensorFlow version 2.3.0 detected. Last version known to be fully compatible is 1.14.0 .\n",
      "WARNING:root:Keras version 2.3.1 detected. Last version known to be fully compatible of Keras is 2.2.4 .\n"
     ],
     "output_type": "stream"
    },
    {
     "data": {
      "text/plain": "0.9451651731978066"
     },
     "metadata": {},
     "output_type": "execute_result",
     "execution_count": 32
    }
   ],
   "source": [
    "import coremltools\n",
    "from coremltools.converters import sklearn\n",
    "\n",
    "#Decision Tree\n",
    "dt_model = DecisionTreeClassifier()\n",
    "dt_model.fit(train_, label_)\n",
    "\n",
    "coreml_model = sklearn.convert(dt_model, key_features, 'output')\n",
    "coreml_model.save('coreml_dt.mlmodel')\n",
    "\n",
    "dt_predictions = dt_model.predict(test_)\n",
    "accuracy_score(label_t, dt_predictions)"
   ]
  },
  {
   "cell_type": "code",
   "execution_count": 33,
   "metadata": {
    "pycharm": {
     "is_executing": false,
     "name": "#%%\n"
    }
   },
   "outputs": [
    {
     "name": "stdout",
     "text": [
      "1\n"
     ],
     "output_type": "stream"
    },
    {
     "data": {
      "text/plain": "0.9451651731978066"
     },
     "metadata": {},
     "output_type": "execute_result",
     "execution_count": 33
    }
   ],
   "source": [
    "model = coremltools.models.MLModel('coreml_dt.mlmodel')\n",
    "# model.predict({'input': temp_test_data})\n",
    "pred_out_put = model.predict({'HTML Body':1, 'Hexadecimal URLs':1, 'Domains Count':1, 'TextLinkDifference':1, 'Dots Count':1,\n",
    "                'Email Contains Account Term':1, 'Email Contains Dear Term':1, 'Images as URL':1, 'IP URLs':1,\n",
    "                'Email Contains PayPal Term':1, 'Email Contains Login Term':1, 'Email Contains Bank Term':1, \n",
    "                'Phishing Terms Weight':1, 'Email Contains Verify Term':1,\n",
    "                'Email Contains Agree Term':1, 'Email Contains Suspend Term':1})\n",
    "print(pred_out_put[\"output\"])\n",
    "pred_out_put\n"
   ]
  },
  {
   "cell_type": "code",
   "execution_count": 34,
   "metadata": {
    "pycharm": {
     "is_executing": false,
     "name": "#%%\n"
    }
   },
   "outputs": [
    {
     "name": "stdout",
     "text": [
      "[[10243   316]\n",
      " [  504  3891]]\n",
      "              precision    recall  f1-score   support\n",
      "\n",
      "           0       0.95      0.97      0.96     10559\n",
      "           1       0.92      0.89      0.90      4395\n",
      "\n",
      "    accuracy                           0.95     14954\n",
      "   macro avg       0.94      0.93      0.93     14954\n",
      "weighted avg       0.94      0.95      0.94     14954\n",
      "\n"
     ],
     "output_type": "stream"
    }
   ],
   "source": [
    "print(confusion_matrix(label_t, dt_predictions))\n",
    "print(classification_report(label_t, dt_predictions))\n"
   ]
  },
  {
   "cell_type": "code",
   "execution_count": 35,
   "metadata": {
    "pycharm": {
     "is_executing": false,
     "name": "#%%\n"
    }
   },
   "outputs": [
    {
     "data": {
      "text/plain": "0.945900762337836"
     },
     "metadata": {},
     "output_type": "execute_result",
     "execution_count": 35
    }
   ],
   "source": [
    "\n",
    "#Random Forest\n",
    "rfc = RandomForestClassifier()\n",
    "rfc.fit(train_, label_)\n",
    "\n",
    "coreml_model_rf = sklearn.convert(rfc, key_features, 'output')\n",
    "coreml_model_rf.save('coreml_rf.mlmodel')\n",
    "\n",
    "dt_predictions = rfc.predict(test_)\n",
    "accuracy_score(label_t, dt_predictions)"
   ]
  },
  {
   "cell_type": "code",
   "execution_count": 36,
   "metadata": {
    "pycharm": {
     "is_executing": false,
     "name": "#%%\n"
    }
   },
   "outputs": [
    {
     "name": "stdout",
     "text": [
      "1\n"
     ],
     "output_type": "stream"
    },
    {
     "data": {
      "text/plain": "{'output': 1,\n 'classProbability': {0: 0.009999999999999343, 1: 0.9900000000000007}}"
     },
     "metadata": {},
     "output_type": "execute_result",
     "execution_count": 36
    }
   ],
   "source": [
    "model = coremltools.models.MLModel('coreml_rf.mlmodel')\n",
    "# model.predict({'input': temp_test_data})\n",
    "pred_out_put = model.predict({'HTML Body':1, 'Hexadecimal URLs':1, 'Domains Count':1, 'TextLinkDifference':1, 'Dots Count':1,\n",
    "                'Email Contains Account Term':1, 'Email Contains Dear Term':1, 'Images as URL':1, 'IP URLs':1,\n",
    "                'Email Contains PayPal Term':1, 'Email Contains Login Term':1, 'Email Contains Bank Term':1, \n",
    "                'Phishing Terms Weight':1, 'Email Contains Verify Term':1,\n",
    "                'Email Contains Agree Term':1, 'Email Contains Suspend Term':1})\n",
    "print(pred_out_put[\"output\"])\n",
    "pred_out_put"
   ]
  },
  {
   "cell_type": "code",
   "execution_count": 37,
   "metadata": {
    "pycharm": {
     "is_executing": false,
     "name": "#%%\n"
    }
   },
   "outputs": [
    {
     "name": "stdout",
     "text": [
      "Random Forest\n",
      "[[10226   333]\n",
      " [  476  3919]]\n",
      "              precision    recall  f1-score   support\n",
      "\n",
      "           0       0.96      0.97      0.96     10559\n",
      "           1       0.92      0.89      0.91      4395\n",
      "\n",
      "    accuracy                           0.95     14954\n",
      "   macro avg       0.94      0.93      0.93     14954\n",
      "weighted avg       0.95      0.95      0.95     14954\n",
      "\n"
     ],
     "output_type": "stream"
    }
   ],
   "source": [
    "print(\"Random Forest\")\n",
    "print(confusion_matrix(label_t, dt_predictions))\n",
    "print(classification_report(label_t, dt_predictions))"
   ]
  },
  {
   "cell_type": "code",
   "execution_count": 38,
   "metadata": {
    "pycharm": {
     "is_executing": false,
     "name": "#%%\n"
    }
   },
   "outputs": [
    {
     "name": "stderr",
     "text": [
      "/Users/lidayuan/opt/anaconda3/envs/py37/lib/python3.7/site-packages/sklearn/linear_model/_logistic.py:940: ConvergenceWarning: lbfgs failed to converge (status=1):\n",
      "STOP: TOTAL NO. of ITERATIONS REACHED LIMIT.\n",
      "\n",
      "Increase the number of iterations (max_iter) or scale the data as shown in:\n",
      "    https://scikit-learn.org/stable/modules/preprocessing.html\n",
      "Please also refer to the documentation for alternative solver options:\n",
      "    https://scikit-learn.org/stable/modules/linear_model.html#logistic-regression\n",
      "  extra_warning_msg=_LOGISTIC_SOLVER_CONVERGENCE_MSG)\n"
     ],
     "output_type": "stream"
    },
    {
     "data": {
      "text/plain": "0.9113949444964558"
     },
     "metadata": {},
     "output_type": "execute_result",
     "execution_count": 38
    }
   ],
   "source": [
    "#Logistic Regression\n",
    "log_model = LogisticRegression()\n",
    "log_model.fit(train_, label_)\n",
    "\n",
    "log_predictions = log_model.predict(test_)\n",
    "accuracy_score(label_t, log_predictions)"
   ]
  },
  {
   "cell_type": "code",
   "execution_count": 39,
   "metadata": {
    "pycharm": {
     "is_executing": false,
     "name": "#%%\n"
    }
   },
   "outputs": [
    {
     "name": "stdout",
     "text": [
      "Logistic Regression\n",
      "[[10191   368]\n",
      " [  957  3438]]\n",
      "              precision    recall  f1-score   support\n",
      "\n",
      "           0       0.91      0.97      0.94     10559\n",
      "           1       0.90      0.78      0.84      4395\n",
      "\n",
      "    accuracy                           0.91     14954\n",
      "   macro avg       0.91      0.87      0.89     14954\n",
      "weighted avg       0.91      0.91      0.91     14954\n",
      "\n"
     ],
     "output_type": "stream"
    }
   ],
   "source": [
    "print(\"Logistic Regression\")\n",
    "\n",
    "print(confusion_matrix(label_t, log_predictions))\n",
    "\n",
    "print(classification_report(label_t, log_predictions))\n"
   ]
  },
  {
   "cell_type": "code",
   "execution_count": 40,
   "metadata": {
    "pycharm": {
     "is_executing": false,
     "name": "#%%\n"
    }
   },
   "outputs": [
    {
     "data": {
      "text/plain": "0.9176140163167046"
     },
     "metadata": {},
     "output_type": "execute_result",
     "execution_count": 40
    }
   ],
   "source": [
    "from sklearn import tree\n",
    "\n",
    "###create decision tree classifier object\n",
    "DT = tree.DecisionTreeClassifier(criterion=\"gini\", max_depth=4)\n",
    "##fit decision tree model with training data\n",
    "DT.fit(train_, label_)\n",
    "##test data prediction\n",
    "DT_expost_preds = DT.predict(test_)\n",
    "accuracy_score(label_t, DT_expost_preds)\n",
    "\n"
   ]
  },
  {
   "cell_type": "code",
   "execution_count": 41,
   "metadata": {
    "pycharm": {
     "is_executing": false,
     "name": "#%%\n"
    }
   },
   "outputs": [
    {
     "name": "stdout",
     "text": [
      "gini decision tree classifier \n",
      "[[10333   226]\n",
      " [ 1006  3389]]\n",
      "              precision    recall  f1-score   support\n",
      "\n",
      "           0       0.91      0.98      0.94     10559\n",
      "           1       0.94      0.77      0.85      4395\n",
      "\n",
      "    accuracy                           0.92     14954\n",
      "   macro avg       0.92      0.87      0.89     14954\n",
      "weighted avg       0.92      0.92      0.92     14954\n",
      "\n"
     ],
     "output_type": "stream"
    }
   ],
   "source": [
    "\n",
    "print(\"gini decision tree classifier \")\n",
    "\n",
    "print(confusion_matrix(label_t, DT_expost_preds))\n",
    "print(classification_report(label_t, DT_expost_preds))"
   ]
  },
  {
   "cell_type": "code",
   "execution_count": 42,
   "metadata": {
    "pycharm": {
     "is_executing": false,
     "name": "#%%\n"
    }
   },
   "outputs": [
    {
     "data": {
      "text/plain": "0.9157416075966297"
     },
     "metadata": {},
     "output_type": "execute_result",
     "execution_count": 42
    }
   ],
   "source": [
    "dtree = tree.DecisionTreeClassifier(criterion='entropy', max_depth=4)\n",
    "dtree.fit(train_, label_)\n",
    "\n",
    "coreml_model = sklearn.convert(dtree, key_features, 'output')\n",
    "coreml_model.save('coreml_dtree.mlmodel')\n",
    "\n",
    "pred = dtree.predict(test_)\n",
    "accuracy_score(label_t, pred)\n"
   ]
  },
  {
   "cell_type": "code",
   "execution_count": 43,
   "metadata": {
    "pycharm": {
     "is_executing": false,
     "name": "#%%\n"
    }
   },
   "outputs": [
    {
     "name": "stdout",
     "text": [
      "1\n"
     ],
     "output_type": "stream"
    },
    {
     "data": {
      "text/plain": "{'output': 1, 'classProbability': {0: 0.0, 1: 1.0}}"
     },
     "metadata": {},
     "output_type": "execute_result",
     "execution_count": 43
    }
   ],
   "source": [
    "model = coremltools.models.MLModel('coreml_dtree.mlmodel')\n",
    "# model.predict({'input': temp_test_data})\n",
    "pred_out_put = model.predict({'HTML Body':1, 'Hexadecimal URLs':1, 'Domains Count':1, 'TextLinkDifference':1, 'Dots Count':1,\n",
    "                'Email Contains Account Term':1, 'Email Contains Dear Term':1, 'Images as URL':1, 'IP URLs':1,\n",
    "                'Email Contains PayPal Term':1, 'Email Contains Login Term':1, 'Email Contains Bank Term':1, \n",
    "                'Phishing Terms Weight':1, 'Email Contains Verify Term':1,\n",
    "                'Email Contains Agree Term':1, 'Email Contains Suspend Term':1})\n",
    "print(pred_out_put[\"output\"])\n",
    "pred_out_put"
   ]
  },
  {
   "cell_type": "code",
   "execution_count": 44,
   "metadata": {
    "pycharm": {
     "is_executing": false,
     "name": "#%%\n"
    }
   },
   "outputs": [
    {
     "name": "stdout",
     "text": [
      "entropy decision tree classifier \n",
      "[[10351   208]\n",
      " [ 1052  3343]]\n",
      "              precision    recall  f1-score   support\n",
      "\n",
      "           0       0.91      0.98      0.94     10559\n",
      "           1       0.94      0.76      0.84      4395\n",
      "\n",
      "    accuracy                           0.92     14954\n",
      "   macro avg       0.92      0.87      0.89     14954\n",
      "weighted avg       0.92      0.92      0.91     14954\n",
      "\n"
     ],
     "output_type": "stream"
    }
   ],
   "source": [
    "print(\"entropy decision tree classifier \")\n",
    "\n",
    "print(confusion_matrix(label_t, pred))\n",
    "print(classification_report(label_t, pred))"
   ]
  },
  {
   "cell_type": "code",
   "execution_count": 45,
   "metadata": {
    "pycharm": {
     "is_executing": false,
     "name": "#%%\n"
    }
   },
   "outputs": [
    {
     "name": "stderr",
     "text": [
      "/Users/lidayuan/opt/anaconda3/envs/py37/lib/python3.7/site-packages/sklearn/svm/_base.py:947: ConvergenceWarning: Liblinear failed to converge, increase the number of iterations.\n",
      "  \"the number of iterations.\", ConvergenceWarning)\n"
     ],
     "output_type": "stream"
    },
    {
     "data": {
      "text/plain": "0.9073826400962953"
     },
     "metadata": {},
     "output_type": "execute_result",
     "execution_count": 45
    }
   ],
   "source": [
    "# from sklearn.svm import SVC\n",
    "# only linearSVC can be converted \n",
    "from sklearn.svm import LinearSVC as SVC\n",
    "# svc=SVC(kernel='sigmoid')\n",
    "svc=SVC()\n",
    "inputs = np.asarray(train_, dtype=float)\n",
    "outputs = np.asarray(label_, dtype=int)\n",
    "model_5=svc.fit(inputs, outputs)\n",
    "\n",
    "coreml_model = sklearn.convert(model_5, key_features, 'output')\n",
    "coreml_model.save('coreml_svm.mlmodel')\n",
    "\n",
    "pred = model_5.predict(test_)\n",
    "accuracy_score(label_t,pred)\n"
   ]
  },
  {
   "cell_type": "code",
   "execution_count": 46,
   "metadata": {
    "pycharm": {
     "is_executing": false,
     "name": "#%%\n"
    }
   },
   "outputs": [
    {
     "name": "stderr",
     "text": [
      "/Users/lidayuan/opt/anaconda3/envs/py37/lib/python3.7/site-packages/sklearn/svm/_base.py:947: ConvergenceWarning: Liblinear failed to converge, increase the number of iterations.\n",
      "  \"the number of iterations.\", ConvergenceWarning)\n"
     ],
     "output_type": "stream"
    },
    {
     "data": {
      "text/plain": "0.9077838705363114"
     },
     "metadata": {},
     "output_type": "execute_result",
     "execution_count": 46
    }
   ],
   "source": [
    "# from sklearn.svm import SVC\n",
    "# only linearSVC can be converted \n",
    "from sklearn.svm import LinearSVC as SVC\n",
    "# svc=SVC(kernel='sigmoid')\n",
    "svc=SVC()\n",
    "inputs = np.asarray(train_, dtype=float)\n",
    "outputs = np.asarray(label_, dtype=int)\n",
    "model_5=svc.fit(inputs, outputs)\n",
    "\n",
    "coreml_model = sklearn.convert(model_5, key_features, 'output')\n",
    "coreml_model.save('coreml_svm.mlmodel')\n",
    "\n",
    "pred = model_5.predict(test_)\n",
    "accuracy_score(label_t,pred)\n"
   ]
  },
  {
   "cell_type": "code",
   "execution_count": 47,
   "metadata": {
    "pycharm": {
     "is_executing": false,
     "name": "#%%\n"
    }
   },
   "outputs": [
    {
     "name": "stdout",
     "text": [
      "1\n"
     ],
     "output_type": "stream"
    },
    {
     "data": {
      "text/plain": "{'output': 1,\n 'classProbability': {0: 0.02214861454736361, 1: 0.9778513854526364}}"
     },
     "metadata": {},
     "output_type": "execute_result",
     "execution_count": 47
    }
   ],
   "source": [
    "model = coremltools.models.MLModel('coreml_svm.mlmodel')\n",
    "# model.predict({'input': temp_test_data})\n",
    "pred_out_put = model.predict({'HTML Body':1, 'Hexadecimal URLs':1, 'Domains Count':1, 'TextLinkDifference':1, 'Dots Count':1,\n",
    "                'Email Contains Account Term':1, 'Email Contains Dear Term':1, 'Images as URL':1, 'IP URLs':1,\n",
    "                'Email Contains PayPal Term':1, 'Email Contains Login Term':1, 'Email Contains Bank Term':1, \n",
    "                'Phishing Terms Weight':1, 'Email Contains Verify Term':1,\n",
    "                'Email Contains Agree Term':1, 'Email Contains Suspend Term':1})\n",
    "print(pred_out_put[\"output\"])\n",
    "pred_out_put"
   ]
  },
  {
   "cell_type": "code",
   "execution_count": 48,
   "metadata": {
    "pycharm": {
     "is_executing": false,
     "name": "#%%\n"
    }
   },
   "outputs": [
    {
     "name": "stdout",
     "text": [
      "svm \n",
      "[[10205   354]\n",
      " [ 1025  3370]]\n",
      "              precision    recall  f1-score   support\n",
      "\n",
      "           0       0.91      0.97      0.94     10559\n",
      "           1       0.90      0.77      0.83      4395\n",
      "\n",
      "    accuracy                           0.91     14954\n",
      "   macro avg       0.91      0.87      0.88     14954\n",
      "weighted avg       0.91      0.91      0.91     14954\n",
      "\n"
     ],
     "output_type": "stream"
    }
   ],
   "source": [
    "print(\"svm \")\n",
    "\n",
    "print(confusion_matrix(label_t,pred))\n",
    "print(classification_report(label_t,pred))\n"
   ]
  },
  {
   "cell_type": "code",
   "execution_count": 49,
   "metadata": {
    "pycharm": {
     "is_executing": false,
     "name": "#%%\n"
    }
   },
   "outputs": [
    {
     "data": {
      "text/plain": "0.905175872676207"
     },
     "metadata": {},
     "output_type": "execute_result",
     "execution_count": 49
    }
   ],
   "source": [
    "from sklearn.ensemble import AdaBoostClassifier\n",
    "adc=AdaBoostClassifier(n_estimators=5,learning_rate=1)\n",
    "model_6=adc.fit(train_, label_)\n",
    "\n",
    "pred = model_6.predict(test_)\n",
    "accuracy_score(label_t,pred)\n"
   ]
  },
  {
   "cell_type": "code",
   "execution_count": 50,
   "metadata": {
    "pycharm": {
     "is_executing": false,
     "name": "#%%\n"
    }
   },
   "outputs": [
    {
     "name": "stdout",
     "text": [
      "AdaBoostClassifier \n",
      "[[10360   199]\n",
      " [ 1219  3176]]\n",
      "              precision    recall  f1-score   support\n",
      "\n",
      "           0       0.89      0.98      0.94     10559\n",
      "           1       0.94      0.72      0.82      4395\n",
      "\n",
      "    accuracy                           0.91     14954\n",
      "   macro avg       0.92      0.85      0.88     14954\n",
      "weighted avg       0.91      0.91      0.90     14954\n",
      "\n"
     ],
     "output_type": "stream"
    }
   ],
   "source": [
    "print(\"AdaBoostClassifier \")\n",
    "\n",
    "print(confusion_matrix(label_t,pred))\n",
    "print(classification_report(label_t,pred))"
   ]
  },
  {
   "cell_type": "code",
   "execution_count": 51,
   "metadata": {
    "pycharm": {
     "is_executing": false,
     "name": "#%%\n"
    }
   },
   "outputs": [
    {
     "data": {
      "text/plain": "0.9414872274976595"
     },
     "metadata": {},
     "output_type": "execute_result",
     "execution_count": 51
    }
   ],
   "source": [
    "import numpy as np\n",
    "from xgboost import XGBClassifier\n",
    "\n",
    "xgb=XGBClassifier()\n",
    "# model_7=xgb.fit(temp_train_data, temp_train_label)\n",
    "# pred = model_7.predict(temp_test_data)\n",
    "model_7=xgb.fit(np.asarray(train_, dtype=float), np.asarray(label_, dtype=int))\n",
    "pred = model_7.predict(np.asarray(test_))\n",
    "\n",
    "\n",
    "accuracy_score(label_t,pred)\n"
   ]
  },
  {
   "cell_type": "code",
   "execution_count": 52,
   "metadata": {
    "pycharm": {
     "is_executing": false,
     "name": "#%%\n"
    }
   },
   "outputs": [
    {
     "name": "stdout",
     "text": [
      "xgboost \n",
      "[[10357   202]\n",
      " [  673  3722]]\n",
      "              precision    recall  f1-score   support\n",
      "\n",
      "           0       0.94      0.98      0.96     10559\n",
      "           1       0.95      0.85      0.89      4395\n",
      "\n",
      "    accuracy                           0.94     14954\n",
      "   macro avg       0.94      0.91      0.93     14954\n",
      "weighted avg       0.94      0.94      0.94     14954\n",
      "\n"
     ],
     "output_type": "stream"
    }
   ],
   "source": [
    "print(\"xgboost \")\n",
    "\n",
    "print(confusion_matrix(label_t, pred))\n",
    "print(classification_report(label_t, pred))"
   ]
  },
  {
   "cell_type": "code",
   "execution_count": 53,
   "metadata": {
    "pycharm": {
     "is_executing": false,
     "name": "#%%\n"
    }
   },
   "outputs": [
    {
     "data": {
      "text/plain": "0.9415540992376622"
     },
     "metadata": {},
     "output_type": "execute_result",
     "execution_count": 53
    }
   ],
   "source": [
    "from sklearn.ensemble import GradientBoostingClassifier\n",
    "gb=GradientBoostingClassifier()\n",
    "model_gb=gb.fit(train_, label_)\n",
    "\n",
    "# coreml_model = sklearn.convert(model_gb, key_words, 'output')\n",
    "# coreml_model.save('coreml_gb.mlmodel')\n",
    "\n",
    "pred = model_gb.predict(test_)\n",
    "accuracy_score(label_t, pred)\n"
   ]
  },
  {
   "cell_type": "code",
   "execution_count": 54,
   "metadata": {
    "pycharm": {
     "is_executing": false,
     "name": "#%%\n"
    }
   },
   "outputs": [
    {
     "name": "stdout",
     "text": [
      "AdaBoostClassifier \n",
      "[[10362   197]\n",
      " [  677  3718]]\n",
      "              precision    recall  f1-score   support\n",
      "\n",
      "           0       0.94      0.98      0.96     10559\n",
      "           1       0.95      0.85      0.89      4395\n",
      "\n",
      "    accuracy                           0.94     14954\n",
      "   macro avg       0.94      0.91      0.93     14954\n",
      "weighted avg       0.94      0.94      0.94     14954\n",
      "\n"
     ],
     "output_type": "stream"
    }
   ],
   "source": [
    "print(\"AdaBoostClassifier \")\n",
    "\n",
    "print(confusion_matrix(label_t,pred))\n",
    "print(classification_report(label_t, pred))\n"
   ]
  },
  {
   "cell_type": "code",
   "execution_count": null,
   "outputs": [],
   "source": [],
   "metadata": {
    "collapsed": false,
    "pycharm": {
     "name": "#%%\n"
    }
   }
  },
  {
   "cell_type": "code",
   "execution_count": 4,
   "outputs": [
    {
     "data": {
      "text/plain": "\"../test_data/from_weicheng/normal_txt/from your dvr's snap jpg.txt\""
     },
     "execution_count": 4,
     "metadata": {},
     "output_type": "execute_result"
    }
   ],
   "source": [
    "#test method for normal\n",
    "\n",
    "import os\n",
    "files = []\n",
    "\n",
    "for dirname, _, filenames in os.walk('../test_data/from_weicheng/normal_txt'):\n",
    "    for filename in filenames:\n",
    "        files.append(os.path.join(dirname, filename))\n",
    "files[0]    "
   ],
   "metadata": {
    "collapsed": false,
    "pycharm": {
     "name": "#%%\n"
    }
   }
  },
  {
   "cell_type": "code",
   "execution_count": 5,
   "outputs": [
    {
     "data": {
      "text/plain": "20"
     },
     "execution_count": 5,
     "metadata": {},
     "output_type": "execute_result"
    }
   ],
   "source": [
    "def get_data_content(files):\n",
    "    data = []\n",
    "    for file in files:\n",
    "        with open(file, 'r') as f:\n",
    "            data.append(f.read())\n",
    "    return data\n",
    "    \n",
    "file_contents = get_data_content(files)\n",
    "len(file_contents)"
   ],
   "metadata": {
    "collapsed": false,
    "pycharm": {
     "name": "#%%\n"
    }
   }
  },
  {
   "cell_type": "code",
   "execution_count": 8,
   "outputs": [
    {
     "name": "stdout",
     "output_type": "stream",
     "text": [
      "0\n",
      "0\n",
      "0\n",
      "0\n",
      "0\n",
      "0\n",
      "0\n",
      "0\n",
      "0\n",
      "0\n",
      "If you did not grant access, you should check this activity and secure your account.\n",
      "Check activity\n",
      "You received this email to let you know about important changes to your Google Account and services.\n",
      "© 2020 Google LLC, 1600 Amphitheatre Parkway, Mountain View, CA 94043, USA\n",
      "../test_data/from_weicheng/normal_txt/Security alert for your linked Google Account.txt\n",
      "1\n",
      "0\n",
      "0\n",
      "0\n",
      "\t\tYour account shuhao_z@yahoo.com is listed as the recovery email for zhangshuhao@gmail.com. Don't recognize this account? Click here\n",
      "Google\n",
      "Email - Edison Mail was granted access to your linked Google Account\n",
      "\tzhangshuhao@gmail.com\n",
      "\n",
      "If you did not grant access, you should check this activity and secure your account.\n",
      "Check activity\n",
      "You received this email to let you know about important changes to your Google Account and services.\n",
      "© 2020 Google LLC, 1600 Amphitheatre Parkway, Mountain View, CA 94043, USA\n",
      "../test_data/from_weicheng/normal_txt/Security alert.txt\n",
      "1\n",
      "0\n",
      "\t\tYour account chatplatform@edison.tech is listed as the recovery email for jeffburn2013@gmail.com.\n",
      "Google\n",
      "Recovery email was changed for your linked Google Account\n",
      "\tjeffburn2013@gmail.com\n",
      "The recovery email for your account was changed. If you didn't change it, you should check what happened.\n",
      "Check activity\n",
      "You received this email to let you know about important changes to your Google Account and services.\n",
      "© 2020 Google LLC, 1600 Amphitheatre Parkway, Mountain View, CA 94043, USA\n",
      "../test_data/from_weicheng/normal_txt/security-alert.txt\n",
      "1\n",
      "\n",
      "\n",
      "Please verify your recovery email\n",
      "Verify your email here.\n",
      "\n",
      "Verify Email\n",
      "Onmail\n",
      "\n",
      "1054 S De Anza Blvd, San Jose Ca 95129\n",
      "www.onmail.com\n",
      "../test_data/from_weicheng/normal_txt/Please verify your Onmail recovery email.txt\n",
      "1\n",
      "0\n",
      "0\n"
     ]
    }
   ],
   "source": [
    "import coremltools\n",
    "from coremltools.converters import sklearn\n",
    "\n",
    "num = 0\n",
    "for i in file_contents:\n",
    "    feature_data = EmailFeaturized(i).run()\n",
    "    model = coremltools.models.MLModel('coreml_dt.mlmodel')\n",
    "# model.predict({'input': temp_test_data})\n",
    "    pred_out_put = model.predict(feature_data)\n",
    "    if str(pred_out_put[\"output\"]) != '0':\n",
    "        # print(i)\n",
    "        print(files[num])\n",
    "    print(pred_out_put[\"output\"])\n",
    "    num = num + 1\n"
   ],
   "metadata": {
    "collapsed": false,
    "pycharm": {
     "name": "#%%\n"
    }
   }
  },
  {
   "cell_type": "code",
   "execution_count": 11,
   "outputs": [
    {
     "data": {
      "text/plain": "'../test_data/from_weicheng/phishing_txt/Edison Mail in the of the Best Email Apps for Android.txt'"
     },
     "execution_count": 11,
     "metadata": {},
     "output_type": "execute_result"
    }
   ],
   "source": [
    "#test method for phishing\n",
    "\n",
    "import os\n",
    "files = []\n",
    "\n",
    "for dirname, _, filenames in os.walk('../test_data/from_weicheng/phishing_txt'):\n",
    "    for filename in filenames:\n",
    "        files.append(os.path.join(dirname, filename))\n",
    "files[0]    "
   ],
   "metadata": {
    "collapsed": false,
    "pycharm": {
     "name": "#%%\n"
    }
   }
  },
  {
   "cell_type": "code",
   "execution_count": 12,
   "outputs": [
    {
     "data": {
      "text/plain": "16"
     },
     "execution_count": 12,
     "metadata": {},
     "output_type": "execute_result"
    }
   ],
   "source": [
    "def get_data_content(files):\n",
    "    data = []\n",
    "    for file in files:\n",
    "        with open(file, 'r') as f:\n",
    "            data.append(f.read())\n",
    "    return data\n",
    "    \n",
    "file_contents = get_data_content(files)\n",
    "len(file_contents)"
   ],
   "metadata": {
    "collapsed": false,
    "pycharm": {
     "name": "#%%\n"
    }
   }
  },
  {
   "cell_type": "code",
   "execution_count": 14,
   "outputs": [
    {
     "name": "stdout",
     "output_type": "stream",
     "text": [
      "1\n",
      "0\n",
      "../test_data/from_weicheng/phishing_txt/CSAC Alarm for 2019-10-01 20_00_00 at Home.txt\n",
      "0\n",
      "../test_data/from_weicheng/phishing_txt/CONFIRMATION.txt\n",
      "0\n",
      "../test_data/from_weicheng/phishing_txt/neteasy.txt\n",
      "1\n",
      "0\n",
      "../test_data/from_weicheng/phishing_txt/E-Ticket Confirmation-BRUEFC 08DEC.txt\n",
      "1\n",
      "0\n",
      "../test_data/from_weicheng/phishing_txt/hotmail.txt\n",
      "0\n",
      "../test_data/from_weicheng/phishing_txt/4.txt\n",
      "0\n",
      "../test_data/from_weicheng/phishing_txt/[Email-macOS] Feedback from brian.walker@walkercriminallawyers.com.au.txt\n",
      "0\n",
      "../test_data/from_weicheng/phishing_txt/I will forward the video to your relatives, friends, and co workers.txt\n",
      "1\n",
      "0\n",
      "../test_data/from_weicheng/phishing_txt/File _Copy  of July Bonus 30JULY2020.xls_  has been shared with you..txt\n",
      "0\n",
      "../test_data/from_weicheng/phishing_txt/Update your Email mailsupport@edison.tech now to stay active.txt\n",
      "0\n",
      "../test_data/from_weicheng/phishing_txt/ticket-180841.txt\n",
      "0\n",
      "../test_data/from_weicheng/phishing_txt/ComputerBase Downloads_ Nvidia PhysX System Software 9.19.0218 (Deutsch).txt\n"
     ]
    }
   ],
   "source": [
    "num = 0\n",
    "for i in file_contents:\n",
    "    feature_data = EmailFeaturized(i).run()\n",
    "    model = coremltools.models.MLModel('coreml_dt.mlmodel')\n",
    "# model.predict({'input': temp_test_data})\n",
    "    pred_out_put = model.predict(feature_data)\n",
    "    print(pred_out_put[\"output\"])\n",
    "    if str(pred_out_put[\"output\"]) != '1':\n",
    "        # print(i)\n",
    "        print(files[num])\n",
    "    num = num + 1\n",
    "\n"
   ],
   "metadata": {
    "collapsed": false,
    "pycharm": {
     "name": "#%%\n"
    }
   }
  }
 ],
 "metadata": {
  "kernelspec": {
   "display_name": "Python 3",
   "language": "python",
   "name": "python3"
  },
  "language_info": {
   "codemirror_mode": {
    "name": "ipython",
    "version": 3
   },
   "file_extension": ".py",
   "mimetype": "text/x-python",
   "name": "python",
   "nbconvert_exporter": "python",
   "pygments_lexer": "ipython3",
   "version": "3.7.6"
  }
 },
 "nbformat": 4,
 "nbformat_minor": 1
}